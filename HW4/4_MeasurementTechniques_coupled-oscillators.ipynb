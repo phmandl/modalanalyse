{
 "cells": [
  {
   "cell_type": "code",
   "execution_count": null,
   "metadata": {},
   "outputs": [],
   "source": [
    "from scipy.io import mmread\n",
    "import scipy.sparse\n",
    "\n",
    "import numpy as np\n",
    "\n",
    "import matplotlib as matplot\n",
    "import matplotlib.pyplot as plt\n",
    "matplot.rcParams.update({'figure.max_open_warning': 0})\n",
    "\n",
    "# Uncomment the following line and edit the path to ffmpeg if you want to write the video files!\n",
    "#plt.rcParams['animation.ffmpeg_path'] ='N:\\\\Applications\\\\ffmpeg\\\\bin\\\\ffmpeg.exe'\n",
    "\n",
    "from mpl_toolkits.mplot3d import Axes3D\n",
    "\n",
    "import sys\n",
    "np.set_printoptions(threshold=sys.maxsize)\n",
    "# np.set_printoptions(threshold=20)\n",
    "\n",
    "from numpy.fft import rfft, rfftfreq\n",
    "\n",
    "from utility_functions import Newmark, nullspace"
   ]
  },
  {
   "cell_type": "markdown",
   "metadata": {},
   "source": [
    "Exercise 4\n",
    "=========\n",
    "\n",
    "This exercise is focused on the influence of boundary conditions on the natural frequencies and modes, as well as on the estimation of transfer functions from time domain data.\n",
    "\n",
    "You can re-use many things of previous ecercises ..."
   ]
  },
  {
   "cell_type": "code",
   "execution_count": null,
   "metadata": {},
   "outputs": [],
   "source": [
    "M = csc_matrix(mmread('Ms.mtx')) # mass matrix\n",
    "K = csc_matrix(mmread('Ks.mtx')) # stiffness matrix\n",
    "C = csc_matrix(K.shape) # a zeros damping matrix\n",
    "X = mmread('X.mtx') # coodinate matrix with columns corresponding to x,y,z position of the nodes\n",
    "\n",
    "N = X.shape[0] # number of nodes\n",
    "\n",
    "nprec = 6 # precision for finding uniqe values\n",
    "\n",
    "# get grid vectors (the unique vectors of the x,y,z coodinate-grid)\n",
    "x = np.unique(np.round(X[:,0],decimals=nprec))\n",
    "y = np.unique(np.round(X[:,1],decimals=nprec))\n",
    "z = np.unique(np.round(X[:,2],decimals=nprec))\n",
    "\n",
    "# grid matrices\n",
    "Xg = np.reshape(X[:,0],[len(y),len(x),len(z)])\n",
    "Yg = np.reshape(X[:,1],[len(y),len(x),len(z)])\n",
    "Zg = np.reshape(X[:,2],[len(y),len(x),len(z)])\n",
    "\n",
    "tol = 1e-12\n",
    "\n",
    "# constrain all edges\n",
    "Nn = np.argwhere(np.abs(X[:,1]-X[:,1].max())<tol).ravel() # Node indices of N-Edge nodes\n",
    "No = np.argwhere(np.abs(X[:,0]-X[:,0].max())<tol).ravel() # Node indices of O-Edge nodes\n",
    "Ns = np.argwhere(np.abs(X[:,1]-X[:,1].min())<tol).ravel() # Node indices of S-Edge nodes\n",
    "Nw = np.argwhere(np.abs(X[:,0]-X[:,0].min())<tol).ravel() # Node indices of W-Edge nodes\n",
    "\n",
    "Nnosw = np.unique(np.concatenate((Nn,No,Ns,Nw))) #concatenate all and only take unique (remove the double ones)\n",
    "\n",
    "# special points and the associated nodes\n",
    "P1 = [0.2,0.12,0.003925]\n",
    "N1 = np.argmin(np.sum((X-P1)**2,axis=1))\n",
    "P2 = [0.0,-0.1,0.003925]\n",
    "N2 = np.argmin(np.sum((X-P2)**2,axis=1))\n",
    "\n",
    "# all node on the top of the plate\n",
    "Nt = np.argwhere(np.abs(X[:,2]-X[:,2].max())<tol).ravel()\n",
    "\n",
    "# indices of x, y, and z DoFs in the global system\n",
    "# can be used to get DoF-index in global system, e.g. for y of node n by Iy[n]\n",
    "Ix = np.arange(N)*3 # index of x-dofs\n",
    "Iy = np.arange(N)*3+1\n",
    "Iz = np.arange(N)*3+2\n",
    "\n",
    "# select which indices in the global system must be constrained\n",
    "If = np.array([Ix[Nnosw],Iy[Nnosw],Iz[Nnosw]]).ravel() # dof indices of fix constraint\n",
    "Ic = np.array([(i in If) for i in np.arange(3*N)]) # boolean array of constraind dofs"
   ]
  },
  {
   "cell_type": "markdown",
   "metadata": {},
   "source": [
    "Influence of Boundary Conditions\n",
    "------------------------------------------------\n",
    "### Task 1: Soft Springs\n",
    "Support the plate by flexible springs attached to the corners, and compare the resulting natural frequencies of the first ~10 modes with the ones of the theoretical \"free\" palte.\n",
    "* Assume 4 springs at the corners in z-direction, consisting of rubber ($E$=0.1GPa) strings (diameter 2mm) and a length of 1m. How much will the springs elongate under gravity loading?\n",
    "* How much do the natural frequencies change realteive to the \"free\" plate? Do the modes change?\n",
    "* How should you attach the plate (using strings of the given dimension) to have the least impact on natural frequencies and mode shapes?\n",
    "\n",
    "> Hint: connecting a spring to ground corresponds to adding the spring constant to the diagonal element of the stiffness matrix."
   ]
  },
  {
   "cell_type": "code",
   "execution_count": null,
   "metadata": {
    "scrolled": true
   },
   "outputs": [],
   "source": [
    "#find corners\n",
    "# special points and the associated nodes\n",
    "\n",
    "P1 = [x.max(),y.max(),z.max()]\n",
    "C1 = np.argmin(np.sum((X-P1)**2,axis=1))\n",
    "\n",
    "P2 = [x.min(),y.max(),z.max()]\n",
    "C2 = np.argmin(np.sum((X-P2)**2,axis=1))\n",
    "\n",
    "P3 = [x.min(),y.min(),z.max()]\n",
    "C3 = np.argmin(np.sum((X-P3)**2,axis=1))\n",
    "\n",
    "P4 = [x.max(),y.min(),z.max()]\n",
    "C4 = np.argmin(np.sum((X-P4)**2,axis=1))"
   ]
  },
  {
   "cell_type": "code",
   "execution_count": null,
   "metadata": {},
   "outputs": [],
   "source": [
    "fig,ax = plt.subplots(subplot_kw={'projection':'3d'})\n",
    "\n",
    "# Plot it in 3D\n",
    "ax.scatter(X[:,0],X[:,1],X[:,2],s=5,label='undeformed') # undeformed\n",
    "\n",
    "ax.scatter(X[C1,0],X[C1,1],X[C1,2],s=100,marker='x',label='Spring') # corner\n",
    "ax.scatter(X[C2,0],X[C2,1],X[C2,2],s=100,marker='x',label='Spring') # corner\n",
    "ax.scatter(X[C3,0],X[C3,1],X[C3,2],s=100,marker='x',label='Spring') # corner\n",
    "ax.scatter(X[C4,0],X[C4,1],X[C4,2],s=100,marker='x',label='Spring') # corner\n",
    "\n",
    "\n",
    "ax.set_xlabel('x')\n",
    "ax.set_ylabel('y')\n",
    "ax.set_zlabel('z')\n",
    "ax.legend(loc = 3)"
   ]
  },
  {
   "cell_type": "markdown",
   "metadata": {},
   "source": [
    "A bar of length $l_0$ and cross-sectional area $A$ is subjected to a tensile or compressive load (force) along the $z$-axis and causes stress in the bar in the $z$-direction:\n",
    "\n",
    "\\begin{equation}\n",
    "    \\sigma_x  = \\frac{F_z}{A}\n",
    "\\end{equation}\n",
    "\n",
    "This results in an elongation $\\varepsilon_z$ of the bar in $z$ direction:\n",
    "\n",
    "\\begin{equation}\n",
    "    \\varepsilon_z  = \\frac{\\Delta l }{l_0}\n",
    "\\end{equation}\n",
    "\n",
    "The elongation of the bar depends on the force acting, in this case the stress in the bar. The proportionality constant $E$ represents the modulus of elasticity of the material of which the bar consists.\n",
    "\n",
    "\\begin{equation}\n",
    "    \\sigma_z = E \\cdot \\varepsilon_z\n",
    "\\end{equation}\n",
    "\n",
    "By inserting the first two formulas and rearranging them, the following representation is obtained:\n",
    "\n",
    "\\begin{equation}\n",
    "    F_z  = E \\cdot A \\cdot \\frac{\\Delta l}{l_0} \\\\\n",
    "    F_z  = k_{spring} \\cdot \\Delta l\n",
    "\\end{equation}\n",
    "\n",
    "Hooke's law can thus be applied where the acting force depends almost linearly on the deflection or extension, and is a generalization of Hooke's law for springs.\n",
    "\n",
    "We can finally write the spring stiffness as\n",
    "\n",
    "\\begin{equation}\n",
    "    k_{spring} = \\frac{E \\cdot A}{l_0}\n",
    "\\end{equation}\n"
   ]
  },
  {
   "cell_type": "code",
   "execution_count": null,
   "metadata": {},
   "outputs": [],
   "source": [
    "# Calculate the spring stiffness\n",
    "E = 0.1*1e9 #N/m^2\n",
    "d = 2.0*1e-3 #m\n",
    "l0 = 1.0 #m\n",
    "A = d**2*np.pi/4 #m^2\n",
    "k_spring = E*A/l0 #N/m\n",
    "\n",
    "# calculate static deformation\n",
    "g = 9.81 #m/s^2\n",
    "m_ges = np.sum(M[Ix,Ix]) #kg\n",
    "F_ges = m_ges*g #N\n",
    "k_spring_ges = 4*k_spring\n",
    "dL = F_ges/k_spring_ges\n",
    "print('The springs elongate under gravity: ' + str(dL) + ' m')\n",
    "print('The springs elongate under gravity: ' + str(dL*1e3) + ' mm')"
   ]
  },
  {
   "cell_type": "markdown",
   "metadata": {},
   "source": [
    "#### First we calculate the frequencies without the springs attached"
   ]
  },
  {
   "cell_type": "code",
   "execution_count": null,
   "metadata": {},
   "outputs": [],
   "source": [
    "# only compute a subset of modes of the reduced model\n",
    "k = 10\n",
    "W,V = eigsh(K,k,M,sigma=0,which='LM',maxiter = 1000)"
   ]
  },
  {
   "cell_type": "markdown",
   "metadata": {},
   "source": [
    "#### Now calculate everything with springs attached"
   ]
  },
  {
   "cell_type": "code",
   "execution_count": null,
   "metadata": {},
   "outputs": [],
   "source": [
    "# Build a new K-Matrix\n",
    "Ks = K[:,:]\n",
    "\n",
    "# Add springs to the corners\n",
    "Ks[Iz[C1],Iz[C1]] += k_spring\n",
    "Ks[Iz[C2],Iz[C2]] += k_spring\n",
    "Ks[Iz[C3],Iz[C3]] += k_spring\n",
    "Ks[Iz[C4],Iz[C4]] += k_spring"
   ]
  },
  {
   "cell_type": "code",
   "execution_count": null,
   "metadata": {},
   "outputs": [],
   "source": [
    "Ws,Vs = eigsh(Ks,k,M,sigma=0,which='LM',maxiter = 1000)"
   ]
  },
  {
   "cell_type": "code",
   "execution_count": null,
   "metadata": {},
   "outputs": [],
   "source": [
    "def plotmodes(V_var,W_var) :\n",
    "    for i,v in enumerate(V_var.T) : # iterate over eigenvectors\n",
    "        c = np.reshape(v[Iz[Nt]],[len(y),len(x)])\n",
    "        lim = np.max(np.abs(c))\n",
    "        fig,ax = plt.subplots(nrows=1, ncols=1,figsize=[3.5,2])\n",
    "        ax.contourf(x,y,c,cmap=plt.get_cmap('RdBu'),vmin=-lim,vmax=lim)\n",
    "        ax.set_aspect('equal')\n",
    "        ax.set_title('Mode %i @ %f Hz'%(i+1,np.sqrt(abs(W_var[i]))/2/np.pi))\n",
    "        ax.set_xticks([])\n",
    "        ax.set_yticks([])\n",
    "        fig.tight_layout()"
   ]
  },
  {
   "cell_type": "code",
   "execution_count": null,
   "metadata": {},
   "outputs": [],
   "source": [
    "# Plot Modes\n",
    "plotmodes(V,W)"
   ]
  },
  {
   "cell_type": "code",
   "execution_count": null,
   "metadata": {},
   "outputs": [],
   "source": [
    "# Plot modes\n",
    "plotmodes(Vs,Ws)"
   ]
  },
  {
   "cell_type": "markdown",
   "metadata": {},
   "source": [
    "### Clamped Plate\n",
    "The plate is clamped at all edges. \n",
    "To clamp a real plate at the outer dimensions of our model plate, we fabricate it larger by a distance $d_s = 1.5 t_s$, where $t_s$ is the thickness of the plate, and clamp it between two stiff flanges.\n",
    "\n",
    "To estimate the stiffness of this clamped support, we use a very simplified model: Assume the flanges are rigid, but we use a layer of rubber with thickness $h_s$=1mm between them. \n",
    "The vertical bedding stiffness (stress per displacement) of this support can easily be computed: $k_z = 2 E_s/h_s$\n",
    "To compute the equivalent springs stiffness to apply to the nodes, multiply the bedding stiffness by appropriate \"nodal areas\".\n",
    "To model the response of the support with respect to rotations of the plate, apply a bedding stiffness in normal direction of the vertical plate edges (i.e. springs acting in x- or y-directions).\n",
    "The bedding stiffness in this case can be estimated by requiring that a small rotation delivers the same bending moment for both cases: one obtains $k_x=k_y=8(t_s/d_s)^3k_z$.\n",
    "\n",
    "Compare the theoretical clamped model (as in the previous examples), with the more realistic \"flexible\" clamping described above.\n",
    "* what are the difference in natural frequencies?\n",
    "* plot the mode shapes? Do they differ?"
   ]
  },
  {
   "cell_type": "code",
   "execution_count": null,
   "metadata": {},
   "outputs": [],
   "source": [
    "# Calculate distance\n",
    "ts = z.max() - z.min() #in m\n",
    "b = y.max() - y.min() #in m\n",
    "h = x.max() - x.min() #in m\n",
    "\n",
    "dX = h/(len(x)-1) #Grid spacing\n",
    "dY = b/(len(y)-1) #Grid spacing\n",
    "dZ = ts/(len(z)-1) #Grid spacing\n",
    "\n",
    "ds = 1.5*ts #plate larger by ds in m"
   ]
  },
  {
   "cell_type": "code",
   "execution_count": null,
   "metadata": {},
   "outputs": [],
   "source": [
    "# rubber flanges\n",
    "hs = 1*1e-3 #m\n",
    "\n",
    "# Stiffness\n",
    "kz = 2*E/hs #N/m\n",
    "kxy = 8*(ts/ds)**3*kz #N/m"
   ]
  },
  {
   "cell_type": "code",
   "execution_count": null,
   "metadata": {},
   "outputs": [],
   "source": [
    "# calculate equivalent springs stiffness\n",
    "Ao = b*h #in m^2\n",
    "At = (b+2*ds)*(h+2*ds) #in m^2\n",
    "Ad = At - Ao #in m^2\n",
    "\n",
    "dAx = dY*dZ  #nodal area\n",
    "dAy = dX*dZ  #nodal area\n",
    "dAz = dY*dX  #nodal area\n",
    "\n",
    "kxy = kxy*dAz/Ad\n",
    "kz = kz*dAz/Ad"
   ]
  },
  {
   "cell_type": "code",
   "execution_count": null,
   "metadata": {},
   "outputs": [],
   "source": [
    "N1 = np.argwhere((np.abs(X[:,1]-X[:,1].max()) + np.abs(X[:,2]-X[:,2].max())) < tol).ravel()\n",
    "N2 = np.argwhere((np.abs(X[:,1]-X[:,1].max()) + np.abs(X[:,2]-X[:,2].min())) < tol).ravel()\n",
    "\n",
    "N3 = np.argwhere((np.abs(X[:,0]-X[:,0].max()) + np.abs(X[:,2]-X[:,2].max())) < tol).ravel()\n",
    "N4 = np.argwhere((np.abs(X[:,0]-X[:,0].max()) + np.abs(X[:,2]-X[:,2].min())) < tol).ravel()\n",
    "\n",
    "N5 = np.argwhere((np.abs(X[:,1]-X[:,1].min()) + np.abs(X[:,2]-X[:,2].max())) < tol).ravel()\n",
    "N6 = np.argwhere((np.abs(X[:,1]-X[:,1].min()) + np.abs(X[:,2]-X[:,2].min())) < tol).ravel()\n",
    "\n",
    "N7 = np.argwhere((np.abs(X[:,0]-X[:,0].min()) + np.abs(X[:,2]-X[:,2].max())) < tol).ravel()\n",
    "N8 = np.argwhere((np.abs(X[:,0]-X[:,0].min()) + np.abs(X[:,2]-X[:,2].min())) < tol).ravel()\n",
    "\n",
    "Nb = np.unique(np.concatenate((N1,N2,N3,N4,N5,N6,N7,N8)))"
   ]
  },
  {
   "cell_type": "code",
   "execution_count": null,
   "metadata": {},
   "outputs": [],
   "source": [
    "fig,ax = plt.subplots(subplot_kw={'projection':'3d'})\n",
    "\n",
    "# Plot it in 3D\n",
    "ax.scatter(X[:,0],X[:,1],X[:,2],s=5,label='undeformed') # undeformed\n",
    "\n",
    "ax.scatter(X[Nb,0],X[Nb,1],X[Nb,2],s=100,marker='x',label='clamped edges') # corner\n",
    "\n",
    "ax.set_xlabel('x')\n",
    "ax.set_ylabel('y')\n",
    "ax.set_zlabel('z')\n",
    "ax.legend(loc = 3)"
   ]
  },
  {
   "cell_type": "code",
   "execution_count": null,
   "metadata": {},
   "outputs": [],
   "source": [
    "# Build a new K-Matrix\n",
    "Kc2 = K[:,:]\n",
    "\n",
    "for i,node in enumerate(Nb) :\n",
    "    # Add springs to the corners\n",
    "    Kc2[node*3,node*3] += kxy\n",
    "    Kc2[node*3+1,node*3+1] += kxy\n",
    "    Kc2[node*3+2,node*3+2] += kz"
   ]
  },
  {
   "cell_type": "code",
   "execution_count": null,
   "metadata": {},
   "outputs": [],
   "source": [
    "# compute the reduced system\n",
    "Kc = csc_matrix(K[np.ix_(~Ic,~Ic)])\n",
    "Mc = csc_matrix(M[np.ix_(~Ic,~Ic)])\n",
    "Cc = csc_matrix(C[np.ix_(~Ic,~Ic)])"
   ]
  },
  {
   "cell_type": "code",
   "execution_count": null,
   "metadata": {},
   "outputs": [],
   "source": [
    "# only compute a subset of modes of the reduced model\n",
    "k = 10\n",
    "Wc2,Vc2 = eigsh(Kc2,k,M,sigma=0,which='LM',maxiter = 1000)"
   ]
  },
  {
   "cell_type": "code",
   "execution_count": null,
   "metadata": {},
   "outputs": [],
   "source": [
    "# only compute a subset of modes of the reduced model\n",
    "k = 10\n",
    "Wc,Vc = eigsh(Kc,k,Mc,sigma=0,which='LM',maxiter = 1000)\n",
    "\n",
    "Vc_full = np.zeros_like(Vc2)\n",
    "Vc_full[~Ic] = Vc"
   ]
  },
  {
   "cell_type": "code",
   "execution_count": null,
   "metadata": {},
   "outputs": [],
   "source": [
    "# Plot modes\n",
    "plotmodes(Vc2,Wc2)"
   ]
  },
  {
   "cell_type": "code",
   "execution_count": null,
   "metadata": {},
   "outputs": [],
   "source": [
    "# Plot modes\n",
    "plotmodes(Vc_full,Wc)"
   ]
  },
  {
   "cell_type": "markdown",
   "metadata": {},
   "source": [
    "Shaker and Interactions\n",
    "----------------------------------"
   ]
  },
  {
   "cell_type": "markdown",
   "metadata": {},
   "source": [
    "### Shaker Model\n",
    "\n",
    "Assume a shaker model with table (mass $m_t$=2kg) and body (mass $m_b$=10kg) connedcted by spring and dashpot ($k_t$=20kN/m and $c_t$=20Ns/m, respectively). \n",
    "The body is flexibly connected to the ground with support stiffness $k_b$=160MN/m and damping constant $c_b$=400Ns/m.\n",
    "The coil has an ohmic resistance $R$=0.5Ohm and inductance $L$=100$\\mu$H.\n",
    "Electromagnetic force and induced voltage (electromotive force) are related to the current and relative velocity, respecively, by $B_l$=50Tm.\n",
    "\n",
    "* Plot the transfer function of the coil current with respect to voltage excitation\n",
    "* Plot the transfer functions of the displacment dofs with respect to voltage excitation"
   ]
  },
  {
   "cell_type": "markdown",
   "metadata": {},
   "source": [
    "### Answer:\n",
    "We model the shaker by an ODE system of the form \n",
    "$$\n",
    "\\boldsymbol{M}\\ddot{\\boldsymbol{x}}+\\boldsymbol{c}\\dot{\\boldsymbol{x}}+\\boldsymbol{K}\\boldsymbol{x} = \\boldsymbol{f(t)}\n",
    "$$\n",
    "Note: The model is depicted in the lecture slides on p.22(116) of lecture 4.\n",
    "The system's equations can be derived via balance laws for the mechanical (Newton's law) and electrical (Kirchoff's voltage law (KVL)) systems. For the coupling equations we have: \n",
    "First, the magnetic force \n",
    "$$\n",
    "F_m=B_l i(t),\n",
    "$$\n",
    "which couples the electrical to the mechanical system. \n",
    "Second, the change in relative displacement from the mechanical system induces a voltage \n",
    "$$\n",
    "V_e(t) = B_l (\\dot{x_t}-\\dot{x_b})\n",
    "$$\n",
    "on the electrical system. We choose $ \\boldsymbol{x}=[x_t\\quad x_b\\quad V_e]^T $ and recast the equations into matrix form\n",
    "\n",
    "$$\n",
    "\\begin{bmatrix}\n",
    "m_t & 0 & 0\\\\\n",
    "0 & m_b & 0 \\\\\n",
    "0 & 0 & 0 \\\\\n",
    "\\end{bmatrix}\n",
    "\\ddot{\\boldsymbol{x}}\n",
    "+\n",
    "\\begin{bmatrix}\n",
    "c_t & -c_t & 0\\\\\n",
    "-c_t & c_t+c_b & 0 \\\\\n",
    "B_l & -B_l & L \\\\\n",
    "\\end{bmatrix}\n",
    "\\dot{\\boldsymbol{x}}\n",
    "+\n",
    "\\begin{bmatrix}\n",
    "k_t & -k_t & -B_l\\\\\n",
    "-k_t & k_t+k_b & B_l \\\\\n",
    "0 & 0 & R \\\\\n",
    "\\end{bmatrix}\n",
    "\\boldsymbol{x}\n",
    "=\n",
    "\\begin{bmatrix}\n",
    "0\\\\\n",
    "0\\\\\n",
    "V(t)\\\\\n",
    "\\end{bmatrix}.\n",
    "$$"
   ]
  },
  {
   "cell_type": "code",
   "execution_count": null,
   "metadata": {},
   "outputs": [],
   "source": [
    "# Mechanical parameters\n",
    "m_t = 2 # [kg] mass table\n",
    "m_b = 10 # [kg] mass body\n",
    "k_t = 20E3 # [N/m] spring top\n",
    "c_t = 20E3 # [Ns/m] dashpot top\n",
    "k_b = 160E6 # [N/m] spring support\n",
    "c_b = 400 # [Ns/m] dashpot support\n",
    "\n",
    "# Electrical parameters\n",
    "R = 0.5 # [Ohm] coil resistance\n",
    "L = 100E-6 # [T] coil inductance\n",
    "B_l = 50 # [Tm] magnetic flux density * length of coil\n",
    "\n",
    "# Assign system matrices M, C and K\n",
    "M_shaker = np.diag([m_t, m_b, 0])\n",
    "C_shaker = np.array([\n",
    "        [c_t, -c_t, 0],\n",
    "        [-c_t, c_t + c_b, 0],\n",
    "        [B_l, -B_l, L]\n",
    "])\n",
    "\n",
    "K_shaker = np.array([\n",
    "        [k_t, -k_t, -B_l],\n",
    "        [-k_t, k_t + k_b, B_l],\n",
    "        [0, 0, R]\n",
    "])"
   ]
  },
  {
   "cell_type": "markdown",
   "metadata": {},
   "source": [
    "### How to obtain TF \n",
    "-to be done-"
   ]
  },
  {
   "cell_type": "code",
   "execution_count": null,
   "metadata": {},
   "outputs": [],
   "source": [
    "f = np.linspace(0, 10E3, 100) # [Hz] frequency array \n",
    "w = 2*np.pi*f # [rad/s] angular freq. array\n"
   ]
  },
  {
   "cell_type": "markdown",
   "metadata": {},
   "source": [
    "### Interactions between Shaker and Plate\n",
    "\n",
    "Couple the plate and shaker model using a flexible steel stinger (rod) with a length $l_r$=100mm and diameter $d_r$=4mm. The rod should connect to the plate at $P_1$=(0.2,0.12,0.003925)m, and excite the plate in z-direction.\n",
    "\n",
    "* Compute the coupled natural frequencies of the system.\n",
    "* Plot the mode shapes.\n",
    "\n",
    "Tipps:\n",
    "* Combine the plate system matrix and the shaker model in a single matrix\n",
    "* The rod/stinger can be included in the shaler model by adding a displacement dof for the end (the start corresponds to the table displacement). The mass off the stinger can be lumped (distributed) to the two dofs.\n",
    "* You can combine sparse matrices by using `scipy.sparse.hstack()` and `scipy.sparse.vstack()`\n",
    "* Use the nullspace to connect the dof of the rod to the dof on the plate"
   ]
  },
  {
   "cell_type": "code",
   "execution_count": null,
   "metadata": {},
   "outputs": [],
   "source": [
    "# Attach at\n",
    "P1 = [0.2,0.12,0.003925]\n",
    "\n",
    "# input parameters\n",
    "l_rod = 0.1 # [m] length rod\n",
    "d_rod = 4E-3 # [m] diameter rod\n",
    "E = 210E9 # [Pa] Young's modulus steel\n",
    "density = 7850 # [kg/m^3] Density of generic steel\n",
    "\n",
    "# Steel stinger\n",
    "A_rod = d_rod**2*np.pi/4 # Cross sectional area\n",
    "k_rod = E*A_rod/l_rod # Stiffness constant\n",
    "m_rod = density*A_rod*l_rod # Mass\n"
   ]
  },
  {
   "cell_type": "markdown",
   "metadata": {},
   "source": [
    "### How to couple the two systems?\n",
    "EXPLANATION ... -to be done-"
   ]
  },
  {
   "cell_type": "code",
   "execution_count": null,
   "metadata": {},
   "outputs": [],
   "source": [
    "# Add steel stinger/rod to shaker system (sr = shaker+rod)\n",
    "\n",
    "M_shaker_added_mass = M_shaker\n",
    "M_shaker_added_mass[0,0] = M_shaker[0,0] + m_rod/2 # Add m_rod/2 from rod to top of shaker\n",
    "\n",
    "M_sr = np.block([ \n",
    "    [m_rod/2, np.zeros((1,3))],\n",
    "    [np.zeros((3,1)), M_shaker]\n",
    "])\n",
    "\n",
    "C_sr = np.block([\n",
    "    [np.zeros((1,4))],\n",
    "    [np.zeros((3,1)), C_shaker]\n",
    "])\n",
    "\n",
    "K_shaker_added_mass = M_shaker\n",
    "M_shaker_added_mass[0,0] = M_shaker[0,0] + m_rod/2 # Add m_rod/2 from rod to top of shaker\n",
    "\n",
    "K_sr = np.array([ # NOTE: Think about a more elegant way to do this since there exists a block matrix pattern!\n",
    "    [k_rod, -k_rod, 0, 0],\n",
    "    [-k_rod, k_rod + k_t, -k_t, -B_l],\n",
    "    [0,-k_t, k_t + k_b, B_l],\n",
    "    [0, 0, 0, R]\n",
    "])\n",
    "\n",
    "# Combine system matrices\n",
    "M_plateshaker_uncoupled = scipy.sparse.block_diag((M, M_sr))\n",
    "C_plateshaker_uncoupled = scipy.sparse.block_diag((C, C_sr))\n",
    "K_plateshaker_uncoupled = scipy.sparse.block_diag((K, K_sr))\n",
    "\n",
    "# Couple rod and plate at P1\n",
    "\n",
    "N1 = np.argmin(np.sum((X-P1)**2,axis=1)) # Select node\n",
    "DOF_rod = M_plateshaker_uncoupled.shape[0] - 4 # Select DOF of rod\n",
    "B_rod_plate = np.zeros((1, M_plateshaker_uncoupled.shape[0])).T # Build constraint matrix\n",
    "B_rod_plate[Iz[N1]] = 1 # DOF Iz[N1] = DOF rod constraint\n",
    "B_rod_plate[DOF_rod] = -1\n",
    "B_rod_plate = B_rod_plate.T\n",
    "\n",
    "Q_rod_plate = csc_matrix(nullspace(B_rod_plate)) # Get nullspace for constraint matrix B_rod_plate\n",
    "M_plateshaker = Q_rod_plate.T @ M_plateshaker_uncoupled @ Q_rod_plate # Constrain by similarity transformation\n",
    "C_plateshaker = Q_rod_plate.T @ C_plateshaker_uncoupled @ Q_rod_plate\n",
    "K_plateshaker = Q_rod_plate.T @ K_plateshaker_uncoupled @ Q_rod_plate\n"
   ]
  },
  {
   "cell_type": "markdown",
   "metadata": {},
   "source": [
    "\n",
    "\n",
    "Data Display and FRF Estimation\n",
    "-----------------------------------------------\n",
    "\n",
    "### Task 2: Chrip Signal\n",
    "Define a Chirp signal to cover the first 10 modes of the (realistically) clamped plate. Use a signal length of 0.5s.\n",
    "* Plot time signal and frequency spectrum of the signal."
   ]
  },
  {
   "cell_type": "code",
   "execution_count": null,
   "metadata": {},
   "outputs": [],
   "source": []
  },
  {
   "cell_type": "markdown",
   "metadata": {},
   "source": [
    "* What start and end frequency did you choose?"
   ]
  },
  {
   "cell_type": "code",
   "execution_count": null,
   "metadata": {},
   "outputs": [],
   "source": []
  },
  {
   "cell_type": "markdown",
   "metadata": {},
   "source": [
    "### Shaker Experiment\n",
    "Use the coupled shaker and plate model, and excite the shaker with the Chirp signals as voltage input.\n",
    "Compute the transient response. \n",
    "Assume Rayleigh damping with $\\alpha=2.15$ and $\\beta=3e-5$ for the plate."
   ]
  },
  {
   "cell_type": "code",
   "execution_count": null,
   "metadata": {},
   "outputs": [],
   "source": []
  },
  {
   "cell_type": "code",
   "execution_count": null,
   "metadata": {},
   "outputs": [],
   "source": []
  },
  {
   "cell_type": "code",
   "execution_count": null,
   "metadata": {},
   "outputs": [],
   "source": []
  },
  {
   "cell_type": "markdown",
   "metadata": {},
   "source": [
    "* Plot the time signal of the coil current"
   ]
  },
  {
   "cell_type": "code",
   "execution_count": null,
   "metadata": {},
   "outputs": [],
   "source": []
  },
  {
   "cell_type": "markdown",
   "metadata": {},
   "source": [
    "* Plot the time signal of the center point displacement (in z direction) of the plate"
   ]
  },
  {
   "cell_type": "code",
   "execution_count": null,
   "metadata": {},
   "outputs": [],
   "source": []
  },
  {
   "cell_type": "markdown",
   "metadata": {},
   "source": [
    "* Compute the time signal of the force in the stinger exciting the plate, and plot it."
   ]
  },
  {
   "cell_type": "code",
   "execution_count": null,
   "metadata": {},
   "outputs": [],
   "source": []
  },
  {
   "cell_type": "code",
   "execution_count": null,
   "metadata": {},
   "outputs": [],
   "source": []
  },
  {
   "cell_type": "code",
   "execution_count": null,
   "metadata": {},
   "outputs": [],
   "source": []
  },
  {
   "cell_type": "markdown",
   "metadata": {},
   "source": [
    "### FRF Estimation\n",
    "\n",
    "Use the FFT compute the frequency spectrum of the response.\n",
    "Estimate transfer functions between system parameters by dividing the respective frequency spectra, e.g. output displacement divided by input voltage.\n",
    "In order to estimate the transfer function of the plate with respect to a vertical force, you need to compute the ratio of two output quantities of the model.\n",
    "\n",
    "Compute the harmonic response of the system as a reference solution for the transfer functions estimated from time domain data.\n",
    "\n",
    "Tipp: Only compute the harmonic solution in a suitable frequency range! For easier computation of differences use a common frequency resolution."
   ]
  },
  {
   "cell_type": "code",
   "execution_count": null,
   "metadata": {},
   "outputs": [],
   "source": []
  },
  {
   "cell_type": "code",
   "execution_count": null,
   "metadata": {},
   "outputs": [],
   "source": []
  },
  {
   "cell_type": "markdown",
   "metadata": {},
   "source": [
    "* Estimate the transfer function between input voltage and vertical center point displacement of the plate.\n",
    "* Plot the estimated FRF and the reference solution from a hamonic analysis to compare them."
   ]
  },
  {
   "cell_type": "code",
   "execution_count": null,
   "metadata": {},
   "outputs": [],
   "source": []
  },
  {
   "cell_type": "code",
   "execution_count": null,
   "metadata": {},
   "outputs": [],
   "source": []
  },
  {
   "cell_type": "markdown",
   "metadata": {},
   "source": [
    "* Estimate the FRF from plate force to center displacement from the coupled shaker model.\n"
   ]
  },
  {
   "cell_type": "code",
   "execution_count": null,
   "metadata": {},
   "outputs": [],
   "source": []
  },
  {
   "cell_type": "markdown",
   "metadata": {},
   "source": [
    "* Plot the estimate from the time domain to the harmonic reference solution. Compute the $\\Delta$FRF to compare."
   ]
  },
  {
   "cell_type": "code",
   "execution_count": null,
   "metadata": {},
   "outputs": [],
   "source": []
  },
  {
   "cell_type": "code",
   "execution_count": null,
   "metadata": {},
   "outputs": [],
   "source": []
  },
  {
   "cell_type": "markdown",
   "metadata": {},
   "source": [
    "* Compare the FRF from plate force to center displacement obtained from the coupled plate-shaker model to one obtained from an equivalent plate directly subjected to an external force (only plate model without shaker)."
   ]
  },
  {
   "cell_type": "code",
   "execution_count": null,
   "metadata": {},
   "outputs": [],
   "source": []
  },
  {
   "cell_type": "markdown",
   "metadata": {},
   "source": [
    "* Plot the FRF from plate force to center displacement from coupled plate-sahker model and pure plate model. Compute the $\\Delta$FRF to compare."
   ]
  },
  {
   "cell_type": "code",
   "execution_count": null,
   "metadata": {},
   "outputs": [],
   "source": []
  },
  {
   "cell_type": "code",
   "execution_count": null,
   "metadata": {},
   "outputs": [],
   "source": []
  },
  {
   "cell_type": "markdown",
   "metadata": {},
   "source": [
    "* Plot the transfer function(s) in the Nyquist plane. Use different colors to distinguish the frequency ranges around the resonance peaks."
   ]
  },
  {
   "cell_type": "code",
   "execution_count": null,
   "metadata": {},
   "outputs": [],
   "source": []
  }
 ],
 "metadata": {
  "kernelspec": {
   "display_name": "Python 3",
   "language": "python",
   "name": "python3"
  },
  "language_info": {
   "codemirror_mode": {
    "name": "ipython",
    "version": 3
   },
   "file_extension": ".py",
   "mimetype": "text/x-python",
   "name": "python",
   "nbconvert_exporter": "python",
   "pygments_lexer": "ipython3",
   "version": "3.7.6-final"
  }
 },
 "nbformat": 4,
 "nbformat_minor": 2
}