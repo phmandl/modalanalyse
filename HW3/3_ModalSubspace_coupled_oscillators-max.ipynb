{
 "cells": [
  {
   "cell_type": "markdown",
   "metadata": {},
   "source": [
    "Exercise 3\n",
    "=========\n",
    "\n",
    "In this exercise you should invetigate model order reduction by a modeal basis.\n",
    "You should be able to re-use many parts from the previous exercises.\n",
    "\n",
    "Consider the plate clamped at all edges."
   ]
  },
  {
   "cell_type": "code",
   "execution_count": null,
   "metadata": {},
   "outputs": [],
   "source": [
    "from scipy.io import mmread\n",
    "from scipy.sparse import csc_matrix\n",
    "from scipy.sparse.linalg import eigsh\n",
    "from scipy.sparse.linalg import inv\n",
    "\n",
    "import numpy as np\n",
    "\n",
    "import matplotlib as matplot\n",
    "import matplotlib.pyplot as plt\n",
    "matplot.rcParams.update({'figure.max_open_warning': 0})\n",
    "\n",
    "# Uncomment the following line and edit the path to ffmpeg if you want to write the video files!\n",
    "#plt.rcParams['animation.ffmpeg_path'] ='N:\\\\Applications\\\\ffmpeg\\\\bin\\\\ffmpeg.exe'\n",
    "\n",
    "from mpl_toolkits.mplot3d import Axes3D\n",
    "\n",
    "import sys\n",
    "np.set_printoptions(threshold=50)\n",
    "\n",
    "from numpy.fft import rfft, rfftfreq\n",
    "\n",
    "from utility_functions import Newmark"
   ]
  },
  {
   "cell_type": "code",
   "execution_count": null,
   "metadata": {},
   "outputs": [],
   "source": [
    "M = csc_matrix(mmread('Ms.mtx')) # mass matrix\n",
    "K = csc_matrix(mmread('Ks.mtx')) # stiffness matrix\n",
    "C = csc_matrix(K.shape) # a zeros damping matrix\n",
    "X = mmread('X.mtx') # coodinate matrix with columns corresponding to x,y,z position of the nodes\n",
    "\n",
    "N = X.shape[0] # number of nodes\n",
    "\n",
    "nprec = 6 # precision for finding uniqe values\n",
    "\n",
    "# get grid vectors (the unique vectors of the x,y,z coodinate-grid)\n",
    "x = np.unique(np.round(X[:,0],decimals=nprec))\n",
    "y = np.unique(np.round(X[:,1],decimals=nprec))\n",
    "z = np.unique(np.round(X[:,2],decimals=nprec))\n",
    "\n",
    "# grid matrices\n",
    "Xg = np.reshape(X[:,0],[len(y),len(x),len(z)])\n",
    "Yg = np.reshape(X[:,1],[len(y),len(x),len(z)])\n",
    "Zg = np.reshape(X[:,2],[len(y),len(x),len(z)])\n",
    "\n",
    "tol = 1e-12\n",
    "\n",
    "# constrain all edges\n",
    "Nn = np.argwhere(np.abs(X[:,1]-X[:,1].max())<tol).ravel() # Node indices of N-Edge nodes\n",
    "No = np.argwhere(np.abs(X[:,0]-X[:,0].max())<tol).ravel() # Node indices of O-Edge nodes\n",
    "Ns = np.argwhere(np.abs(X[:,1]-X[:,1].min())<tol).ravel() # Node indices of S-Edge nodes\n",
    "Nw = np.argwhere(np.abs(X[:,0]-X[:,0].min())<tol).ravel() # Node indices of W-Edge nodes\n",
    "\n",
    "Nnosw = np.unique(np.concatenate((Nn,No,Ns,Nw))) #concatenate all and only take unique (remove the double ones)\n",
    "\n",
    "# special points and the associated nodes\n",
    "P1 = [0.2,0.12,0.003925]\n",
    "N1 = np.argmin(np.sum((X-P1)**2,axis=1))\n",
    "P2 = [0.0,-0.1,0.003925]\n",
    "N2 = np.argmin(np.sum((X-P2)**2,axis=1))\n",
    "\n",
    "# all node on the top of the plate\n",
    "Nt = np.argwhere(np.abs(X[:,2]-X[:,2].max())<tol).ravel()\n",
    "\n",
    "# indices of x, y, and z DoFs in the global system\n",
    "# can be used to get DoF-index in global system, e.g. for y of node n by Iy[n]\n",
    "Ix = np.arange(N)*3 # index of x-dofs\n",
    "Iy = np.arange(N)*3+1\n",
    "Iz = np.arange(N)*3+2\n",
    "\n",
    "# select which indices in the global system must be constrained\n",
    "If = np.array([Ix[Nnosw],Iy[Nnosw],Iz[Nnosw]]).ravel() # dof indices of fix constraint\n",
    "Ic = np.array([(i in If) for i in np.arange(3*N)]) # boolean array of constraind dofs\n",
    "\n",
    "# compute the reduced system\n",
    "Kc = csc_matrix(K[np.ix_(~Ic,~Ic)])\n",
    "Mc = csc_matrix(M[np.ix_(~Ic,~Ic)])\n",
    "Cc = csc_matrix(C[np.ix_(~Ic,~Ic)])"
   ]
  },
  {
   "cell_type": "markdown",
   "metadata": {},
   "source": [
    "# Constraint Enforcement\n",
    "You can enforce contraints as in the previous exercises by selecting the appropriate rows from the system matrices, or use the nullsapce of the constraint matrix.\n",
    "\n",
    "Set up a constraint matrix and use the provided function for computing the nullspace\n",
    "```python\n",
    "from utlity_functions import nullspace\n",
    "```"
   ]
  },
  {
   "cell_type": "code",
   "execution_count": null,
   "metadata": {},
   "outputs": [],
   "source": [
    "from utility_functions import nullspace"
   ]
  },
  {
   "cell_type": "code",
   "execution_count": null,
   "metadata": {},
   "outputs": [],
   "source": []
  },
  {
   "cell_type": "code",
   "execution_count": null,
   "metadata": {},
   "outputs": [],
   "source": []
  },
  {
   "cell_type": "markdown",
   "metadata": {},
   "source": [
    "# Mode Shapes\n",
    "Compute a set of mode-shapes of the system."
   ]
  },
  {
   "cell_type": "code",
   "execution_count": null,
   "metadata": {},
   "outputs": [],
   "source": []
  },
  {
   "cell_type": "markdown",
   "metadata": {},
   "source": [
    "## Modal mass participation factor\n",
    "\n",
    "Compute the modal mass participation factor for all 6  for the first 10 modes of the plate.\n",
    "\n",
    "First you need to define the ridig body degrees of freedom (3 displacements and 3 rotations) in terms of displacement fields (can be seen as \"mode shapes\")."
   ]
  },
  {
   "cell_type": "code",
   "execution_count": null,
   "metadata": {},
   "outputs": [],
   "source": []
  },
  {
   "cell_type": "markdown",
   "metadata": {},
   "source": [
    "Then compute the 6 modal mass participation factors for each mode.\n",
    "Which ridid body displacement is most represented in which mode?"
   ]
  },
  {
   "cell_type": "code",
   "execution_count": null,
   "metadata": {},
   "outputs": [],
   "source": []
  },
  {
   "cell_type": "code",
   "execution_count": null,
   "metadata": {},
   "outputs": [],
   "source": []
  },
  {
   "cell_type": "code",
   "execution_count": null,
   "metadata": {},
   "outputs": [],
   "source": []
  },
  {
   "cell_type": "markdown",
   "metadata": {},
   "source": [
    "# Static Deformation\n",
    "\n",
    "Check your bondary conditions by computing a static deformation: Assume a pressure acting on the plate (in transverse =z direction) which is linearly increasing from zero at one short edge (e.g. $x=x_{\\min}$) to the oppsite edge. \n",
    "Assume a maximal pressure of 10kPa.\n",
    "For the sake of simplicity you can apply the pressure to one \"node layer\" (in thichness direction).\n",
    "Force per node can be obtained by multiplying by the \"nodal area\", i.e. the total area of the plate divided by the number of nodes in the \"node layer\"."
   ]
  },
  {
   "cell_type": "code",
   "execution_count": null,
   "metadata": {},
   "outputs": [],
   "source": []
  },
  {
   "cell_type": "code",
   "execution_count": null,
   "metadata": {},
   "outputs": [],
   "source": []
  },
  {
   "cell_type": "code",
   "execution_count": null,
   "metadata": {},
   "outputs": [],
   "source": []
  },
  {
   "cell_type": "code",
   "execution_count": null,
   "metadata": {},
   "outputs": [],
   "source": []
  },
  {
   "cell_type": "markdown",
   "metadata": {},
   "source": [
    "Approximate the computed static displacement using the first three oscillation modes.\n",
    "* What are the required modal coordinates?\n",
    "* Plot the residual, which mode should you include to improve the approximation?"
   ]
  },
  {
   "cell_type": "code",
   "execution_count": null,
   "metadata": {},
   "outputs": [],
   "source": []
  },
  {
   "cell_type": "code",
   "execution_count": null,
   "metadata": {},
   "outputs": [],
   "source": []
  },
  {
   "cell_type": "markdown",
   "metadata": {},
   "source": [
    "# Transient Solution\n",
    "\n",
    "We'll investigate the plate in the same configuration as in Exercise 2, but now compute results using reduced order models.\n",
    "\n",
    "One can use the Newmark time intragration both for the full system and in the modal coodinates."
   ]
  },
  {
   "cell_type": "markdown",
   "metadata": {},
   "source": [
    "### Forcing\n",
    "Use the forcing given in Task 1 of Exercise 2: $f(t) = 1-e^{-(t/0.002)^2}$ in z-direction at $P_1= [0.2,0.12,0.003925]$."
   ]
  },
  {
   "cell_type": "code",
   "execution_count": null,
   "metadata": {},
   "outputs": [],
   "source": []
  },
  {
   "cell_type": "code",
   "execution_count": null,
   "metadata": {},
   "outputs": [],
   "source": []
  },
  {
   "cell_type": "markdown",
   "metadata": {},
   "source": [
    "### Damping\n",
    "For the sake of simplicity assume Rayleigh damping with $\\alpha=2.15$ and $\\beta=3e-5$."
   ]
  },
  {
   "cell_type": "code",
   "execution_count": null,
   "metadata": {},
   "outputs": [],
   "source": []
  },
  {
   "cell_type": "markdown",
   "metadata": {},
   "source": [
    "## Task 1: Transient Response using Reduced Model\n",
    "\n",
    "Use a modal basis of the first two modes and compute the transient response of the system (under the same loading as in Task 1 of Exercise 2). Plot the response at points P1 and P2, and compare with the full system.\n",
    "What is the error with respect to the full system?"
   ]
  },
  {
   "cell_type": "code",
   "execution_count": null,
   "metadata": {},
   "outputs": [],
   "source": []
  },
  {
   "cell_type": "code",
   "execution_count": null,
   "metadata": {},
   "outputs": [],
   "source": []
  },
  {
   "cell_type": "code",
   "execution_count": null,
   "metadata": {},
   "outputs": [],
   "source": []
  },
  {
   "cell_type": "markdown",
   "metadata": {},
   "source": [
    "### Choice of Modes\n",
    "* How does the error improve when you take more modes?\n",
    "* Plot the response at selected nodes, e.g. N1, N2, center, for different models in the same graph."
   ]
  },
  {
   "cell_type": "code",
   "execution_count": null,
   "metadata": {},
   "outputs": [],
   "source": []
  },
  {
   "cell_type": "markdown",
   "metadata": {},
   "source": [
    "### Time Evolution of Modal Corrdinates\n",
    "* Visualize the time evolution of the used modal coordinates\n",
    "* Do this for the results obtained with differnt modal bases\n",
    "* Compute the modal contributions in the same way. Which modes contribute most for which model?"
   ]
  },
  {
   "cell_type": "code",
   "execution_count": null,
   "metadata": {},
   "outputs": [],
   "source": []
  },
  {
   "cell_type": "markdown",
   "metadata": {},
   "source": [
    "# Steady State Oscillation | Frequency Domain\n",
    "\n",
    "Now switch to frequency domain and compute the steady state response of the system.\n",
    "For the sake of simplicity use a unit excitation at $P_1$."
   ]
  },
  {
   "cell_type": "code",
   "execution_count": null,
   "metadata": {
    "scrolled": true
   },
   "outputs": [],
   "source": [
    "from numpy.linalg import solve\n",
    "import time"
   ]
  },
  {
   "cell_type": "code",
   "execution_count": null,
   "metadata": {
    "scrolled": true
   },
   "outputs": [],
   "source": [
    "def FrequencyDomain(omega, direc = Iz, node = N1, K = Kc, C = Cc, M = Mc):\n",
    "    #1. Compute the dynamic stiffness matrix Z for one omega\n",
    "    Z = K + complex(0,1) * omega * C - omega**2 * M     \n",
    "    \n",
    "    #2. Assemble one (or several) forcing vectors\n",
    "    f_hat = np.zeros(3*N)\n",
    "    f_hat[direc[node]] = 1.0    #for sys without constrains and force acting on N1 which is the closest node to P1\n",
    "    fc_hat = f_hat[~Ic]    #for reduced sys, because of constrains\n",
    "    \n",
    "    fc_hat_red = V.transpose() @ fc_hat #reduced forcing vector\n",
    "    \n",
    "    #3. solve for the displacements\n",
    "    xc_hat_red = solve(Z,fc_hat_red)       #for np.array matrices\n",
    "    \n",
    "    return(xc_hat_red) #complex, so ampl and phase is in there; for all DoF which are not constrained"
   ]
  },
  {
   "cell_type": "markdown",
   "metadata": {},
   "source": [
    "## Task 2: Compute Harmonic Response using a Reduced Model\n",
    "\n",
    "Use the first 10 modes to compute the steady state response for a unit forcing in z-direction at $P_1$.\n",
    "Do the computation for Rayleigh damping and for Modal damping with a damping ratio of 0.01 for each mode.\n",
    "Compare the results by plotting the transfer functions up to 300Hz."
   ]
  },
  {
   "cell_type": "code",
   "execution_count": null,
   "metadata": {},
   "outputs": [],
   "source": [
    "## only compute a subset of modes of the reduced model\n",
    "k = 10\n",
    "W,V = eigsh(Kc,k,Mc,sigma=0,which='LM',maxiter = 1000)"
   ]
  },
  {
   "cell_type": "code",
   "execution_count": null,
   "metadata": {},
   "outputs": [],
   "source": [
    "def ResponseOverReducedSystem(max_freq = 300., min_freq = 2., Nr_steps = 150.):\n",
    "    \n",
    "    ## Compute the reduced system matrices and forcing vector\n",
    "    M_red = V.transpose() @ Mc @ V\n",
    "    C_red = V.transpose() @ Cc @ V\n",
    "    K_red = V.transpose() @ Kc @ V\n",
    "\n",
    "    ## Solve the reduced system for the modal coordinates eta and transforamtion to obtain the full solution\n",
    "    P1_resp_z = np.zeros([int(Nr_steps-1.),2])\n",
    "    eta_hat_store = []\n",
    "    freq_store = []\n",
    "\n",
    "    steps = (max_freq-min_freq)/Nr_steps\n",
    "    \n",
    "    counter = 0\n",
    "\n",
    "    for i in range(2, 300, round(steps)):\n",
    "        # response of the reduced system M_red K_red C_red\n",
    "        eta_hat = FrequencyDomain(omega = 2*np.pi*i, K = K_red, C = C_red, M = M_red)\n",
    "        eta_hat_store.append(eta_hat)\n",
    "        freq_store.append(i)\n",
    "\n",
    "        # coordinate transformation to obtain the full solution\n",
    "        resp = V @ eta_hat\n",
    "\n",
    "        # insert missing nodes with zero, because of the constrains\n",
    "        resp_all = np.zeros(N*3) + complex(0,0)\n",
    "        resp_all[~Ic] = resp\n",
    "\n",
    "        #Amplitude in dB\n",
    "        P1_resp_z[counter,0] = 20*np.log10(np.abs(resp_all[Iz[N1]]))\n",
    "\n",
    "        #Phase in degree\n",
    "        P1_resp_z[counter,1] = np.angle(resp_all[Iz[N1]])*180/np.pi\n",
    "\n",
    "        counter += 1\n",
    "    eta_hat_store = np.asarray(eta_hat_store)\n",
    "    return(P1_resp_z, steps, eta_hat_store, freq_store)"
   ]
  },
  {
   "cell_type": "code",
   "execution_count": null,
   "metadata": {},
   "outputs": [],
   "source": [
    "dampingRatio = 0.01 # Damping ratio choosen"
   ]
  },
  {
   "cell_type": "code",
   "execution_count": null,
   "metadata": {},
   "outputs": [],
   "source": [
    "### Rayleigh damping like ex.2\n",
    "## getting alpha and beta\n",
    "omegas = np.sqrt(abs(W)) # Collect angular eigenfrq.\n",
    "omegaCoeffs = np.vstack((1/omegas, omegas)).T # Build coefficent matrix\n",
    "\n",
    "b = dampingRatio*np.ones(np.shape(omegaCoeffs)[0]) # Right-hand side of omegaCoeffs*alphaBeta = b\n",
    "\n",
    "alphaBeta = np.linalg.solve(omegaCoeffs[(0,4),:], b.take([0,4])) # Solve for alphaBeta at 1. and 5. natural frequency\n",
    "\n",
    "dampingRatios = omegaCoeffs @ alphaBeta \n",
    "\n",
    "start_time = time.time()\n",
    "\n",
    "## assemble Damping-Matrix for the reduced sys and given aplha and beta for Rayleigh damping\n",
    "alpha = alphaBeta[0]\n",
    "beta = alphaBeta[1]\n",
    "Cc = alpha * Mc + beta * Kc\n",
    "\n",
    "response_steps_ModalCoordinates_frequency = ResponseOverReducedSystem()\n",
    "P1_resp_z_ray = response_steps_ModalCoordinates_frequency[0]\n",
    "steps = response_steps_ModalCoordinates_frequency[1]\n",
    "eta_ray = response_steps_ModalCoordinates_frequency[2]\n",
    "frequency = response_steps_ModalCoordinates_frequency[3]\n",
    "\n",
    "print(\"--- %s seconds ---\" % (time.time() - start_time))"
   ]
  },
  {
   "cell_type": "code",
   "execution_count": null,
   "metadata": {},
   "outputs": [],
   "source": [
    "### Modal damping\n",
    "start_time = time.time()\n",
    "\n",
    "##  assemble Cc-Matrix\n",
    "container = np.array(2*np.sqrt(W)*dampingRatio)\n",
    "diagMiddle = np.diag(container)\n",
    "Cc = V @ diagMiddle @ V.transpose()\n",
    "\n",
    "response_steps_ModalCoordinates = ResponseOverReducedSystem()\n",
    "P1_resp_z_mod = response_steps_ModalCoordinates[0]\n",
    "steps = response_steps_ModalCoordinates[1]\n",
    "eta_mod = response_steps_ModalCoordinates[2]\n",
    "frequency = response_steps_ModalCoordinates_frequency[3]\n",
    "\n",
    "print(\"--- %s seconds ---\" % (time.time() - start_time))"
   ]
  },
  {
   "cell_type": "code",
   "execution_count": null,
   "metadata": {},
   "outputs": [],
   "source": [
    "### Plot of transfer functions up to 300Hz (Bode-Diag.)\n",
    "\n",
    "#plot response in z for P1 with Rayleigh damping\n",
    "plt.plot(frequency, P1_resp_z_ray[:,0])\n",
    "plt.title('Bode-diag.: resp. P1, z-disp., Rayleigh damping')\n",
    "plt.ylabel('Amplitude (dB)')\n",
    "plt.xlabel('Frequency (rad/s)')\n",
    "plt.xscale('log')\n",
    "plt.xlim(1, 1000)\n",
    "plt.grid(True)\n",
    "plt.show()\n",
    "\n",
    "plt.plot(frequency, P1_resp_z_ray[:,1])\n",
    "plt.ylabel('Phase (deg)')\n",
    "plt.xlabel('Frequency (rad/s)')\n",
    "plt.xscale('log')\n",
    "plt.xlim(1, 1000)\n",
    "plt.grid(True)\n",
    "plt.show()\n",
    "\n",
    "#plot response in z for P1 with Modal damping\n",
    "plt.plot(frequency, P1_resp_z_mod[:,0])\n",
    "plt.title('Bode-diag.: resp. P1, z-disp., Modal damping')\n",
    "plt.ylabel('Amplitude (dB)')\n",
    "plt.xlabel('Frequency (rad/s)')\n",
    "plt.xscale('log')\n",
    "plt.xlim(1, 1000)\n",
    "plt.grid(True)\n",
    "plt.show()\n",
    "\n",
    "plt.plot(frequency, P1_resp_z_mod[:,1])\n",
    "plt.ylabel('Phase (deg)')\n",
    "plt.xlabel('Frequency (rad/s)')\n",
    "plt.xscale('log')\n",
    "plt.xlim(1, 1000)\n",
    "plt.grid(True)\n",
    "plt.show()"
   ]
  },
  {
   "cell_type": "markdown",
   "metadata": {},
   "source": [
    "### Compare damping models\n",
    "* what is the difference between modal and Rayleigh damping?\n",
    "* what happens if you only damp certain modes with modal damping?"
   ]
  },
  {
   "cell_type": "code",
   "execution_count": null,
   "metadata": {},
   "outputs": [],
   "source": [
    "# weiß noch nicht genau was er da genau von mir will"
   ]
  },
  {
   "cell_type": "markdown",
   "metadata": {},
   "source": [
    "### Modal contribution\n",
    "* compute the modal contribution factors for each mode and plot them over the frequency\n",
    "* When is which mode important?"
   ]
  },
  {
   "cell_type": "code",
   "execution_count": null,
   "metadata": {},
   "outputs": [],
   "source": [
    "### Modal Contribution factor for each mode\n",
    "rho = np.zeros([len(frequency), k])\n",
    "\n",
    "for i in range(len(frequency)):\n",
    "    for j in range(k):\n",
    "        rho[i,j] = eta_ray[i,j]/abs(eta_ray[i,j])\n"
   ]
  },
  {
   "cell_type": "code",
   "execution_count": null,
   "metadata": {},
   "outputs": [],
   "source": [
    "eta_ray.shape"
   ]
  },
  {
   "cell_type": "code",
   "execution_count": null,
   "metadata": {},
   "outputs": [],
   "source": [
    "steps"
   ]
  },
  {
   "cell_type": "code",
   "execution_count": null,
   "metadata": {},
   "outputs": [],
   "source": [
    "len(frequency)"
   ]
  },
  {
   "cell_type": "code",
   "execution_count": null,
   "metadata": {},
   "outputs": [],
   "source": [
    "rho"
   ]
  },
  {
   "cell_type": "code",
   "execution_count": null,
   "metadata": {},
   "outputs": [],
   "source": [
    "rho.shape"
   ]
  },
  {
   "cell_type": "code",
   "execution_count": null,
   "metadata": {},
   "outputs": [],
   "source": []
  }
 ],
 "metadata": {
  "kernelspec": {
   "display_name": "Python 3",
   "language": "python",
   "name": "python3"
  },
  "language_info": {
   "codemirror_mode": {
    "name": "ipython",
    "version": 3
   },
   "file_extension": ".py",
   "mimetype": "text/x-python",
   "name": "python",
   "nbconvert_exporter": "python",
   "pygments_lexer": "ipython3",
   "version": "3.7.6"
  }
 },
 "nbformat": 4,
 "nbformat_minor": 2
}
