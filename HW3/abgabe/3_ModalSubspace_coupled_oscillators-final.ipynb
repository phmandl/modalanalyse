{
 "cells": [
  {
   "cell_type": "markdown",
   "metadata": {},
   "source": [
    "Exercise 3\n",
    "=========\n",
    "\n",
    "In this exercise you should invetigate model order reduction by a modeal basis.\n",
    "You should be able to re-use many parts from the previous exercises.\n",
    "\n",
    "Consider the plate clamped at all edges."
   ]
  },
  {
   "cell_type": "code",
   "execution_count": 50,
   "metadata": {},
   "outputs": [],
   "source": [
    "from scipy.io import mmread\n",
    "from scipy.sparse import csc_matrix\n",
    "from scipy.sparse.linalg import eigsh\n",
    "from scipy.sparse.linalg import inv\n",
    "\n",
    "import numpy as np\n",
    "\n",
    "import matplotlib as matplot\n",
    "import matplotlib.pyplot as plt\n",
    "matplot.rcParams.update({'figure.max_open_warning': 0})\n",
    "\n",
    "# Uncomment the following line and edit the path to ffmpeg if you want to write the video files!\n",
    "#plt.rcParams['animation.ffmpeg_path'] ='N:\\\\Applications\\\\ffmpeg\\\\bin\\\\ffmpeg.exe'\n",
    "\n",
    "from mpl_toolkits.mplot3d import Axes3D\n",
    "\n",
    "import sys\n",
    "# np.set_printoptions(threshold=sys.maxsize)\n",
    "np.set_printoptions(threshold=20)\n",
    "\n",
    "from numpy.fft import rfft, rfftfreq\n",
    "\n",
    "from utility_functions import Newmark"
   ]
  },
  {
   "cell_type": "code",
   "execution_count": 51,
   "metadata": {},
   "outputs": [],
   "source": [
    "M = csc_matrix(mmread('Ms.mtx')) # mass matrix\n",
    "K = csc_matrix(mmread('Ks.mtx')) # stiffness matrix\n",
    "C = csc_matrix(K.shape) # a zeros damping matrix\n",
    "X = mmread('X.mtx') # coodinate matrix with columns corresponding to x,y,z position of the nodes\n",
    "\n",
    "N = X.shape[0] # number of nodes\n",
    "\n",
    "nprec = 6 # precision for finding uniqe values\n",
    "\n",
    "# get grid vectors (the unique vectors of the x,y,z coodinate-grid)\n",
    "x = np.unique(np.round(X[:,0],decimals=nprec))\n",
    "y = np.unique(np.round(X[:,1],decimals=nprec))\n",
    "z = np.unique(np.round(X[:,2],decimals=nprec))\n",
    "\n",
    "# grid matrices\n",
    "Xg = np.reshape(X[:,0],[len(y),len(x),len(z)])\n",
    "Yg = np.reshape(X[:,1],[len(y),len(x),len(z)])\n",
    "Zg = np.reshape(X[:,2],[len(y),len(x),len(z)])\n",
    "\n",
    "tol = 1e-12\n",
    "\n",
    "# constrain all edges\n",
    "Nn = np.argwhere(np.abs(X[:,1]-X[:,1].max())<tol).ravel() # Node indices of N-Edge nodes\n",
    "No = np.argwhere(np.abs(X[:,0]-X[:,0].max())<tol).ravel() # Node indices of O-Edge nodes\n",
    "Ns = np.argwhere(np.abs(X[:,1]-X[:,1].min())<tol).ravel() # Node indices of S-Edge nodes\n",
    "Nw = np.argwhere(np.abs(X[:,0]-X[:,0].min())<tol).ravel() # Node indices of W-Edge nodes\n",
    "\n",
    "Nnosw = np.unique(np.concatenate((Nn,No,Ns,Nw))) #concatenate all and only take unique (remove the double ones)\n",
    "\n",
    "# indices of x, y, and z DoFs in the global system\n",
    "# can be used to get DoF-index in global system, e.g. for y of node n by Iy[n]\n",
    "Ix = np.arange(N)*3 # index of x-dofs\n",
    "Iy = np.arange(N)*3+1\n",
    "Iz = np.arange(N)*3+2\n",
    "\n",
    "# select which indices in the global system must be constrained\n",
    "If = np.array([Ix[Nnosw],Iy[Nnosw],Iz[Nnosw]]).ravel() # dof indices of fix constraint\n",
    "Ic = np.array([(i in If) for i in np.arange(3*N)]) # boolean array of constraind dofs\n",
    "\n",
    "# compute the reduced system\n",
    "Kc = csc_matrix(K[np.ix_(~Ic,~Ic)])\n",
    "Mc = csc_matrix(M[np.ix_(~Ic,~Ic)])\n",
    "Cc = csc_matrix(C[np.ix_(~Ic,~Ic)])"
   ]
  },
  {
   "cell_type": "markdown",
   "metadata": {},
   "source": [
    "# Constraint Enforcement\n",
    "You can enforce contraints as in the previous exercises by selecting the appropriate rows from the system matrices, or use the nullsapce of the constraint matrix.\n",
    "\n",
    "Set up a constraint matrix and use the provided function for computing the nullspace\n",
    "```python\n",
    "from utlity_functions import nullspace\n",
    "```"
   ]
  },
  {
   "cell_type": "code",
   "execution_count": 52,
   "metadata": {},
   "outputs": [],
   "source": [
    "from utility_functions import nullspace"
   ]
  },
  {
   "cell_type": "code",
   "execution_count": 53,
   "metadata": {},
   "outputs": [],
   "source": [
    "# B = np.zeros((len(If),3*N)) #Build constraints matrix\n",
    "# B[np.arange(0,len(If)),np.sort(If)] = 1 #constraint the respective nodes\n",
    "# Q = nullspace(B) #build the nullspace"
   ]
  },
  {
   "cell_type": "code",
   "execution_count": 54,
   "metadata": {},
   "outputs": [],
   "source": [
    "# Calc constraint matrixes\n",
    "# Q = csc_matrix(Q) #or make Q also a sparse and go with that\n",
    "# K_bar = Q.transpose() @ K @ Q\n",
    "# M_bar = Q.transpose() @ M @ Q\n",
    "# C_bar = Q.transpose() @ C @ Q"
   ]
  },
  {
   "cell_type": "markdown",
   "metadata": {},
   "source": [
    "# Mode Shapes\n",
    "Compute a set of mode-shapes of the system."
   ]
  },
  {
   "cell_type": "code",
   "execution_count": 131,
   "metadata": {},
   "outputs": [],
   "source": [
    "# only compute a subset of modes of the reduced model\n",
    "k = 10\n",
    "Wc,Vc = eigsh(Kc,k,Mc,sigma=0,which='LM',maxiter = 1000)\n",
    "\n",
    "# V = np.zeros([3*N,k])\n",
    "# V[~Ic,:] = Vc\n",
    "\n",
    "# M_c = np.zeros([3*N,3*N])\n",
    "# M_c[~Ic,~Ic] = Mc"
   ]
  },
  {
   "cell_type": "code",
   "execution_count": 106,
   "metadata": {},
   "outputs": [],
   "source": [
    "# only compute a subset of modes of the reduced model\n",
    "# k = 10\n",
    "# W_bar,V_bar = eigsh(K_bar,k,M_bar,sigma=0,which='LM',maxiter = 1000)"
   ]
  },
  {
   "cell_type": "markdown",
   "metadata": {},
   "source": [
    "## Modal mass participation factor\n",
    "\n",
    "Compute the modal mass participation factor for all 6  for the first 10 modes of the plate.\n",
    "\n",
    "First you need to define the ridig body degrees of freedom (3 displacements and 3 rotations) in terms of displacement fields (can be seen as \"mode shapes\")."
   ]
  },
  {
   "cell_type": "code",
   "execution_count": 124,
   "metadata": {},
   "outputs": [],
   "source": [
    "W_unconstrained,V_unconstrained = eigsh(K,k,M,sigma=0,which='LM',maxiter = 1000)"
   ]
  },
  {
   "cell_type": "code",
   "execution_count": 150,
   "metadata": {},
   "outputs": [],
   "source": [
    "def MPF(vi,M,ej) :\n",
    "    return np.abs((vi @ M @ ej) / (vi @ M @ vi.transpose()))\n",
    "#     return ((vi @ M @ ej) / (vi @ M @ vi.transpose()))"
   ]
  },
  {
   "cell_type": "code",
   "execution_count": 145,
   "metadata": {},
   "outputs": [],
   "source": [
    "def plotMPF(ej, title) :\n",
    "    dependency = np.zeros(k)\n",
    "    for i,v in enumerate(Vc.T) :\n",
    "        # dependency[i] = MPF(v, M, ej)\n",
    "        dependency[i] = MPF(v, Mc, ej[~Ic])\n",
    "        \n",
    "    x = range(len(dependency))\n",
    "    width = 0.75\n",
    "    plt.bar(x, dependency, width, color=\"blue\")\n",
    "    plt.ylabel('Measure of coincidance')\n",
    "    plt.xlabel('Mode index')\n",
    "    plt.title(title)\n",
    "    plt.show()"
   ]
  },
  {
   "cell_type": "markdown",
   "metadata": {},
   "source": [
    "Then compute the 6 modal mass participation factors for each mode.\n",
    "Which ridid body displacement is most represented in which mode?"
   ]
  },
  {
   "cell_type": "code",
   "execution_count": 146,
   "metadata": {},
   "outputs": [],
   "source": [
    "# OLD STUFF\n",
    "\n",
    "# Define rigid body displacements\n",
    "e_x = np.zeros(3*N)\n",
    "e_x[Ix] = 1\n",
    "\n",
    "e_y = np.zeros(3*N)\n",
    "e_y[Iy] = 1\n",
    "\n",
    "e_z = np.zeros(3*N)\n",
    "e_z[Iz] = 1\n",
    "\n",
    "Center = np.array([0., 0., 0.])\n",
    "radius = np.zeros(len(X))\n",
    "for i in range(len(X)) :\n",
    "    radius[i] = np.linalg.norm(Center - [X[i,:]] )\n",
    "\n",
    "# Rotation arround the x-axis\n",
    "e_rx = np.zeros(3*N)\n",
    "e_rx[Ix] = radius\n",
    "\n",
    "e_ry = np.zeros(3*N)\n",
    "e_ry[Iy] = radius\n",
    "\n",
    "e_rz = np.zeros(3*N)\n",
    "e_rz[Iz] = radius\n",
    "\n",
    "# def rotationVector(id_axis) :\n",
    "#     Center = np.array([0., 0., 0.])\n",
    "#     rot = np.zeros([beam.nDof,1])\n",
    "\n",
    "#     radius = np.zeros([len(beam.X),1])\n",
    "#     for i in range(len(beam.X)) :\n",
    "#         radius[i,0] = np.linalg.norm(Center - [beam.X[i,:]] )\n",
    "#     rot[id_axis] = -1*radius\n",
    "#     return rot"
   ]
  },
  {
   "cell_type": "code",
   "execution_count": 151,
   "metadata": {},
   "outputs": [
    {
     "data": {
      "image/png": "[encoded data removed]",
      "text/plain": [
       "<Figure size 432x288 with 1 Axes>"
      ]
     },
     "metadata": {
      "needs_background": "light"
     },
     "output_type": "display_data"
    }
   ],
   "source": [
    "plotMPF(e_x,\"X-Dependency\")"
   ]
  },
  {
   "cell_type": "code",
   "execution_count": 152,
   "metadata": {},
   "outputs": [
    {
     "data": {
      "image/png": "[encoded data removed]",
      "text/plain": [
       "<Figure size 432x288 with 1 Axes>"
      ]
     },
     "metadata": {
      "needs_background": "light"
     },
     "output_type": "display_data"
    }
   ],
   "source": [
    "plotMPF(e_y,\"Y-Dependency\")"
   ]
  },
  {
   "cell_type": "code",
   "execution_count": 153,
   "metadata": {},
   "outputs": [
    {
     "data": {
      "image/png": "[encoded data removed]",
      "text/plain": [
       "<Figure size 432x288 with 1 Axes>"
      ]
     },
     "metadata": {
      "needs_background": "light"
     },
     "output_type": "display_data"
    }
   ],
   "source": [
    "plotMPF(e_z,\"Z-Dependency\")"
   ]
  },
  {
   "cell_type": "code",
   "execution_count": 79,
   "metadata": {},
   "outputs": [
    {
     "data": {
      "image/png": "[encoded data removed]",
      "text/plain": [
       "<Figure size 432x288 with 1 Axes>"
      ]
     },
     "metadata": {
      "needs_background": "light"
     },
     "output_type": "display_data"
    }
   ],
   "source": [
    "plotMPF(V_unconstrained[:,0],\"X-Dependency\")"
   ]
  },
  {
   "cell_type": "code",
   "execution_count": 80,
   "metadata": {},
   "outputs": [
    {
     "data": {
      "image/png": "[encoded data removed]",
      "text/plain": [
       "<Figure size 432x288 with 1 Axes>"
      ]
     },
     "metadata": {
      "needs_background": "light"
     },
     "output_type": "display_data"
    }
   ],
   "source": [
    "plotMPF(V_unconstrained[:,1],\"Y-Dependency\")"
   ]
  },
  {
   "cell_type": "code",
   "execution_count": 81,
   "metadata": {},
   "outputs": [
    {
     "data": {
      "image/png": "[encoded data removed]",
      "text/plain": [
       "<Figure size 432x288 with 1 Axes>"
      ]
     },
     "metadata": {
      "needs_background": "light"
     },
     "output_type": "display_data"
    }
   ],
   "source": [
    "plotMPF(V_unconstrained[:,2],\"Z-Dependency\")"
   ]
  },
  {
   "cell_type": "code",
   "execution_count": 82,
   "metadata": {},
   "outputs": [
    {
     "data": {
      "image/png": "[encoded data removed]",
      "text/plain": [
       "<Figure size 432x288 with 1 Axes>"
      ]
     },
     "metadata": {
      "needs_background": "light"
     },
     "output_type": "display_data"
    }
   ],
   "source": [
    "plotMPF(V_unconstrained[:,3],\"X-Rot-Dependency\")"
   ]
  },
  {
   "cell_type": "code",
   "execution_count": 83,
   "metadata": {},
   "outputs": [
    {
     "data": {
      "image/png": "[encoded data removed]",
      "text/plain": [
       "<Figure size 432x288 with 1 Axes>"
      ]
     },
     "metadata": {
      "needs_background": "light"
     },
     "output_type": "display_data"
    }
   ],
   "source": [
    "plotMPF(V_unconstrained[:,4],\"Y-Rot-Dependency\")"
   ]
  },
  {
   "cell_type": "code",
   "execution_count": 84,
   "metadata": {},
   "outputs": [
    {
     "data": {
      "image/png": "[encoded data removed]",
      "text/plain": [
       "<Figure size 432x288 with 1 Axes>"
      ]
     },
     "metadata": {
      "needs_background": "light"
     },
     "output_type": "display_data"
    }
   ],
   "source": [
    "plotMPF(V_unconstrained[:,5],\"Z-Rot-Dependency\")"
   ]
  },
  {
   "cell_type": "markdown",
   "metadata": {},
   "source": [
    "# Static Deformation\n",
    "\n",
    "Check your bondary conditions by computing a static deformation: Assume a pressure acting on the plate (in transverse =z direction) which is linearly increasing from zero at one short edge (e.g. $x=x_{\\min}$) to the oppsite edge. \n",
    "Assume a maximal pressure of 10kPa.\n",
    "For the sake of simplicity you can apply the pressure to one \"node layer\" (in thichness direction).\n",
    "Force per node can be obtained by multiplying by the \"nodal area\", i.e. the total area of the plate divided by the number of nodes in the \"node layer\"."
   ]
  },
  {
   "cell_type": "code",
   "execution_count": null,
   "metadata": {},
   "outputs": [],
   "source": [
    "# Node groups\n",
    "tol = 1E-12\n",
    "N_bot = np.argwhere(np.abs(X[:,2]-X[:,2].min())<tol).ravel() # Node indices of bottom nodes \n",
    "N_top = np.argwhere(np.abs(X[:,2]-X[:,2].max())<tol).ravel() # Node indices of top nodes \n",
    "\n",
    "# Geometry\n",
    "length_x = np.abs(x.max() - x.min())\n",
    "length_y = np.abs(y.max() - y.min())\n",
    "area = length_x * length_y\n",
    "nodal_area = area / len(N_bot)\n",
    "\n",
    "# Define loads (constant pressure for verification)\n",
    "load_constant = np.zeros((3*N,1))\n",
    "load_linear = np.zeros((3*N,1))\n",
    "p_max = 10E3 # Max. pressure in Pa\n",
    "p_mean = p_max / 2\n",
    "load_constant[Iz[N_bot]] = p_mean * nodal_area \n",
    "\n",
    "\n",
    "x_last = 0\n",
    "for x_current in x: # Iterate over x-coordinates\n",
    "    step_width = abs(x_current - x_last)\n",
    "    nodes_current = np.argwhere(np.abs(X[N_bot][:,0] - x_current) < 0.25*step_width).ravel() # Look for according nodes\n",
    "    pressure = p_max * (x_current - x[0]) / length # Assign linear pressure (Note: zero at X[N_bot,0].min())\n",
    "    load_linear[Iz[N_bot][nodes_current]] = pressure * nodal_area # Assign load at the current nodes\n",
    "    x_last = x_current\n",
    "    print(f\"p(x = {x_current:.3f}) = {pressure:.1f}, F = {pressure * nodal_area:.3f} N at nodes = {nodes_current}\")\n",
    "    \n",
    "\n",
    "# Constrain static system\n",
    "from utility_functions import nullspace\n",
    "B = np.zeros((len(If),3*N))\n",
    "B[np.arange(0,len(If)),np.sort(If)] = 1 #constraint the respective nodes\n",
    "Q = nullspace(B) #build the nullspace\n",
    "\n",
    "Q = csc_matrix(Q)\n",
    "Kc = csc_matrix(Q.T @ K @ Q)\n",
    "load_constant_constrained = csc_matrix(Q.T @ load_constant)\n",
    "load_linear_constrained = csc_matrix(Q.T @ load_linear)"
   ]
  },
  {
   "cell_type": "code",
   "execution_count": null,
   "metadata": {},
   "outputs": [],
   "source": [
    "# Check selected nodes\n",
    "fig,ax = plt.subplots(subplot_kw={'projection':'3d'})\n",
    "\n",
    "ax.scatter(X[N_bot][:,0],X[N_bot][:,1],X[N_bot][:,2],s=5,label='bot') # undeformed\n",
    "ax.scatter(X[N_top][:,0],X[N_top][:,1],X[N_top][:,2],s=5,label='top') # undeformed\n",
    "\n",
    "tol = 1E-12\n",
    "nodeline = np.argwhere(np.abs(X[N_bot][:,0] - X[N_bot][:,0].min()) < tol).ravel() # Node indices of bottom nodes \n",
    "\n",
    "\n",
    "ax.scatter(X[N_bot][nodeline][:,0],X[N_bot][nodeline][:,1],X[N_bot][nodeline][:,2],s=15, c='r', label='first line') # undeformed\n",
    "\n",
    "print(Iz[N_bot][nodeline])\n",
    "\n",
    "ax.set_xlabel('x')\n",
    "ax.set_ylabel('y')\n",
    "ax.set_zlabel('z')\n",
    "ax.legend()\n"
   ]
  },
  {
   "cell_type": "code",
   "execution_count": null,
   "metadata": {},
   "outputs": [],
   "source": [
    "from scipy.sparse.linalg import spsolve\n",
    "uc_constant = spsolve(Kc, load_constant_constrained)\n",
    "u_constant = Q @ uc_constant\n",
    "uc_linear = spsolve(Kc, load_linear_constrained)\n",
    "u_linear = Q @ uc_linear"
   ]
  },
  {
   "cell_type": "code",
   "execution_count": null,
   "metadata": {},
   "outputs": [],
   "source": [
    "# Sanity check for load distribuation\n",
    "print(\"LOAD CHARACTERISTIC:\")\n",
    "print(f\"Total load: {load_linear.sum() :.1f} N\")\n",
    "print(f\"Area: {area :.3f} m^2\")\n",
    "print(f\"Calculated mean pressure: {load_linear.sum()/area/1000} kPa\")\n",
    "print(f\"Analytic mean pressure: p_max/2 = {p_max/2/1000} kPa\")\n",
    "\n",
    "# Scatter plot\n",
    "fig,ax = plt.subplots(subplot_kw={'projection':'3d'})\n",
    "\n",
    "ax.scatter(X[:,0],X[:,1],X[:,2],s=5,label='undeformed') # undeformed\n",
    "\n",
    "# format U like X\n",
    "U_constant = np.array([u_constant[Ix],u_constant[Iy],u_constant[Iz]]).T\n",
    "U_linear = np.array([u_linear[Ix],u_linear[Iy],u_linear[Iz]]).T\n",
    "\n",
    "# scale factor for plotting\n",
    "s = max(\n",
    "    0.5/np.max(np.sqrt(np.sum(U_constant**2,axis=0))),\n",
    "    0.5/np.max(np.sqrt(np.sum(U_linear**2,axis=0)))\n",
    "    )\n",
    "\n",
    "Xu_constant = X + s*U_constant # defomed configuration (displacement scaled by s)\n",
    "Xu_linear = X + s*U_linear\n",
    "ax.scatter(Xu_constant[:,0], Xu_constant[:,1], Xu_constant[:,2], s=5, label='const. pressure')\n",
    "ax.scatter(Xu_linear[:,0], Xu_linear[:,1], Xu_linear[:,2], s=8, label='lin. pressure')\n",
    "#ax.scatter(Xu_diff[:,0], Xu_diff[:,1], Xu_diff[:,2], s=8, label='difference')\n",
    "\n",
    "ax.set_xlabel('x')\n",
    "ax.set_ylabel('y')\n",
    "ax.set_zlabel('z')\n",
    "ax.legend()\n"
   ]
  },
  {
   "cell_type": "code",
   "execution_count": null,
   "metadata": {},
   "outputs": [],
   "source": [
    "def plot_3d_deformation(X, u, elev=30.0, azim=60.0):\n",
    "\n",
    "    # format U like X\n",
    "    U = np.array([u[Ix],u[Iy],u[Iz]]).T\n",
    "    s = 0.5/np.max(np.sqrt(np.sum(U**2,axis=0)))\n",
    "    Xu = X + s*U_linear\n",
    "\n",
    "    # Set up figure\n",
    "    fig = plt.figure()\n",
    "    ax = Axes3D(fig, elev=elev, azim=azim) \n",
    "    \n",
    "    # Plot a basic wireframe.\n",
    "    index = 1\n",
    "\n",
    "    x_bot = np.reshape(Xu[N_bot,0],(len(y),len(x)))\n",
    "    y_bot = np.reshape(Xu[N_bot,1],(len(y),len(x)))\n",
    "    z_bot = np.reshape(Xu[N_bot,2],(len(y),len(x)))\n",
    "\n",
    "    x_top = np.reshape(Xu[N_top,0],(len(y),len(x)))\n",
    "    y_top = np.reshape(Xu[N_top,1],(len(y),len(x)))\n",
    "    z_top = np.reshape(Xu[N_top,2],(len(y),len(x)))\n",
    "\n",
    "    x_o = np.reshape(Xu[No,0],(len(y),len(z)))\n",
    "    y_o = np.reshape(Xu[No,1],(len(y),len(z)))\n",
    "    z_o = np.reshape(Xu[No,2],(len(y),len(z)))\n",
    "\n",
    "    x_n = np.reshape(Xu[Nn,0],(len(x),len(z)))\n",
    "    y_n = np.reshape(Xu[Nn,1],(len(x),len(z)))\n",
    "    z_n = np.reshape(Xu[Nn,2],(len(x),len(z)))\n",
    "\n",
    "    x_s = np.reshape(Xu[Ns,0],(len(x),len(z)))\n",
    "    y_s = np.reshape(Xu[Ns,1],(len(x),len(z)))\n",
    "    z_s = np.reshape(Xu[Ns,2],(len(x),len(z)))\n",
    "\n",
    "    x_w = np.reshape(Xu[Nw,0],(len(y),len(z)))\n",
    "    y_w = np.reshape(Xu[Nw,1],(len(y),len(z)))\n",
    "    z_w = np.reshape(Xu[Nw,2],(len(y),len(z)))\n",
    "\n",
    "    sf1 = ax.plot_surface(x_bot, y_bot, z_bot, rstride=index, cstride=index)\n",
    "    sf2 = ax.plot_surface(x_top, y_top, z_top, rstride=index, cstride=index)\n",
    "    sf3 = ax.plot_surface(x_o, y_o, z_o, rstride=index, cstride=index)\n",
    "    sf4 = ax.plot_surface(x_n, y_n, z_n, rstride=index, cstride=index)\n",
    "    sf5 = ax.plot_surface(x_s, y_s, z_s, rstride=index, cstride=index)\n",
    "    sf6 = ax.plot_surface(x_w, y_w, z_w, rstride=index, cstride=index)\n",
    "\n",
    "    ax.set_xlim(-0.3,0.3)\n",
    "    ax.set_ylim(-0.2,0.2)\n",
    "    ax.set_zlim(-0.04,0.04)\n",
    "\n",
    "    ax.set_xlabel('x')\n",
    "    ax.set_ylabel('y')\n",
    "    ax.set_zlabel('z')\n",
    "    pass\n",
    "\n",
    "plot_3d_deformation(X, u_constant, elev=30, azim=-60)\n",
    "plot_3d_deformation(X, u_constant, elev=10, azim=0)\n",
    "plot_3d_deformation(X, u_constant, elev=10, azim=-90)"
   ]
  },
  {
   "cell_type": "markdown",
   "metadata": {},
   "source": [
    "Approximate the computed static displacement using the first three oscillation modes.\n",
    "* What are the required modal coordinates?\n",
    "* Plot the residual, which mode should you include to improve the approximation?"
   ]
  },
  {
   "cell_type": "code",
   "execution_count": null,
   "metadata": {},
   "outputs": [],
   "source": []
  },
  {
   "cell_type": "code",
   "execution_count": null,
   "metadata": {},
   "outputs": [],
   "source": []
  },
  {
   "cell_type": "markdown",
   "metadata": {},
   "source": [
    "# Transient Solution\n",
    "\n",
    "We'll investigate the plate in the same configuration as in Exercise 2, but now compute results using reduced order models.\n",
    "\n",
    "One can use the Newmark time intragration both for the full system and in the modal coodinates."
   ]
  },
  {
   "cell_type": "markdown",
   "metadata": {},
   "source": [
    "### Forcing\n",
    "Use the forcing given in Task 1 of Exercise 2: $f(t) = 1-e^{-(t/0.002)^2}$ in z-direction at $P_1= [0.2,0.12,0.003925]$."
   ]
  },
  {
   "cell_type": "code",
   "execution_count": null,
   "metadata": {},
   "outputs": [],
   "source": [
    "P1 = [0.2,0.12,0.003925]\n",
    "N1 = np.argmin(np.sum((X-P1)**2,axis=1))\n",
    "P2 = [0.0,-0.1,0.003925]\n",
    "N2 = np.argmin(np.sum((X-P2)**2,axis=1))\n",
    "\n",
    "Nt = np.argwhere(np.abs(X[:,2]-X[:,2].max())<tol).ravel()\n",
    "\n",
    "## Functions for TASK 1:\n",
    "\n",
    "# Define some excitation signals (again for completeness)\n",
    "\n",
    "def smoothImpulse(t, tau=1, t0=0):\n",
    "    return np.exp(-(t-t0)/tau)\n",
    "\n",
    "def smoothStep(t, tau=1, t0=0):\n",
    "    return 1-smoothImpulse(t, tau, t0)\n",
    "\n",
    "def gaussianImpulse(t, tau=1, t0=0):\n",
    "    return np.exp(-((t-t0)/tau)**2)\n",
    "\n",
    "def gaussianStep(t, tau=1, t0=0): # <-- Thats the one for Task 1 !\n",
    "    return 1-gaussianImpulse(t, tau, t0)\n",
    "\n",
    "def unreduce_constrained(uc, Ic):\n",
    "    \"\"\"Takes the reduced displacement array uc of shape(m,) and the boolean array Ic of shape(n,) \n",
    "    and builds a new unreduced u array of shape(n,).\"\"\"\n",
    "    u = np.zeros((Ic.shape[0], uc.shape[1])) # Initialize unconstrained displacement array\n",
    "    u[~Ic] = uc\n",
    "    return u"
   ]
  },
  {
   "cell_type": "code",
   "execution_count": null,
   "metadata": {},
   "outputs": [],
   "source": [
    "def plot_displacements_timedomain(u, time, N1, N2):\n",
    "    \n",
    "    # Find node number in the center\n",
    "    P_center = [0.,0.,0.]\n",
    "    N_center = np.argmin(np.sum((X-P_center)**2,axis=1))\n",
    "    \n",
    "    # Plot\n",
    "    timePlot, timeAxis = plt.subplots()\n",
    "    timeAxis.plot(time*1000, u[N1], label = \"P1\")\n",
    "    timeAxis.plot(time*1000, u[N2], label = \"P2\")\n",
    "    timeAxis.set_xlabel('t [ms]')\n",
    "    timeAxis.set_ylabel('u(t) [m]')\n",
    "    timeAxis.legend()\n",
    "\n",
    "    timePlot_center, timeAxis_center = plt.subplots()\n",
    "    timeAxis_center.plot(time*1000, u[N_center], label = \"P_center\")\n",
    "    timeAxis_center.set_xlabel('t [ms]')\n",
    "    timeAxis_center.set_ylabel('u(t) [m]')\n",
    "    timeAxis_center.set_title(f\"Displacements - Time Domain\")\n",
    "    timeAxis_center.legend()\n",
    "\n",
    "def plot_displacements_timedomain_differentmodes(u,u1,u2,u3,u4,time, N1, N2):\n",
    "    \n",
    "    # Find node number in the center\n",
    "    P_center = [0.,0.,0.]\n",
    "    N_center = np.argmin(np.sum((X-P_center)**2,axis=1))\n",
    "    \n",
    "    # Plot\n",
    "    timePlot, timeAxis = plt.subplots()\n",
    "    timeAxis.plot(time*1000, u[N1], label = \"P1\")\n",
    "    timeAxis.plot(time*1000, u1[N1], label = \"P1_modes2\")\n",
    "    timeAxis.plot(time*1000, u2[N1], label = \"P1_modes15\")\n",
    "    timeAxis.plot(time*1000, u3[N1], label = \"P1_modes30\")\n",
    "    timeAxis.plot(time*1000, u4[N1], label = \"P1_modes100\")\n",
    "    timeAxis.plot(time*1000, u[N2], label = \"P2\")\n",
    "    timeAxis.plot(time*1000, u1[N2], label = \"P2_modes2\")\n",
    "    timeAxis.plot(time*1000, u2[N2], label = \"P2_modes15\")\n",
    "    timeAxis.plot(time*1000, u3[N2], label = \"P2_modes30\")\n",
    "    timeAxis.plot(time*1000, u4[N2], label = \"P2_modes100\")\n",
    "    timeAxis.plot(time*1000,u[N_center], label =\"P_center\")\n",
    "    timeAxis.plot(time*1000, u1[N_center], label = \"P_center_modes2\")\n",
    "    timeAxis.plot(time*1000, u2[N_center], label = \"P_center_modes15\")\n",
    "    timeAxis.plot(time*1000, u3[N_center], label = \"P_center_modes30\")\n",
    "    timeAxis.plot(time*1000, u4[N_center], label = \"P_center_modes100\")\n",
    "    timeAxis.set_xlabel('t [ms]')\n",
    "    timeAxis.set_ylabel('u(t) [m]')\n",
    "    timeAxis.legend()\n",
    "    \n",
    "def plot_P1_timedomain(u, time, N1):\n",
    "    \n",
    "    # Plot\n",
    "    timePlot, timeAxis = plt.subplots()\n",
    "    timeAxis.plot(time*1000, u[N1], label = \"P1\")\n",
    "    timeAxis.set_xlabel('t [ms]')\n",
    "    timeAxis.set_ylabel('u(t) [m]')\n",
    "    timeAxis.set_title(f\"Displacement - Time Domain\")\n",
    "    timeAxis.legend()\n",
    "    \n",
    "def plot_P2_timedomain(u, time, N2):\n",
    "    \n",
    "    # Plot\n",
    "    timePlot, timeAxis = plt.subplots()\n",
    "    timeAxis.plot(time*1000, u[N2], label = \"P2\")\n",
    "    timeAxis.set_xlabel('t [ms]')\n",
    "    timeAxis.set_ylabel('u(t) [m]')\n",
    "    timeAxis.set_title(f\"Displacement - Time Domain\")\n",
    "    timeAxis.legend()\n",
    "    \n",
    "def plot_different_P1_timedomain(u,u1,u2,u3,time,N1):\n",
    "    # Plot\n",
    "    timePlot, timeAxis = plt.subplots()\n",
    "    timeAxis.plot(time*1000, u[N1], label = \"P1_mode2\")\n",
    "    timeAxis.plot(time*1000, u1[N1], label = \"P1_mode3\")\n",
    "    timeAxis.plot(time*1000, u2[N1], label = \"P1_mode5\")\n",
    "    timeAxis.plot(time*1000, u3[N1], label = \"P1_full\")\n",
    "    timeAxis.set_xlabel('t [ms]')\n",
    "    timeAxis.set_ylabel('u(t) [m]')\n",
    "    timeAxis.set_title(f\"Displacement - Time Domain\")\n",
    "    timeAxis.legend()\n",
    "    \n",
    "def plot_different_P2_timedomain(u,u1,u2,u3,time,N2):\n",
    "    # Plot\n",
    "    timePlot, timeAxis = plt.subplots()\n",
    "    timeAxis.plot(time*1000, u[N2], label = \"P2_mode2\")\n",
    "    timeAxis.plot(time*1000, u1[N2], label = \"P2_mode3\")\n",
    "    timeAxis.plot(time*1000, u2[N2], label = \"P2_mode5\")\n",
    "    timeAxis.plot(time*1000, u3[N2], label = \"P2_full\")\n",
    "    timeAxis.set_xlabel('t [ms]')\n",
    "    timeAxis.set_ylabel('u(t) [m]')\n",
    "    timeAxis.set_title(f\"Displacement - Time Domain\")\n",
    "    timeAxis.legend()\n",
    "\n",
    "def plot_different_PCenter_timedomain(u,u1,u2,u3,time,X):\n",
    "    \n",
    "    #Find node number in the center\n",
    "    P_center = [0.,0.,0.]\n",
    "    N_center = np.argmin(np.sum((X-P_center)**2,axis=1))\n",
    "    \n",
    "    # Plot\n",
    "    timePlot, timeAxis = plt.subplots()\n",
    "    timeAxis.plot(time*1000, u[N_center], label = \"PCenter_mode2\")\n",
    "    timeAxis.plot(time*1000, u1[N_center], label = \"PCenter_mode3\")\n",
    "    timeAxis.plot(time*1000, u2[N_center], label = \"PCenter_mode5\")\n",
    "    timeAxis.plot(time*1000, u3[N_center], label = \"PCenter_full\")\n",
    "    timeAxis.set_xlabel('t [ms]')\n",
    "    timeAxis.set_ylabel('u(t) [m]')\n",
    "    timeAxis.set_title(f\"Displacement - Time Domain\")\n",
    "    timeAxis.legend()\n",
    "    \n",
    "def compare_modalmodes(u_modal,u_full,time, N1, N2):\n",
    "    \n",
    "    # Plot\n",
    "    timePlot, timeAxis = plt.subplots()\n",
    "    timeAxis.plot(time*1000, u_modal[N1], label = \"P1_modal\")\n",
    "    timeAxis.plot(time*1000, u_full[N1], label = \"P1_full\")\n",
    "\n",
    "    timeAxis.plot(time*1000, u_modal[N2], label = \"P2_modal\")\n",
    "    timeAxis.plot(time*1000, u_full[N2], label = \"P2_full\")\n",
    "\n",
    "    timeAxis.set_xlabel('t [ms]')\n",
    "    timeAxis.set_ylabel('u(t) [m]')\n",
    "    timeAxis.legend()\n",
    "    \n",
    "def plot_modalcoordinates(uc,time):\n",
    "    #plot\n",
    "    timePlot, timeAxis = plt.subplots()\n",
    "    for i in range(0,len(uc),1):\n",
    "        timeAxis.plot(time*1000, uc[i], label = \"Modal%s\" %i)\n",
    "    timeAxis.set_xlabel('t [ms]')\n",
    "    timeAxis.set_ylabel('Madalcoordinates(t) [m]')\n",
    "    timeAxis.legend()"
   ]
  },
  {
   "cell_type": "markdown",
   "metadata": {},
   "source": [
    "### Damping\n",
    "For the sake of simplicity assume Rayleigh damping with $\\alpha=2.15$ and $\\beta=3e-5$."
   ]
  },
  {
   "cell_type": "code",
   "execution_count": null,
   "metadata": {},
   "outputs": [],
   "source": [
    "#Define alpha & beta\n",
    "alpha = 2.15\n",
    "beta = 3e-5\n",
    "\n",
    "def full_excitation_analysis(tau=0.002, T=0.2, \n",
    "                             excitation_type='step', \n",
    "                             display_animation=False, k = None):\n",
    "       \n",
    "    # Assign load\n",
    "    if excitation_type == 'step':\n",
    "        \n",
    "        # integration time\n",
    "        f_max = 1/tau # Very crude estimation of max frequency.\n",
    "        dt = 1/(20*f_max) # Timestep \n",
    "        time = np.arange(0, T, dt) # Create time array for integration\n",
    "        \n",
    "        load = gaussianStep(time, tau)\n",
    "        \n",
    "    elif excitation_type == 'impulse':\n",
    "        \n",
    "        # integration time\n",
    "        f_max = 5/tau # Very crude estimation of max frequency.\n",
    "        dt = 1/(20*f_max) # Timestep \n",
    "        time = np.arange(0, T, dt) # Create time array for integration\n",
    "        \n",
    "        load = gaussianImpulse(time, tau)\n",
    "        \n",
    "    # Checkout load function\n",
    "    #plot_load_analysis(load, time) # Plot that thing.\n",
    "\n",
    "    # Construct Constrained System\n",
    "    N = K.shape[0]//3 # Get number of nodes! Note: 3*N = DoF.\n",
    "\n",
    "    Cc = alpha*Mc + beta*Kc # Construct the proportional damping matrix with pre-determined alpha and beta values.\n",
    "\n",
    "    f = np.array(np.zeros((3*N, time.shape[0]))) # Initialize load vector array; Note that the columns contain the force values from 0 to T!\n",
    "    f[Iz[N1]] = load # Assign load function at point N1 in z-direction.\n",
    "    fc = f[~Ic] # Reduce load array.\n",
    "        \n",
    "    #Cheking if full system is used or modal system\n",
    "    if k == None:\n",
    "    \n",
    "        u0 = np.zeros(3*N) # Initial displacement set to 0.\n",
    "        u0c = u0[~Ic] # Reduce displacement vector.\n",
    "\n",
    "        # Time Integration\n",
    "        uc, vc, ac = Newmark(Mc, Cc ,Kc , fc, time, u0c)\n",
    "        u = unreduce_constrained(uc, Ic) # Collect the displacement constraints in the unreduced displacement array.\n",
    "        \n",
    "\n",
    "        # Plot P1\n",
    "        #plot_P1_timedomain(u, time, N1)\n",
    "        \n",
    "        #Plot P2\n",
    "        #plot_P2_timedomain(u, time, N2)\n",
    "        \n",
    "        return u, uc\n",
    "    else:\n",
    "        # only compute a subset of modes of the reduced model\n",
    "        W,V = eigsh(Kc,k,Mc,sigma=0,which='LM',maxiter = 1000)\n",
    "        \n",
    "        #Compute modal system matrices\n",
    "        Km = V.T @ Kc @ V\n",
    "        Mm = V.T @ Mc @ V\n",
    "        Cm = V.T @ Cc @ V\n",
    "        fm = V.T @ fc\n",
    "        \n",
    "        #define displacement vector\n",
    "        u0c = np.array(np.zeros(len(fm),))\n",
    "        \n",
    "        # Time Integration\n",
    "        uc, vc, ac = Newmark(Mm, Cm ,Km , fm, time, u0c)\n",
    "        \n",
    "        full_solution = V @ uc\n",
    "        \n",
    "        u = unreduce_constrained(full_solution, Ic) # Collect the displacement constraints in the unreduced displacement array.\n",
    "        \n",
    "        \n",
    "        # Plot P1\n",
    "        #plot_P1_timedomain(u, time, N1)\n",
    "        \n",
    "        #Plot P2\n",
    "        #plot_P2_timedomain(u, time, N2) \n",
    "        return u, uc"
   ]
  },
  {
   "cell_type": "code",
   "execution_count": null,
   "metadata": {},
   "outputs": [],
   "source": [
    "u, uc = full_excitation_analysis(tau=0.002, T=0.2, excitation_type='step',k=2)"
   ]
  },
  {
   "cell_type": "markdown",
   "metadata": {},
   "source": [
    "## Task 1: Transient Response using Reduced Model\n",
    "\n",
    "Use a modal basis of the first two modes and compute the transient response of the system (under the same loading as in Task 1 of Exercise 2). Plot the response at points P1 and P2, and compare with the full system.\n",
    "What is the error with respect to the full system?"
   ]
  },
  {
   "cell_type": "code",
   "execution_count": null,
   "metadata": {},
   "outputs": [],
   "source": [
    "u_modal, uc_modal = full_excitation_analysis(tau=0.002, T=0.2, excitation_type='step',k=2)\n",
    "\n",
    "f_max = 1/0.002 # Very crude estimation of max frequency.\n",
    "dt = 1/(20*f_max) # Timestep \n",
    "time = np.arange(0, 0.2, dt)\n",
    "\n",
    "#plot P1 & P2 for 2 modes\n",
    "plot_P1_timedomain(u_modal, time, N1)\n",
    "plot_P2_timedomain(u_modal, time, N2)"
   ]
  },
  {
   "cell_type": "code",
   "execution_count": null,
   "metadata": {},
   "outputs": [],
   "source": [
    "u_full, uc_full = full_excitation_analysis(tau=0.002, T=0.2, excitation_type='step')\n",
    "\n",
    "#plot P1 & P2 for full system\n",
    "plot_P1_timedomain(u_full, time, N1)\n",
    "plot_P2_timedomain(u_full, time, N2)"
   ]
  },
  {
   "cell_type": "code",
   "execution_count": null,
   "metadata": {},
   "outputs": [],
   "source": [
    "u_error_modal = u_full - u_modal\n",
    "\n",
    "#Compare modalmodes with full system\n",
    "compare_modalmodes(u_modal,u_full,time, N1, N2)"
   ]
  },
  {
   "cell_type": "markdown",
   "metadata": {},
   "source": [
    "### Choice of Modes\n",
    "* How does the error improve when you take more modes?\n",
    "* Plot the response at selected nodes, e.g. N1, N2, center, for different models in the same graph."
   ]
  },
  {
   "cell_type": "code",
   "execution_count": null,
   "metadata": {},
   "outputs": [],
   "source": [
    "u_mode3, uc_mode3 = full_excitation_analysis(tau=0.002, T=0.2, excitation_type='step', k=3)\n",
    "u_mode5, uc_mode5 = full_excitation_analysis(tau=0.002, T=0.2, excitation_type='step', k=5)\n",
    "u_mode10, uc_mode10 = full_excitation_analysis(tau=0.002, T=0.2, excitation_type='step', k=10)"
   ]
  },
  {
   "cell_type": "code",
   "execution_count": null,
   "metadata": {},
   "outputs": [],
   "source": [
    "#plot P1 for different modes\n",
    "plot_different_P1_timedomain(u_modal,u_mode3,u_mode5,u_full,time,N1)\n",
    "\n",
    "#plot P2 for different modes\n",
    "plot_different_P2_timedomain(u_modal,u_mode3,u_mode5,u_full,time,N2)\n",
    "\n",
    "#plot P_Center for different modes\n",
    "plot_different_PCenter_timedomain(u_modal,u_mode3,u_mode5,u_full,time,X)\n",
    "\n",
    "#one can see that the error decreases significantly with more modes. in this case modal modes more than 6 is good"
   ]
  },
  {
   "cell_type": "code",
   "execution_count": null,
   "metadata": {},
   "outputs": [],
   "source": [
    "#Comparing error\n",
    "u_error_mode3 = u_full - u_mode3\n",
    "u_error_mode5 = u_full - u_mode5\n",
    "u_error_mode10 = u_full - u_mode10\n",
    "\n",
    "plot_different_P1_timedomain(u_error_modal,u_error_mode3,u_error_mode5,u_error_mode10,time,N1)\n",
    "\n",
    "#plot P2 for different modes\n",
    "plot_different_P2_timedomain(u_error_modal,u_error_mode3,u_error_mode5,u_error_mode10,time,N2)"
   ]
  },
  {
   "cell_type": "markdown",
   "metadata": {},
   "source": [
    "### Time Evolution of Modal Corrdinates\n",
    "* Visualize the time evolution of the used modal coordinates\n",
    "* Do this for the results obtained with differnt modal bases\n",
    "* Compute the modal contributions in the same way. Which modes contribute most for which model?"
   ]
  },
  {
   "cell_type": "code",
   "execution_count": null,
   "metadata": {},
   "outputs": [],
   "source": [
    "#Visualizing time evoultion of the modal cooridnates for different modal bsases\n",
    "plot_modalcoordinates(uc_modal,time)\n",
    "plot_modalcoordinates(uc_mode3,time)\n",
    "plot_modalcoordinates(uc_mode5,time)\n",
    "plot_modalcoordinates(uc_mode10,time)"
   ]
  },
  {
   "cell_type": "code",
   "execution_count": null,
   "metadata": {},
   "outputs": [],
   "source": [
    "#Define a function that computes rho for diffferent modal cooridnates\n",
    "def plot_rho(uc): \n",
    "    rho = uc/np.linalg.norm(uc)\n",
    "    Plot, Axis = plt.subplots()\n",
    "    for i in range(0,len(uc),1):\n",
    "        Axis.plot(uc[i], rho[i] , label = \"Rho%s\" %i)\n",
    "    Axis.set_xlabel('Modes')\n",
    "    Axis.set_ylabel('Rho')\n",
    "    Axis.legend()"
   ]
  },
  {
   "cell_type": "code",
   "execution_count": null,
   "metadata": {},
   "outputs": [],
   "source": [
    "#Visualizing time evoultion of the modal cooridnates for different modal bsases\n",
    "plot_rho(uc_modal)\n",
    "plot_rho(uc_mode3)\n",
    "plot_rho(uc_mode5)\n",
    "plot_rho(uc_mode10)"
   ]
  },
  {
   "cell_type": "markdown",
   "metadata": {},
   "source": [
    "# Steady State Oscillation | Frequency Domain\n",
    "\n",
    "Now switch to frequency domain and compute the steady state response of the system.\n",
    "For the sake of simplicity use a unit excitation at $P_1$."
   ]
  },
  {
   "cell_type": "code",
   "execution_count": null,
   "metadata": {},
   "outputs": [],
   "source": [
    "from numpy.linalg import solve\n",
    "import time"
   ]
  },
  {
   "cell_type": "code",
   "execution_count": null,
   "metadata": {},
   "outputs": [],
   "source": [
    "def FrequencyDomain(omega, direc = Iz, node = N1, K = Kc, C = Cc, M = Mc):\n",
    "    #1. Compute the dynamic stiffness matrix Z for one omega\n",
    "    Z = K + complex(0,1) * omega * C - omega**2 * M     \n",
    "    \n",
    "    #2. Assemble one (or several) forcing vectors\n",
    "    f_hat = np.zeros(3*N)\n",
    "    f_hat[direc[node]] = 1.0    #for sys without constrains and force acting on N1 which is the closest node to P1\n",
    "    fc_hat = f_hat[~Ic]    #for reduced sys, because of constrains\n",
    "    \n",
    "    fc_hat_red = V.transpose() @ fc_hat #reduced forcing vector\n",
    "    \n",
    "    #3. solve for the displacements\n",
    "    xc_hat_red = solve(Z,fc_hat_red)       #for np.array matrices\n",
    "    \n",
    "    return(xc_hat_red) #complex, so ampl and phase is in there; for all DoF which are not constrained"
   ]
  },
  {
   "cell_type": "markdown",
   "metadata": {},
   "source": [
    "## Task 2: Compute Harmonic Response using a Reduced Model\n",
    "\n",
    "Use the first 10 modes to compute the steady state response for a unit forcing in z-direction at $P_1$.\n",
    "Do the computation for Rayleigh damping and for Modal damping with a damping ratio of 0.01 for each mode.\n",
    "Compare the results by plotting the transfer functions up to 300Hz."
   ]
  },
  {
   "cell_type": "code",
   "execution_count": null,
   "metadata": {},
   "outputs": [],
   "source": [
    "## only compute a subset of modes of the reduced model\n",
    "k = 10\n",
    "W,V = eigsh(Kc,k,Mc,sigma=0,which='LM',maxiter = 1000)"
   ]
  },
  {
   "cell_type": "code",
   "execution_count": null,
   "metadata": {},
   "outputs": [],
   "source": [
    "def ResponseOverReducedSystem(max_freq = 300, min_freq = 2, Nr_steps = 150):\n",
    "    \n",
    "    ## Compute the reduced system matrices and forcing vector\n",
    "    M_red = V.transpose() @ Mc @ V\n",
    "    C_red = V.transpose() @ Cc @ V\n",
    "    K_red = V.transpose() @ Kc @ V\n",
    "\n",
    "    ## Solve the reduced system for the modal coordinates eta and transforamtion to obtain the full solution\n",
    "    eta_hat_store = []\n",
    "    \n",
    "    freq = np.linspace(min_freq, max_freq, Nr_steps)\n",
    "    P1_resp_z = np.zeros([len(freq), 2])\n",
    "\n",
    "    for i,f in enumerate(freq):\n",
    "        # response of the reduced system M_red K_red C_red\n",
    "        eta_hat = FrequencyDomain(omega = 2*np.pi*f, K = K_red, C = C_red, M = M_red)\n",
    "        eta_hat_store.append(eta_hat)\n",
    "\n",
    "        # coordinate transformation to obtain the full solution\n",
    "        resp = V @ eta_hat\n",
    "\n",
    "        # insert missing nodes with zero, because of the constrains\n",
    "        resp_all = np.zeros(N*3) + complex(0,0)\n",
    "        resp_all[~Ic] = resp\n",
    "\n",
    "        #Amplitude displacement\n",
    "        #P1_resp_z[counter,0] = 20*np.log10(np.abs(resp_all[Iz[N1]]))\n",
    "        P1_resp_z[i,0] = np.abs(resp_all[Iz[N1]])\n",
    "\n",
    "        #Phase in degree\n",
    "        P1_resp_z[i,1] = np.angle(resp_all[Iz[N1]])*180/np.pi\n",
    "\n",
    "    eta_hat_store = np.asarray(eta_hat_store)\n",
    "    \n",
    "    return(P1_resp_z, eta_hat_store, freq)"
   ]
  },
  {
   "cell_type": "code",
   "execution_count": null,
   "metadata": {},
   "outputs": [],
   "source": [
    "dampingRatio = 0.01 # Damping ratio choosen"
   ]
  },
  {
   "cell_type": "code",
   "execution_count": null,
   "metadata": {},
   "outputs": [],
   "source": [
    "### Rayleigh damping like ex.2\n",
    "## getting alpha and beta\n",
    "omegas = np.sqrt(abs(W)) # Collect angular eigenfrq.\n",
    "omegaCoeffs = np.vstack((0.5/omegas, omegas*0.5)).T # Build coefficent matrix  \n",
    "\n",
    "b = dampingRatio*np.ones(np.shape(omegaCoeffs)[0]) # Right-hand side of omegaCoeffs*alphaBeta = b\n",
    "\n",
    "alphaBeta = np.linalg.solve(omegaCoeffs[(0,4),:], b.take([0,4])) # Solve for alphaBeta at 1. and 5. natural frequency\n",
    "\n",
    "dampingRatios = omegaCoeffs @ alphaBeta \n",
    "\n",
    "start_time = time.time()\n",
    "\n",
    "## assemble Damping-Matrix for the reduced sys and given aplha and beta for Rayleigh damping\n",
    "alpha = alphaBeta[0]\n",
    "beta = alphaBeta[1]\n",
    "Cc = alpha * Mc + beta * Kc\n",
    "\n",
    "response_ModalCoordinates_frequency = ResponseOverReducedSystem()\n",
    "P1_resp_z_ray = response_ModalCoordinates_frequency[0]\n",
    "eta_hat_ray = response_ModalCoordinates_frequency[1]\n",
    "frequency_ray = response_ModalCoordinates_frequency[2]\n",
    "\n",
    "print(\"--- %s seconds ---\" % (time.time() - start_time))"
   ]
  },
  {
   "cell_type": "code",
   "execution_count": null,
   "metadata": {},
   "outputs": [],
   "source": [
    "### Modal damping\n",
    "start_time = time.time()\n",
    "\n",
    "##  assemble Cc-Matrix\n",
    "container = np.array(2*np.sqrt(W)*dampingRatio)\n",
    "diagMiddle = np.diag(container)\n",
    "Cc = V @ diagMiddle @ V.transpose()\n",
    "\n",
    "response_ModalCoordinates_frequency = ResponseOverReducedSystem()\n",
    "P1_resp_z_mod = response_ModalCoordinates_frequency[0]\n",
    "eta_hat_mod = response_ModalCoordinates_frequency[1]\n",
    "frequency_mod = response_ModalCoordinates_frequency[2]\n",
    "\n",
    "print(\"--- %s seconds ---\" % (time.time() - start_time))"
   ]
  },
  {
   "cell_type": "code",
   "execution_count": null,
   "metadata": {},
   "outputs": [],
   "source": [
    "### Plot of transfer functions up to 300Hz (Bode-Diag.)\n",
    "\n",
    "#plot response in z for P1 with Rayleigh damping\n",
    "plt.plot(frequency_ray, P1_resp_z_ray[:,0])\n",
    "plt.title('resp. P1, z-disp., Rayleigh damping')\n",
    "plt.ylabel('Amplitude')\n",
    "plt.xlabel('Frequency (1/s)')\n",
    "# plt.xscale('log')\n",
    "# plt.xlim(1, 1000)\n",
    "plt.grid(True)\n",
    "plt.show()\n",
    "\n",
    "plt.plot(frequency_ray, P1_resp_z_ray[:,1])\n",
    "plt.ylabel('Phase (deg)')\n",
    "plt.xlabel('Frequency (1/s)')\n",
    "# plt.xscale('log')\n",
    "# plt.xlim(1, 1000)\n",
    "plt.grid(True)\n",
    "plt.show()\n",
    "\n",
    "#plot response in z for P1 with Modal damping\n",
    "plt.plot(frequency_mod, P1_resp_z_mod[:,0])\n",
    "plt.title('resp. P1, z-disp., Modal damping')\n",
    "plt.ylabel('Amplitude')\n",
    "plt.xlabel('Frequency (1/s)')\n",
    "# plt.xscale('log')\n",
    "# plt.xlim(1, 1000)\n",
    "plt.grid(True)\n",
    "plt.show()\n",
    "\n",
    "plt.plot(frequency_mod, P1_resp_z_mod[:,1])\n",
    "plt.ylabel('Phase (deg)')\n",
    "plt.xlabel('Frequency (1/s)')\n",
    "#plt.xscale('log')\n",
    "#plt.xlim(1, 1000)\n",
    "plt.grid(True)\n",
    "plt.show()"
   ]
  },
  {
   "cell_type": "markdown",
   "metadata": {},
   "source": [
    "### Compare damping models\n",
    "* what is the difference between modal and Rayleigh damping?\n",
    "* what happens if you only damp certain modes with modal damping?"
   ]
  },
  {
   "cell_type": "code",
   "execution_count": null,
   "metadata": {},
   "outputs": [],
   "source": [
    "#plot response in z for P1 with Rayleigh damping and Modal damping\n",
    "plt.plot(frequency_ray, P1_resp_z_ray[:,0], label = 'Rayleigh')\n",
    "plt.plot(frequency_mod, P1_resp_z_mod[:,0], label = 'Modal')\n",
    "plt.title('resp. P1, z-disp.')\n",
    "plt.ylabel('Amplitude')\n",
    "plt.xlabel('Frequency (1/s)')\n",
    "# plt.xscale('log')\n",
    "# plt.xlim(1, 1000)\n",
    "plt.grid(True)\n",
    "plt.legend()\n",
    "plt.show()"
   ]
  },
  {
   "cell_type": "code",
   "execution_count": null,
   "metadata": {},
   "outputs": [],
   "source": [
    "## only damp certain modes with modal damping\n",
    "\n",
    "### assemble Cc-Matrix; only damp first mode with modal damping\n",
    "container = np.zeros(len(W))\n",
    "which_mode = 0\n",
    "container[which_mode] = 2*np.sqrt(W[which_mode])*dampingRatio\n",
    "diagMiddle = np.diag(container)\n",
    "Cc = V @ diagMiddle @ V.transpose()\n",
    "\n",
    "response_ModalCoordinates_frequency = ResponseOverReducedSystem()\n",
    "P1_resp_z_mod_first = response_ModalCoordinates_frequency[0]\n",
    "eta_hat_mod_first = response_ModalCoordinates_frequency[1]\n",
    "frequency_first = response_ModalCoordinates_frequency[2]\n",
    "\n",
    "### assemble Cc-Matrix; only damp second mode with modal damping\n",
    "container = np.zeros(len(W))\n",
    "which_mode = 1\n",
    "container[which_mode] = 2*np.sqrt(W[which_mode])*dampingRatio\n",
    "diagMiddle = np.diag(container)\n",
    "Cc = V @ diagMiddle @ V.transpose()\n",
    "\n",
    "response_ModalCoordinates_frequency = ResponseOverReducedSystem()\n",
    "P1_resp_z_mod_second = response_ModalCoordinates_frequency[0]\n",
    "eta_hat_mod_second = response_ModalCoordinates_frequency[1]\n",
    "frequency_second = response_ModalCoordinates_frequency[2]\n",
    "\n",
    "### assemble Cc-Matrix; only damp the seventh mode with modal damping\n",
    "container = np.zeros(len(W))\n",
    "which_mode = 6\n",
    "container[which_mode] = 2*np.sqrt(W[which_mode])*dampingRatio\n",
    "diagMiddle = np.diag(container)\n",
    "Cc = V @ diagMiddle @ V.transpose()\n",
    "\n",
    "response_ModalCoordinates_frequency = ResponseOverReducedSystem()\n",
    "P1_resp_z_mod_seventh = response_ModalCoordinates_frequency[0]\n",
    "eta_hat_mod_seventh = response_ModalCoordinates_frequency[1]\n",
    "frequency_seventh = response_ModalCoordinates_frequency[2]"
   ]
  },
  {
   "cell_type": "code",
   "execution_count": null,
   "metadata": {},
   "outputs": [],
   "source": [
    "#plot response in z for P1 with Modal damping on certain modes\n",
    "plt.plot(frequency_ray, P1_resp_z_mod_first[:,0], label = 'first mode')\n",
    "plt.plot(frequency_mod, P1_resp_z_mod_second[:,0], label = 'second mode')\n",
    "# plt.plot(frequency_mod, P1_resp_z_mod_seventh[:,0], label = 'seventh mode')\n",
    "plt.title('resp. P1, z-disp.')\n",
    "plt.ylabel('Amplitude')\n",
    "plt.xlabel('Frequency (1/s)')\n",
    "# plt.xscale('log')\n",
    "# plt.xlim(1, 1000)\n",
    "plt.grid(True)\n",
    "plt.legend()\n",
    "plt.show()\n",
    "\n",
    "#plot response in z for P1 with Modal damping on seventh mode (last under 300Hz)\n",
    "plt.plot(frequency_mod, P1_resp_z_mod_seventh[:,0], label = 'seventh mode')\n",
    "plt.title('resp. P1, z-disp.')\n",
    "plt.ylabel('Amplitude')\n",
    "plt.xlabel('Frequency (1/s)')\n",
    "# plt.xscale('log')\n",
    "plt.ylim(-0.00005, 0.0007)\n",
    "plt.grid(True)\n",
    "plt.legend()\n",
    "plt.show()"
   ]
  },
  {
   "cell_type": "code",
   "execution_count": null,
   "metadata": {},
   "outputs": [],
   "source": [
    "# Output of the natural frequencies for illustration\n",
    "print(np.sqrt(W)/2/np.pi)"
   ]
  },
  {
   "cell_type": "markdown",
   "metadata": {},
   "source": [
    "### Modal contribution\n",
    "* compute the modal contribution factors for each mode and plot them over the frequency\n",
    "* When is which mode important?"
   ]
  },
  {
   "cell_type": "code",
   "execution_count": null,
   "metadata": {},
   "outputs": [],
   "source": [
    "### Modal Contribution factor for each mode\n",
    "frequency = frequency_ray\n",
    "eta = eta_hat_ray\n",
    "\n",
    "rho = np.zeros([k, len(frequency)],dtype=float)\n",
    "\n",
    "for i,f in enumerate(frequency):\n",
    "    data = eta[i,:]\n",
    "    \n",
    "    rho[:,i] = np.abs(data)/np.linalg.norm(data)\n",
    "    rho[:,i] = rho[:,i]/np.sum(rho[:,i])"
   ]
  },
  {
   "cell_type": "code",
   "execution_count": null,
   "metadata": {},
   "outputs": [],
   "source": [
    "#plot modal Contribution Factor over the frequency 1.Mode\n",
    "\n",
    "for i,values in enumerate(rho) :   \n",
    "    plt.plot(frequency, rho[i,:])\n",
    "    plt.title('Modal Contribution Factor over Frequency ' + str(i+1) + '.Mode')\n",
    "    plt.ylabel('rho')\n",
    "    plt.xlabel('Frequency (1/s)')\n",
    "    plt.grid(True)\n",
    "    plt.show()"
   ]
  },
  {
   "cell_type": "code",
   "execution_count": null,
   "metadata": {},
   "outputs": [],
   "source": [
    "# ## pLot modal contribution of the modes\n",
    "\n",
    "# for i,values in enumerate(rho) :   \n",
    "#     fig, ax = plt.subplots(figsize=(20,8))\n",
    "#     ax.plot(rho[:,i])\n",
    "#     ax.set_xlabel('modes')\n",
    "#     ax.set_ylabel('modal contribution')\n",
    "#     plt.title('modal contribution of the' + str(i+1) + '.Mode')\n",
    "#     plt.grid(True)\n",
    "# #     plt.legend()\n",
    "#     plt.show()"
   ]
  }
 ],
 "metadata": {
  "kernelspec": {
   "display_name": "Python 3",
   "language": "python",
   "name": "python3"
  },
  "language_info": {
   "codemirror_mode": {
    "name": "ipython",
    "version": 3
   },
   "file_extension": ".py",
   "mimetype": "text/x-python",
   "name": "python",
   "nbconvert_exporter": "python",
   "pygments_lexer": "ipython3",
   "version": "3.7.4"
  }
 },
 "nbformat": 4,
 "nbformat_minor": 2
}
