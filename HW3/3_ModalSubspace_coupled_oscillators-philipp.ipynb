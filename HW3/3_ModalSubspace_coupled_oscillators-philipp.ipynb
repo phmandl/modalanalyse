{
 "cells": [
  {
   "cell_type": "markdown",
   "metadata": {},
   "source": [
    "Exercise 3\n",
    "=========\n",
    "\n",
    "In this exercise you should invetigate model order reduction by a modeal basis.\n",
    "You should be able to re-use many parts from the previous exercises.\n",
    "\n",
    "Consider the plate clamped at all edges."
   ]
  },
  {
   "cell_type": "code",
   "execution_count": 1,
   "metadata": {},
   "outputs": [],
   "source": [
    "from scipy.io import mmread\n",
    "from scipy.sparse import csc_matrix\n",
    "from scipy.sparse.linalg import eigsh\n",
    "from scipy.sparse.linalg import inv\n",
    "\n",
    "import numpy as np\n",
    "\n",
    "import matplotlib as matplot\n",
    "import matplotlib.pyplot as plt\n",
    "matplot.rcParams.update({'figure.max_open_warning': 0})\n",
    "\n",
    "# Uncomment the following line and edit the path to ffmpeg if you want to write the video files!\n",
    "#plt.rcParams['animation.ffmpeg_path'] ='N:\\\\Applications\\\\ffmpeg\\\\bin\\\\ffmpeg.exe'\n",
    "\n",
    "from mpl_toolkits.mplot3d import Axes3D\n",
    "\n",
    "import sys\n",
    "# np.set_printoptions(threshold=sys.maxsize)\n",
    "np.set_printoptions(threshold=10)\n",
    "\n",
    "from numpy.fft import rfft, rfftfreq\n",
    "\n",
    "from utility_functions import Newmark"
   ]
  },
  {
   "cell_type": "code",
   "execution_count": 2,
   "metadata": {},
   "outputs": [],
   "source": [
    "M = csc_matrix(mmread('Ms.mtx')) # mass matrix\n",
    "K = csc_matrix(mmread('Ks.mtx')) # stiffness matrix\n",
    "C = csc_matrix(K.shape) # a zeros damping matrix\n",
    "X = mmread('X.mtx') # coodinate matrix with columns corresponding to x,y,z position of the nodes\n",
    "\n",
    "N = X.shape[0] # number of nodes\n",
    "\n",
    "nprec = 6 # precision for finding uniqe values\n",
    "\n",
    "# get grid vectors (the unique vectors of the x,y,z coodinate-grid)\n",
    "x = np.unique(np.round(X[:,0],decimals=nprec))\n",
    "y = np.unique(np.round(X[:,1],decimals=nprec))\n",
    "z = np.unique(np.round(X[:,2],decimals=nprec))\n",
    "\n",
    "# grid matrices\n",
    "Xg = np.reshape(X[:,0],[len(y),len(x),len(z)])\n",
    "Yg = np.reshape(X[:,1],[len(y),len(x),len(z)])\n",
    "Zg = np.reshape(X[:,2],[len(y),len(x),len(z)])\n",
    "\n",
    "tol = 1e-12\n",
    "\n",
    "# constrain all edges\n",
    "Nn = np.argwhere(np.abs(X[:,1]-X[:,1].max())<tol).ravel() # Node indices of N-Edge nodes\n",
    "No = np.argwhere(np.abs(X[:,0]-X[:,0].max())<tol).ravel() # Node indices of O-Edge nodes\n",
    "Ns = np.argwhere(np.abs(X[:,1]-X[:,1].min())<tol).ravel() # Node indices of S-Edge nodes\n",
    "Nw = np.argwhere(np.abs(X[:,0]-X[:,0].min())<tol).ravel() # Node indices of W-Edge nodes\n",
    "\n",
    "Nnosw = np.unique(np.concatenate((Nn,No,Ns,Nw))) #concatenate all and only take unique (remove the double ones)\n",
    "\n",
    "# indices of x, y, and z DoFs in the global system\n",
    "# can be used to get DoF-index in global system, e.g. for y of node n by Iy[n]\n",
    "Ix = np.arange(N)*3 # index of x-dofs\n",
    "Iy = np.arange(N)*3+1\n",
    "Iz = np.arange(N)*3+2\n",
    "\n",
    "# select which indices in the global system must be constrained\n",
    "If = np.array([Ix[Nnosw],Iy[Nnosw],Iz[Nnosw]]).ravel() # dof indices of fix constraint\n",
    "Ic = np.array([(i in If) for i in np.arange(3*N)]) # boolean array of constraind dofs\n",
    "\n",
    "# compute the reduced system\n",
    "Kc = csc_matrix(K[np.ix_(~Ic,~Ic)])\n",
    "Mc = csc_matrix(M[np.ix_(~Ic,~Ic)])\n",
    "Cc = csc_matrix(C[np.ix_(~Ic,~Ic)])"
   ]
  },
  {
   "cell_type": "markdown",
   "metadata": {},
   "source": [
    "# Constraint Enforcement\n",
    "You can enforce contraints as in the previous exercises by selecting the appropriate rows from the system matrices, or use the nullsapce of the constraint matrix.\n",
    "\n",
    "Set up a constraint matrix and use the provided function for computing the nullspace\n",
    "```python\n",
    "from utility_functions import nullspace\n",
    "```"
   ]
  },
  {
   "cell_type": "code",
   "execution_count": 3,
   "metadata": {},
   "outputs": [],
   "source": [
    "from utility_functions import nullspace"
   ]
  },
  {
   "cell_type": "code",
   "execution_count": 4,
   "metadata": {},
   "outputs": [],
   "source": [
    "B = np.zeros((len(If),3*N))\n",
    "B[np.arange(0,len(If)),np.sort(If)] = 1 #constraint the respective nodes\n",
    "Q = nullspace(B) #build the nullspace"
   ]
  },
  {
   "cell_type": "code",
   "execution_count": 5,
   "metadata": {},
   "outputs": [],
   "source": [
    "# Calc constraint matrixes\n",
    "# Q = csc_matrix(Q) #or make Q also a sparse and go with that\n",
    "# K_bar = Q.transpose() @ K @ Q\n",
    "# M_bar = Q.transpose() @ M @ Q\n",
    "# C_bar = Q.transpose() @ C @ Q"
   ]
  },
  {
   "cell_type": "markdown",
   "metadata": {},
   "source": [
    "# Mode Shapes\n",
    "Compute a set of mode-shapes of the system.\n",
    "\n",
    "#### Note\n",
    "We now use the sparse system because it's many times faster, however, one can just check the solution of the constraint system with the nullspace by enabling the code-lines and comparing it to the sparse solution."
   ]
  },
  {
   "cell_type": "code",
   "execution_count": 6,
   "metadata": {},
   "outputs": [],
   "source": [
    "# only compute a subset of modes of the reduced model\n",
    "k = 10\n",
    "Wc,Vc = eigsh(Kc,k,Mc,sigma=0,which='LM',maxiter = 1000)\n",
    "\n",
    "V = np.zeros([3*N,k])\n",
    "V[~Ic,:] = Vc"
   ]
  },
  {
   "cell_type": "code",
   "execution_count": 7,
   "metadata": {},
   "outputs": [],
   "source": [
    "# only compute a subset of modes of the reduced model\n",
    "# k = 10\n",
    "# W,V = eigsh(K_bar,k,M_bar,sigma=0,which='LM',maxiter = 1000)"
   ]
  },
  {
   "cell_type": "markdown",
   "metadata": {},
   "source": [
    "## Modal mass participation factor\n",
    "\n",
    "Compute the modal mass participation factor for all 6  for the first 10 modes of the plate.\n",
    "\n",
    "First you need to define the ridig body degrees of freedom (3 displacements and 3 rotations) in terms of displacement fields (can be seen as \"mode shapes\")."
   ]
  },
  {
   "cell_type": "code",
   "execution_count": 8,
   "metadata": {},
   "outputs": [],
   "source": [
    "W_unconstrained,V_unconstrained = eigsh(K,k,M,sigma=0,which='LM',maxiter = 1000)"
   ]
  },
  {
   "cell_type": "code",
   "execution_count": 23,
   "metadata": {},
   "outputs": [],
   "source": [
    "def MPF(vi,M,ej) :\n",
    "    return np.abs((vi @ M @ ej) / (vi @ M @ vi.transpose()))"
   ]
  },
  {
   "cell_type": "code",
   "execution_count": 24,
   "metadata": {},
   "outputs": [],
   "source": [
    "def plotMPF(ej, title) :\n",
    "    dependency = np.zeros(k)\n",
    "    for i,v in enumerate(V.T) :\n",
    "        dependency[i] = MPF(v, M, ej)\n",
    "        \n",
    "    x = range(len(dependency))\n",
    "    width = 0.75\n",
    "    plt.bar(x, dependency, width, color=\"blue\")\n",
    "    plt.ylabel('Measure of coincidance')\n",
    "    plt.xlabel('Mode index')\n",
    "    plt.title(title)\n",
    "    plt.show()"
   ]
  },
  {
   "cell_type": "markdown",
   "metadata": {},
   "source": [
    "Then compute the 6 modal mass participation factors for each mode.\n",
    "Which ridid body displacement is most represented in which mode?"
   ]
  },
  {
   "cell_type": "code",
   "execution_count": 25,
   "metadata": {},
   "outputs": [
    {
     "data": {
      "image/png": "[encoded data removed]",
      "text/plain": [
       "<Figure size 432x288 with 1 Axes>"
      ]
     },
     "metadata": {
      "needs_background": "light"
     },
     "output_type": "display_data"
    }
   ],
   "source": [
    "plotMPF(V_unconstrained[:,0],\"X-Dependency\")"
   ]
  },
  {
   "cell_type": "code",
   "execution_count": 26,
   "metadata": {},
   "outputs": [
    {
     "data": {
      "image/png": "[encoded data removed]",
      "text/plain": [
       "<Figure size 432x288 with 1 Axes>"
      ]
     },
     "metadata": {
      "needs_background": "light"
     },
     "output_type": "display_data"
    }
   ],
   "source": [
    "plotMPF(V_unconstrained[:,1],\"Y-Dependency\")"
   ]
  },
  {
   "cell_type": "code",
   "execution_count": 27,
   "metadata": {},
   "outputs": [
    {
     "data": {
      "image/png": "[encoded data removed]",
      "text/plain": [
       "<Figure size 432x288 with 1 Axes>"
      ]
     },
     "metadata": {
      "needs_background": "light"
     },
     "output_type": "display_data"
    }
   ],
   "source": [
    "plotMPF(V_unconstrained[:,2],\"Z-Dependency\")"
   ]
  },
  {
   "cell_type": "code",
   "execution_count": 28,
   "metadata": {},
   "outputs": [
    {
     "data": {
      "image/png": "[encoded data removed]",
      "text/plain": [
       "<Figure size 432x288 with 1 Axes>"
      ]
     },
     "metadata": {
      "needs_background": "light"
     },
     "output_type": "display_data"
    }
   ],
   "source": [
    "plotMPF(V_unconstrained[:,3],\"X-Rot-Dependency\")"
   ]
  },
  {
   "cell_type": "code",
   "execution_count": 29,
   "metadata": {},
   "outputs": [
    {
     "data": {
      "image/png": "[encoded data removed]",
      "text/plain": [
       "<Figure size 432x288 with 1 Axes>"
      ]
     },
     "metadata": {
      "needs_background": "light"
     },
     "output_type": "display_data"
    }
   ],
   "source": [
    "plotMPF(V_unconstrained[:,4],\"Y-Rot-Dependency\")"
   ]
  },
  {
   "cell_type": "code",
   "execution_count": 30,
   "metadata": {},
   "outputs": [
    {
     "data": {
      "image/png": "[encoded data removed]",
      "text/plain": [
       "<Figure size 432x288 with 1 Axes>"
      ]
     },
     "metadata": {
      "needs_background": "light"
     },
     "output_type": "display_data"
    }
   ],
   "source": [
    "plotMPF(V_unconstrained[:,5],\"Z-Rot-Dependency\")"
   ]
  },
  {
   "cell_type": "code",
   "execution_count": null,
   "metadata": {},
   "outputs": [],
   "source": [
    "# OLD STUFF\n",
    "\n",
    "# # Define rigid body displacements\n",
    "# e_x = np.zeros(3*N)\n",
    "# e_x[Ix] = 1\n",
    "\n",
    "# e_y = np.zeros(3*N)\n",
    "# e_y[Iy] = 1\n",
    "\n",
    "# e_z = np.zeros(3*N)\n",
    "# e_z[Iz] = 1\n",
    "\n",
    "# Center = np.array([0., 0., 0.])\n",
    "# radius = np.zeros(len(X))\n",
    "# for i in range(len(X)) :\n",
    "#     radius[i] = np.linalg.norm(Center - [X[i,:]] )\n",
    "\n",
    "# # Rotation arround the x-axis\n",
    "# e_rx = np.zeros(3*N)\n",
    "# e_rx[Ix] = radius\n",
    "\n",
    "# e_ry = np.zeros(3*N)\n",
    "# e_ry[Iy] = radius\n",
    "\n",
    "# e_rz = np.zeros(3*N)\n",
    "# e_rz[Iz] = radius\n",
    "\n",
    "# def rotationVector(id_axis) :\n",
    "#     Center = np.array([0., 0., 0.])\n",
    "#     rot = np.zeros([beam.nDof,1])\n",
    "\n",
    "#     radius = np.zeros([len(beam.X),1])\n",
    "#     for i in range(len(beam.X)) :\n",
    "#         radius[i,0] = np.linalg.norm(Center - [beam.X[i,:]] )\n",
    "#     rot[id_axis] = -1*radius\n",
    "#     return rot"
   ]
  },
  {
   "cell_type": "markdown",
   "metadata": {},
   "source": [
    "# Static Deformation\n",
    "\n",
    "Check your bondary conditions by computing a static deformation: Assume a pressure acting on the plate (in transverse =z direction) which is linearly increasing from zero at one short edge (e.g. $x=x_{\\min}$) to the oppsite edge. \n",
    "Assume a maximal pressure of 10kPa.\n",
    "For the sake of simplicity you can apply the pressure to one \"node layer\" (in thichness direction).\n",
    "Force per node can be obtained by multiplying by the \"nodal area\", i.e. the total area of the plate divided by the number of nodes in the \"node layer\"."
   ]
  },
  {
   "cell_type": "code",
   "execution_count": null,
   "metadata": {},
   "outputs": [],
   "source": []
  },
  {
   "cell_type": "code",
   "execution_count": null,
   "metadata": {},
   "outputs": [],
   "source": []
  },
  {
   "cell_type": "code",
   "execution_count": null,
   "metadata": {},
   "outputs": [],
   "source": []
  },
  {
   "cell_type": "code",
   "execution_count": null,
   "metadata": {},
   "outputs": [],
   "source": []
  },
  {
   "cell_type": "markdown",
   "metadata": {},
   "source": [
    "Approximate the computed static displacement using the first three oscillation modes.\n",
    "* What are the required modal coordinates?\n",
    "* Plot the residual, which mode should you include to improve the approximation?"
   ]
  },
  {
   "cell_type": "code",
   "execution_count": null,
   "metadata": {},
   "outputs": [],
   "source": []
  },
  {
   "cell_type": "code",
   "execution_count": null,
   "metadata": {},
   "outputs": [],
   "source": []
  },
  {
   "cell_type": "markdown",
   "metadata": {},
   "source": [
    "# Transient Solution\n",
    "\n",
    "We'll investigate the plate in the same configuration as in Exercise 2, but now compute results using reduced order models.\n",
    "\n",
    "One can use the Newmark time intragration both for the full system and in the modal coodinates."
   ]
  },
  {
   "cell_type": "markdown",
   "metadata": {},
   "source": [
    "### Forcing\n",
    "Use the forcing given in Task 1 of Exercise 2: $f(t) = 1-e^{-(t/0.002)^2}$ in z-direction at $P_1= [0.2,0.12,0.003925]$."
   ]
  },
  {
   "cell_type": "code",
   "execution_count": null,
   "metadata": {},
   "outputs": [],
   "source": []
  },
  {
   "cell_type": "code",
   "execution_count": null,
   "metadata": {},
   "outputs": [],
   "source": []
  },
  {
   "cell_type": "markdown",
   "metadata": {},
   "source": [
    "### Damping\n",
    "For the sake of simplicity assume Rayleigh damping with $\\alpha=2.15$ and $\\beta=3e-5$."
   ]
  },
  {
   "cell_type": "code",
   "execution_count": null,
   "metadata": {},
   "outputs": [],
   "source": []
  },
  {
   "cell_type": "markdown",
   "metadata": {},
   "source": [
    "## Task 1: Transient Response using Reduced Model\n",
    "\n",
    "Use a modal basis of the first two modes and compute the transient response of the system (under the same loading as in Task 1 of Exercise 2). Plot the response at points P1 and P2, and compare with the full system.\n",
    "What is the error with respect to the full system?"
   ]
  },
  {
   "cell_type": "code",
   "execution_count": null,
   "metadata": {},
   "outputs": [],
   "source": []
  },
  {
   "cell_type": "code",
   "execution_count": null,
   "metadata": {},
   "outputs": [],
   "source": []
  },
  {
   "cell_type": "code",
   "execution_count": null,
   "metadata": {},
   "outputs": [],
   "source": []
  },
  {
   "cell_type": "markdown",
   "metadata": {},
   "source": [
    "### Choice of Modes\n",
    "* How does the error improve when you take more modes?\n",
    "* Plot the response at selected nodes, e.g. N1, N2, center, for different models in the same graph."
   ]
  },
  {
   "cell_type": "code",
   "execution_count": null,
   "metadata": {},
   "outputs": [],
   "source": []
  },
  {
   "cell_type": "markdown",
   "metadata": {},
   "source": [
    "### Time Evolution of Modal Corrdinates\n",
    "* Visualize the time evolution of the used modal coordinates\n",
    "* Do this for the results obtained with differnt modal bases\n",
    "* Compute the modal contributions in the same way. Which modes contribute most for which model?"
   ]
  },
  {
   "cell_type": "code",
   "execution_count": null,
   "metadata": {},
   "outputs": [],
   "source": []
  },
  {
   "cell_type": "markdown",
   "metadata": {},
   "source": [
    "# Steady State Oscillation | Frequency Domain\n",
    "\n",
    "Now switch to frequency domain and compute the steady state response of the system.\n",
    "For the sake of simplicity use a unit excitation at $P_1$."
   ]
  },
  {
   "cell_type": "code",
   "execution_count": null,
   "metadata": {},
   "outputs": [],
   "source": []
  },
  {
   "cell_type": "markdown",
   "metadata": {},
   "source": [
    "## Task 2: Compute Harmonic Response using a Reduced Model\n",
    "\n",
    "Use the first 10 modes to compute the steady state response for a unit forcing in z-direction at $P_1$.\n",
    "Do the computation for Rayleigh damping and for Modal damping with a damping ratio of 0.01 for each mode.\n",
    "Compare the results by plotting the transfer functions up to 300Hz."
   ]
  },
  {
   "cell_type": "code",
   "execution_count": null,
   "metadata": {},
   "outputs": [],
   "source": []
  },
  {
   "cell_type": "code",
   "execution_count": null,
   "metadata": {},
   "outputs": [],
   "source": []
  },
  {
   "cell_type": "code",
   "execution_count": null,
   "metadata": {},
   "outputs": [],
   "source": []
  },
  {
   "cell_type": "markdown",
   "metadata": {},
   "source": [
    "### Compare damping models\n",
    "* what is the difference between modal and Rayleigh damping?\n",
    "* what happens if you only damp certain modes with modal damping?"
   ]
  },
  {
   "cell_type": "code",
   "execution_count": null,
   "metadata": {},
   "outputs": [],
   "source": []
  },
  {
   "cell_type": "markdown",
   "metadata": {},
   "source": [
    "### Modal contribution\n",
    "* compute the modal contribution factors for each mode and plot them over the frequency\n",
    "* When is which mode important?"
   ]
  },
  {
   "cell_type": "code",
   "execution_count": null,
   "metadata": {},
   "outputs": [],
   "source": []
  }
 ],
 "metadata": {
  "kernelspec": {
   "display_name": "Python 3",
   "language": "python",
   "name": "python3"
  },
  "language_info": {
   "codemirror_mode": {
    "name": "ipython",
    "version": 3
   },
   "file_extension": ".py",
   "mimetype": "text/x-python",
   "name": "python",
   "nbconvert_exporter": "python",
   "pygments_lexer": "ipython3",
   "version": "3.7.4"
  }
 },
 "nbformat": 4,
 "nbformat_minor": 2
}
