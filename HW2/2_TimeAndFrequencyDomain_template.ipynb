{
 "cells": [
  {
   "cell_type": "markdown",
   "metadata": {},
   "source": [
    "# Load system matrices as sparse-matrices\n",
    "Here we use the [sparse module of scipy](\n",
    "https://docs.scipy.org/doc/scipy/reference/sparse.html).\n",
    "The module contains functions for linear algebra with sparse matrices (scipy.sparse.linalg).\n",
    "Do **not** mix with numpy functions! Convert them to dense arrays using `.toarray()` if you need numpy.\n",
    "\n",
    "Read system matrices as sparse matrices like this\n",
    "```python\n",
    "from scipy.io import mmread\n",
    "from scipy.sparse import csc_matrix\n",
    "M = csc_matrix(mmread('Ms.mtx')) # mass matrix\n",
    "K = csc_matrix(mmread('Ks.mtx')) # stiffness matrix\n",
    "C = csc_matrix(K.shape) # a zeros damping matrix\n",
    "X = mmread('X.mtx') # coodinate matrix with columns corresponding to x,y,z position of the nodes\n",
    "N = X.shape[0] # number of nodes\n",
    "```"
   ]
  },
  {
   "cell_type": "code",
   "execution_count": 7,
   "metadata": {},
   "outputs": [],
   "source": [
    "from scipy.io import mmread\n",
    "from scipy.sparse import csc_matrix\n",
    "import numpy as np\n",
    "\n",
    "M = csc_matrix(mmread('Ms.mtx')) # mass matrix\n",
    "K = csc_matrix(mmread('Ks.mtx')) # stiffness matrix\n",
    "C = csc_matrix(K.shape) # a zeros damping matrix\n",
    "X = mmread('X.mtx') # coodinate matrix with columns corresponding to x,y,z position of the nodes\n",
    "N = X.shape[0] # number of nodes"
   ]
  },
  {
   "cell_type": "markdown",
   "metadata": {},
   "source": [
    "# Select nodes for application of boundary conditions and loads\n",
    "\n",
    "We want to find all indices for nodes located on the edge of the plate.\n",
    "To find all nodes on one edge we search for nodes with e.g. coordinates sufficiently close (numerical tolerance) to the minimum y-coordinate (south edge) .\n",
    "Repeating this for all sides gives all edge nodes.\n",
    "\n",
    "```python\n",
    "tol = 1e-12\n",
    "\n",
    "# constrain all edges\n",
    "Nn = np.argwhere(np.abs(X[:,1]-X[:,1].max())<tol).ravel() # Node indices of N-Edge nodes\n",
    "No = np.argwhere(np.abs(X[:,0]-X[:,0].max())<tol).ravel() # Node indices of O-Edge nodes\n",
    "Ns = np.argwhere(np.abs(X[:,1]-X[:,1].min())<tol).ravel() # Node indices of S-Edge nodes\n",
    "Nw = np.argwhere(np.abs(X[:,0]-X[:,0].min())<tol).ravel() # Node indices of W-Edge nodes\n",
    "\n",
    "Nnosw = np.hstack([Nn,No,Ns,Nw])\n",
    "```"
   ]
  },
  {
   "cell_type": "code",
   "execution_count": 8,
   "metadata": {},
   "outputs": [],
   "source": [
    "tol = 1e-12\n",
    "\n",
    "# constrain all edges\n",
    "Nn = np.argwhere(np.abs(X[:,1]-X[:,1].max())<tol).ravel() # Node indices of N-Edge nodes\n",
    "No = np.argwhere(np.abs(X[:,0]-X[:,0].max())<tol).ravel() # Node indices of O-Edge nodes\n",
    "Ns = np.argwhere(np.abs(X[:,1]-X[:,1].min())<tol).ravel() # Node indices of S-Edge nodes\n",
    "Nw = np.argwhere(np.abs(X[:,0]-X[:,0].min())<tol).ravel() # Node indices of W-Edge nodes\n",
    "\n",
    "Nnosw = np.hstack([Nn,No,Ns,Nw])"
   ]
  },
  {
   "cell_type": "markdown",
   "metadata": {},
   "source": [
    "We can also search for the closest point to a particular location.\n",
    "\n",
    "```python\n",
    "P1 = [0.2,0.12,0.003925]\n",
    "N1 = np.argmin(np.sum((X-P1)**2,axis=1))\n",
    "P2 = [0.0,-0.1,0.003925]\n",
    "N2 = np.argmin(np.sum((X-P2)**2,axis=1))\n",
    "```\n",
    "\n",
    "of for all node on the top of the plate\n",
    "\n",
    "```python\n",
    "Nt = np.argwhere(np.abs(X[:,2]-X[:,2].max())<tol)[:,0]\n",
    "```"
   ]
  },
  {
   "cell_type": "code",
   "execution_count": 9,
   "metadata": {},
   "outputs": [],
   "source": [
    "P1 = [0.2,0.12,0.003925]\n",
    "N1 = np.argmin(np.sum((X-P1)**2,axis=1))\n",
    "P2 = [0.0,-0.1,0.003925]\n",
    "N2 = np.argmin(np.sum((X-P2)**2,axis=1))\n",
    "\n",
    "Nt = np.argwhere(np.abs(X[:,2]-X[:,2].max())<tol)[:,0]"
   ]
  },
  {
   "cell_type": "markdown",
   "metadata": {},
   "source": [
    "# Constrain the system\n",
    "We apply the clamping boundary condition on all edges by eliminating all degrees of freedom of the edge nodes from the system matrices.\n",
    "\n",
    "```python\n",
    "# indices of x, y, and z DoFs in the global system\n",
    "# can be used to get DoF-index in global system, e.g. for y of node n by Iy[n]\n",
    "Ix = np.arange(N)*3 # index of x-dofs\n",
    "Iy = np.arange(N)*3+1\n",
    "Iz = np.arange(N)*3+2\n",
    "\n",
    "# select which indices in the global system must be constrained\n",
    "If = np.array([Ix[Nnosw],Iy[Nnosw],Iz[Nnosw]]).ravel() # dof indices of fix constraint\n",
    "Ic = np.array([(i in If) for i in np.arange(3*N)]) # boolean array of constraind dofs\n",
    "\n",
    "# compute the reduced system\n",
    "Kc = csc_matrix(K[np.ix_(~Ic,~Ic)])\n",
    "Mc = csc_matrix(M[np.ix_(~Ic,~Ic)])\n",
    "Cc = csc_matrix(C[np.ix_(~Ic,~Ic)])\n",
    "```"
   ]
  },
  {
   "cell_type": "code",
   "execution_count": 10,
   "metadata": {},
   "outputs": [],
   "source": [
    "# indices of x, y, and z DoFs in the global system\n",
    "# can be used to get DoF-index in global system, e.g. for y of node n by Iy[n]\n",
    "Ix = np.arange(N)*3 # index of x-dofs\n",
    "Iy = np.arange(N)*3+1\n",
    "Iz = np.arange(N)*3+2\n",
    "\n",
    "# select which indices in the global system must be constrained\n",
    "If = np.array([Ix[Nnosw],Iy[Nnosw],Iz[Nnosw]]).ravel() # dof indices of fix constraint\n",
    "Ic = np.array([(i in If) for i in np.arange(3*N)]) # boolean array of constraind dofs\n",
    "\n",
    "# compute the reduced system\n",
    "Kc = csc_matrix(K[np.ix_(~Ic,~Ic)])\n",
    "Mc = csc_matrix(M[np.ix_(~Ic,~Ic)])\n",
    "Cc = csc_matrix(C[np.ix_(~Ic,~Ic)])"
   ]
  },
  {
   "cell_type": "markdown",
   "metadata": {},
   "source": [
    "# Compute Natural Frequencies and Mode Shapes\n",
    "Use the (ARPACK) routines for sparce matrices.\n",
    "```python\n",
    "from scipy.sparse.linalg import eigsh\n",
    "```"
   ]
  },
  {
   "cell_type": "code",
   "execution_count": null,
   "metadata": {},
   "outputs": [],
   "source": []
  },
  {
   "cell_type": "markdown",
   "metadata": {},
   "source": [
    "Compute the first 10 modes and plot them."
   ]
  },
  {
   "cell_type": "code",
   "execution_count": null,
   "metadata": {},
   "outputs": [],
   "source": []
  },
  {
   "cell_type": "markdown",
   "metadata": {},
   "source": [
    "## Aminations\n",
    "\n",
    "You can use the excellent [JSanimation](https://github.com/jakevdp/JSAnimation) package to show matplotlib animations in a jupyter notebook."
   ]
  },
  {
   "cell_type": "code",
   "execution_count": null,
   "metadata": {},
   "outputs": [],
   "source": []
  },
  {
   "cell_type": "markdown",
   "metadata": {},
   "source": [
    "# Determine useful damping\n",
    "The damping ratio for each mode is computed as follows for Rayleigh damping\n",
    "$$ \\zeta = \\frac{\\alpha}{2\\omega} + \\frac{\\beta\\omega}{2} $$\n",
    "Defining two frequencies $\\omega_1$ and $\\omega_2$ and corresponding damping ratios we can compute $\\alpha$ and $\\beta$.\n",
    "\n",
    "Plot the damping ratio in the frequency range of the first 10 natural frequencies.\n",
    "Choose alpha and beta such that the damping ratio is = 0.01 for mode 1 and mode 5."
   ]
  },
  {
   "cell_type": "code",
   "execution_count": null,
   "metadata": {},
   "outputs": [],
   "source": []
  },
  {
   "cell_type": "code",
   "execution_count": null,
   "metadata": {},
   "outputs": [],
   "source": []
  },
  {
   "cell_type": "markdown",
   "metadata": {},
   "source": [
    "# Time domain\n",
    "\n",
    "First we investigate the system in time domain.\n",
    "It should be loaded by a transient force in z-direction at point P1.\n",
    "\n",
    "## Excitation signal\n",
    "Use a smooth-step or smooth-impule function with suitable time constant.\n",
    "As suitable time constant will excite interesting dynamics in the system.\n",
    "\n",
    "The period of the first natural frequency can act as a guideline for the time constant.\n",
    "If the transient excitation is very slow (it takes longer than the period of the lowest eigenfrequency to reach its maximum) there will be no significant dynamics.\n",
    "If the transient excitation is very fast (pulses with frequency content covering many natural frequencies) it may excite significant dynamics.\n",
    "\n",
    "Experiment with different excitation signals.\n",
    "Plot the signal over time, and Fourier transform it to show its frequency content.\n",
    "\n",
    "```python\n",
    "from numpy.fft import rfft, rfftfreq\n",
    "```"
   ]
  },
  {
   "cell_type": "code",
   "execution_count": null,
   "metadata": {},
   "outputs": [],
   "source": []
  },
  {
   "cell_type": "markdown",
   "metadata": {},
   "source": [
    "## Newmark Method for Time Integration\n",
    "\n",
    "You the given function for time integration by the Newmark method\n",
    "```python\n",
    "from utlity_functions import Newmark\n",
    "```"
   ]
  },
  {
   "cell_type": "code",
   "execution_count": null,
   "metadata": {},
   "outputs": [],
   "source": []
  },
  {
   "cell_type": "markdown",
   "metadata": {},
   "source": [
    "Choose a suitable time increment by considering the frequency content (highest requency) of the excitation signal.\n",
    "One should use > 10 increments per period.\n",
    "Select a suitable integration duration: It should cover several periods and be long enough that you see an influence of damping (assume some!)."
   ]
  },
  {
   "cell_type": "code",
   "execution_count": null,
   "metadata": {},
   "outputs": [],
   "source": []
  },
  {
   "cell_type": "markdown",
   "metadata": {},
   "source": [
    "## Task 1: Compute the transient response\n",
    "\n",
    "Assume a load  $f(t) = 1-e^{-(t/0.002)^2}$ in z-direction at P1.\n",
    "Compute the response of the plate for $0<t<0.2$ and plot the time evolution of the z-displacement at the center of the plate, at P1 and at P2.\n",
    "\n",
    "Estimate the oscillation frequency of the system from the time signal.\n",
    "How many frequencies do your see in the signal for the center point, how many in P1 and P2?\n",
    "  "
   ]
  },
  {
   "cell_type": "code",
   "execution_count": null,
   "metadata": {},
   "outputs": [],
   "source": []
  },
  {
   "cell_type": "code",
   "execution_count": null,
   "metadata": {},
   "outputs": [],
   "source": []
  },
  {
   "cell_type": "markdown",
   "metadata": {},
   "source": [
    "## Animate the transient response\n",
    "Whe using JSAnimation, be careful not to animate too many time steps, since this might take a long time."
   ]
  },
  {
   "cell_type": "code",
   "execution_count": null,
   "metadata": {},
   "outputs": [],
   "source": []
  },
  {
   "cell_type": "markdown",
   "metadata": {},
   "source": [
    "## Compare the response for different forcing functions\n",
    "Investiagate how the frequency content of the excitation function impacts the output time signal.\n",
    "Plot the z-displacement, e.g. at P1, over time for different excitation signals.  "
   ]
  },
  {
   "cell_type": "code",
   "execution_count": null,
   "metadata": {},
   "outputs": [],
   "source": []
  },
  {
   "cell_type": "code",
   "execution_count": null,
   "metadata": {},
   "outputs": [],
   "source": []
  },
  {
   "cell_type": "code",
   "execution_count": null,
   "metadata": {},
   "outputs": [],
   "source": []
  },
  {
   "cell_type": "code",
   "execution_count": null,
   "metadata": {},
   "outputs": [],
   "source": []
  },
  {
   "cell_type": "markdown",
   "metadata": {},
   "source": [
    "# Frequency domain"
   ]
  },
  {
   "cell_type": "markdown",
   "metadata": {},
   "source": [
    "## Compute the Steady-State Response\n",
    "\n",
    "In order to compute the steady state response directly in the frequency domain, we need to\n",
    "1. Compute the dynamic stiffness matrix for one $\\omega$\n",
    "2. assemble one (or serveral) forcing vectors\n",
    "3. solve for the displacements\n",
    "\n",
    "Use methods for sparse matrices to solve the linear system\n",
    "```python\n",
    "from scipy.sparse.linalg import spsolve\n",
    "```"
   ]
  },
  {
   "cell_type": "code",
   "execution_count": null,
   "metadata": {},
   "outputs": [],
   "source": []
  },
  {
   "cell_type": "code",
   "execution_count": null,
   "metadata": {},
   "outputs": [],
   "source": []
  },
  {
   "cell_type": "code",
   "execution_count": null,
   "metadata": {},
   "outputs": [],
   "source": []
  },
  {
   "cell_type": "code",
   "execution_count": null,
   "metadata": {},
   "outputs": [],
   "source": []
  },
  {
   "cell_type": "code",
   "execution_count": null,
   "metadata": {},
   "outputs": [],
   "source": []
  },
  {
   "cell_type": "markdown",
   "metadata": {},
   "source": [
    "## Task 2: Transfer function\n",
    "Compute the steady state response of the system to hamonic forcing in z-direction (unit amplitude) at point P1 in the frequency range from 2Hz to 300Hz (using ~150 frequency points).\n",
    "Assume Rayleigh damping with $\\alpha=2.15$ and $\\beta=0.00003$.\n",
    "\n",
    "Plot the response (amplitude and phase) for the z-diplacement at points P1 and P2, as well as for the center of the plate."
   ]
  },
  {
   "cell_type": "code",
   "execution_count": null,
   "metadata": {},
   "outputs": [],
   "source": []
  },
  {
   "cell_type": "code",
   "execution_count": null,
   "metadata": {},
   "outputs": [],
   "source": []
  },
  {
   "cell_type": "markdown",
   "metadata": {},
   "source": [
    "## Animate the harmonic response\n",
    "You can use the same function as for animating mode shapes.\n",
    "Look the response at characteristic frequecy points, e.g. at the peaks or minima of the transfer function. "
   ]
  },
  {
   "cell_type": "code",
   "execution_count": null,
   "metadata": {},
   "outputs": [],
   "source": []
  },
  {
   "cell_type": "code",
   "execution_count": null,
   "metadata": {},
   "outputs": [],
   "source": []
  },
  {
   "cell_type": "code",
   "execution_count": null,
   "metadata": {},
   "outputs": [],
   "source": []
  },
  {
   "cell_type": "code",
   "execution_count": null,
   "metadata": {},
   "outputs": [],
   "source": []
  },
  {
   "cell_type": "code",
   "execution_count": null,
   "metadata": {},
   "outputs": [],
   "source": []
  },
  {
   "cell_type": "code",
   "execution_count": null,
   "metadata": {},
   "outputs": [],
   "source": []
  },
  {
   "cell_type": "markdown",
   "metadata": {},
   "source": [
    "## Compare damping\n",
    "Compute the steady state response of the system to hamonic forcing (as above) for the un-damped system, as well as for the two Rayleigh damping models mentioned above.\n",
    "Compare the transfer functions for the z-displacement of P1."
   ]
  },
  {
   "cell_type": "code",
   "execution_count": null,
   "metadata": {},
   "outputs": [],
   "source": []
  },
  {
   "cell_type": "code",
   "execution_count": null,
   "metadata": {},
   "outputs": [],
   "source": []
  },
  {
   "cell_type": "markdown",
   "metadata": {},
   "source": [
    "## Estimate transfer function from modal data\n",
    "Compute the un-damped transfer function (Receptance matrix) using the modal parameters (mode shape matrix and natural frequencies).\n",
    "Compare this estimate to the transfer functions computed above.\n",
    "What about the modal estimate using only 2 modes?\n",
    "\n",
    "The recepance matrix is a large dense matrix 3N x 3N. Do not try to store it for many frequency values. Only compute and store the elements you need."
   ]
  },
  {
   "cell_type": "code",
   "execution_count": null,
   "metadata": {},
   "outputs": [],
   "source": []
  },
  {
   "cell_type": "code",
   "execution_count": null,
   "metadata": {},
   "outputs": [],
   "source": []
  },
  {
   "cell_type": "code",
   "execution_count": null,
   "metadata": {},
   "outputs": [],
   "source": []
  },
  {
   "cell_type": "code",
   "execution_count": null,
   "metadata": {},
   "outputs": [],
   "source": []
  }
 ],
 "metadata": {
  "kernelspec": {
   "display_name": "Python 3",
   "language": "python",
   "name": "python3"
  },
  "language_info": {
   "codemirror_mode": {
    "name": "ipython",
    "version": 3
   },
   "file_extension": ".py",
   "mimetype": "text/x-python",
   "name": "python",
   "nbconvert_exporter": "python",
   "pygments_lexer": "ipython3",
   "version": "3.7.4"
  }
 },
 "nbformat": 4,
 "nbformat_minor": 2
}
