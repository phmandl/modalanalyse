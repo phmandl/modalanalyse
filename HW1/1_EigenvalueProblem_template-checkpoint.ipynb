{
 "cells": [
  {
   "cell_type": "markdown",
   "metadata": {},
   "source": [
    "# 1 | Eigenvalue Problem"
   ]
  },
  {
   "cell_type": "code",
   "execution_count": 5,
   "metadata": {
    "collapsed": true
   },
   "outputs": [],
   "source": [
    "import numpy as np\n",
    "from scipy.io import mminfo,mmread\n",
    "import matplotlib.pyplot as plt\n",
    "%matplotlib inline\n",
    "\n",
    "from numpy.linalg import inv, eig\n",
    "from numpy import sqrt, dot, sum, abs, diag, array"
   ]
  },
  {
   "cell_type": "markdown",
   "metadata": {},
   "source": [
    "## Eigenvalue Problems\n",
    "\n",
    "In order to test different algorithms to compute eigenvalues we use a 4x4 matrix with eigenvalues 1, 2, 3, and 4.\n",
    "It is constructed as \n",
    "$$ A = S D S^{-1} $$\n",
    "where $D$ is a diagonal matrix containing the EVs."
   ]
  },
  {
   "cell_type": "code",
   "execution_count": 6,
   "metadata": {},
   "outputs": [
    {
     "output_type": "execute_result",
     "data": {
      "text/plain": "(array([1, 2, 3, 4]),\n array([[-0.16595599,  0.44064899, -0.99977125, -0.39533485],\n        [-0.70648822, -0.81532281, -0.62747958, -0.30887855],\n        [-0.20646505,  0.07763347, -0.16161097,  0.370439  ],\n        [-0.5910955 ,  0.75623487, -0.94522481,  0.34093502]]),\n array([[ 4.00554954,  0.01354906,  1.19192526, -1.27636247],\n        [ 2.77659659,  1.49989982,  3.16264938, -2.48173559],\n        [ 1.45212322, -0.48865181,  6.86559345, -1.8724586 ],\n        [ 4.12225091, -0.92237257,  9.49381671, -2.37104281]]))"
     },
     "metadata": {},
     "execution_count": 6
    }
   ],
   "source": [
    "np.random.seed(1)\n",
    "D = np.array([1, 2, 3, 4]) # EIGENVALUES\n",
    "S = (np.random.rand(len(D),len(D)) - 0.5)*2 # compute a random matrix with entries between -1 and 1\n",
    "A = np.dot(np.dot(S,np.diag(D)),inv(S)) # S*D*S^-1, computes a unitary similar matrix of D having the same EVs\n",
    "D,S,A"
   ]
  },
  {
   "cell_type": "markdown",
   "metadata": {},
   "source": [
    "### Vector Interation\n",
    "\n",
    "* also known as power method, power iteration, or von Mises iteration\n",
    "* yields largest (in magnitude) eigenvalue and corresponding eigenvector\n",
    "* converges badly if $\\lambda_n/\\lambda_{n-1} \\approx 1$, i.e. the second largest EV is almost the same size as the largest\n",
    "\n",
    "Use the recursion\n",
    "$$ b_{k+1} = \\frac{A b_k}{\\lVert A b_k \\rVert}$$\n",
    "\n",
    "where $b_k$ converges to the eigenvector and ${\\lVert A b_k \\rVert}$ to the eigenvalue.\n",
    "\n",
    "Hint: Depending on the eigenvalue the method might not converge to one fixed value. Try to implement a workaround in order to deal with the problem!"
   ]
  },
  {
   "cell_type": "code",
   "execution_count": 3,
   "metadata": {},
   "outputs": [
    {
     "name": "stdout",
     "output_type": "stream",
     "text": [
      "('Current evaluation', 0, '-->', 13.494287075225776)\n",
      "('Current evaluation', 1, '-->', 3.8923421594465708)\n",
      "('Current evaluation', 2, '-->', 3.6145528266312068)\n",
      "('Current evaluation', 3, '-->', 3.6549104993641857)\n",
      "('Current evaluation', 4, '-->', 3.7627045452084356)\n",
      "('Current evaluation', 5, '-->', 3.8629753124877491)\n",
      "('Current evaluation', 6, '-->', 3.9335469962764376)\n",
      "('Current evaluation', 7, '-->', 3.9756135798852545)\n",
      "('Current evaluation', 8, '-->', 3.9976324227962592)\n",
      "('Current evaluation', 9, '-->', 4.0076179829285055)\n",
      "\n",
      "Largest eigenvalue found:\n",
      "4.0\n",
      "\n",
      "Corresponding eigenvecotor found:\n",
      "[-0.5 -0.4  0.5  0.6]\n"
     ]
    },
    {
     "data": {
      "image/png": "[encoded data removed]",
      "text/plain": [
       "<matplotlib.figure.Figure at 0x95a8940>"
      ]
     },
     "metadata": {},
     "output_type": "display_data"
    }
   ],
   "source": [
    "# eigenVal = vector_iter(A,10)\n",
    "\n",
    "x = np.ones(len(A)) # one can start with any vector\n",
    "    \n",
    "for i in range(10) :\n",
    "    # compute numerator\n",
    "    num = np.dot(A,x)\n",
    "\n",
    "    # compute denominator\n",
    "    den = sum(abs(num)**2)**(1./2)\n",
    "    #eigenVal = np.linalg.norm(num,2)\n",
    "\n",
    "    # compute recursion\n",
    "    x = num/den     \n",
    "    \n",
    "    # plot the intermediate results (DEBUGGING)\n",
    "    print('Current evaluation',i,'-->',den)\n",
    "    plt.scatter(i, den)\n",
    "\n",
    "print('\\nLargest eigenvalue found:')\n",
    "print(np.round_(den, decimals=1, out=None))\n",
    "\n",
    "print('\\nCorresponding eigenvecotor found:')\n",
    "print(np.round_(x, decimals=1, out=None))"
   ]
  },
  {
   "cell_type": "markdown",
   "metadata": {},
   "source": [
    "### Inverse Vector Iteration\n",
    "\n",
    "If $\\lambda$ is an eigenvalue of $A$, then $1/\\lambda$ is an eigenvalue of $A^{-1}$.\n",
    "Thus, we can do vector iteration on the inverse $A^{-1}$ to find the Eigenvalue with the smallest magnitude.\n",
    "Thus, we have to compute the recursion\n",
    "$$ y_k = A^{-1} x_k $$\n",
    "which can be done by pre-factorising $A = LU$."
   ]
  },
  {
   "cell_type": "code",
   "execution_count": 4,
   "metadata": {},
   "outputs": [
    {
     "name": "stdout",
     "output_type": "stream",
     "text": [
      "('Current evaluation', 0, '-->', 0.55836552863104616)\n",
      "('Current evaluation', 1, '-->', 0.62075444403873536)\n",
      "('Current evaluation', 2, '-->', 0.88725864426406709)\n",
      "('Current evaluation', 3, '-->', 0.96329027558652214)\n",
      "('Current evaluation', 4, '-->', 0.98754044784617856)\n",
      "('Current evaluation', 5, '-->', 0.99567029274364294)\n",
      "('Current evaluation', 6, '-->', 0.99846645987300786)\n",
      "('Current evaluation', 7, '-->', 0.99944539405798749)\n",
      "('Current evaluation', 8, '-->', 0.99979421260456425)\n",
      "('Current evaluation', 9, '-->', 0.99992120254905736)\n",
      "\n",
      "Largest eigenvalue found:\n",
      "1.0\n",
      "\n",
      "Corresponding eigenvecotor found:\n",
      "[-0.2 -0.7 -0.2 -0.6]\n"
     ]
    },
    {
     "data": {
      "image/png": "[encoded data removed]",
      "text/plain": [
       "<matplotlib.figure.Figure at 0x9845358>"
      ]
     },
     "metadata": {},
     "output_type": "display_data"
    }
   ],
   "source": [
    "# TODO: implement own LU pre-factorising\n",
    "# eigenVal = vector_iter(inv(A),10)'\n",
    "\n",
    "x = np.ones(len(A)) # one can start with any vector\n",
    "    \n",
    "for i in range(10) :\n",
    "    # compute numerator\n",
    "    num = np.dot(inv(A),x)\n",
    "\n",
    "    # compute denominator\n",
    "    den = sum(abs(num)**2)**(1./2)\n",
    "\n",
    "    # compute recursion\n",
    "    x = num/den\n",
    "\n",
    "    # plot the intermediate results\n",
    "    print('Current evaluation',i,'-->',1/den)\n",
    "    plt.scatter(i, den)\n",
    "\n",
    "print('\\nLargest eigenvalue found:')\n",
    "print(np.round_(1/den, decimals=1, out=None))\n",
    "\n",
    "print('\\nCorresponding eigenvecotor found:')\n",
    "print(np.round_(x, decimals=1, out=None))"
   ]
  },
  {
   "cell_type": "markdown",
   "metadata": {},
   "source": [
    "### Inverse Vector Iteration with Shift\n",
    "\n",
    "If $\\lambda$ is an eigenvalue of $A$ then $\\lambda-\\sigma$ is an eigenvalue of $A-\\sigma I$.\n",
    "The eigenvalue of the inverse $(A-\\sigma I)^{-1} = B$ will be $\\mu = \\frac{1}{\\lambda-\\sigma}$.\n",
    "Thus, if $\\lambda\\approx\\sigma$, vector iteration with B will yield the smallest (in magnitude) EV of A.\n",
    "\n",
    "The iteration rule is then\n",
    "$$ b_{k+1} = (A - \\sigma I)^{-1} b_k \\text{ or } (A - \\sigma I) b_{k+1} = b_k $$\n",
    "\n",
    "The series converges to the same eigenvectors, the eigenvalues $\\mu$ are related to the original ones $\\lambda$ via\n",
    "$$ \\lambda = \\sigma + \\frac{1}{\\mu}$$\n",
    "\n",
    "* $\\sigma$ is called the shift point\n",
    "* a linear system has to be solved in each step\n",
    "* for a constant shift point the solution of the linear system corresponds to a matrix multiplication\n",
    "\n",
    "> If you shift to exactly one eigenvalue $A-\\sigma I$ becomes ill-conditioned!"
   ]
  },
  {
   "cell_type": "code",
   "execution_count": 5,
   "metadata": {},
   "outputs": [
    {
     "name": "stdout",
     "output_type": "stream",
     "text": [
      "('Current evaluation', 0, '-->', 2.3565113390406531)\n",
      "('Current evaluation', 1, '-->', 1.9949654524961131)\n",
      "('Current evaluation', 2, '-->', 2.0039324040401469)\n",
      "('Current evaluation', 3, '-->', 1.9994367943829858)\n",
      "('Current evaluation', 4, '-->', 2.0002598041227637)\n",
      "('Current evaluation', 5, '-->', 1.9998888391860401)\n",
      "('Current evaluation', 6, '-->', 2.0000431417548095)\n",
      "('Current evaluation', 7, '-->', 1.9999800088866169)\n",
      "('Current evaluation', 8, '-->', 2.0000080976247667)\n",
      "('Current evaluation', 9, '-->', 1.999996401973084)\n",
      "\n",
      "Eigenvalue found:\n",
      "2.0\n",
      "\n",
      "Corresponding eigenvecotor found:\n",
      "[-0.37  0.68 -0.06 -0.63]\n"
     ]
    },
    {
     "data": {
      "image/png": "[encoded data removed]",
      "text/plain": [
       "<matplotlib.figure.Figure at 0x9203c50>"
      ]
     },
     "metadata": {},
     "output_type": "display_data"
    }
   ],
   "source": [
    "# choose shift point\n",
    "sig = 1.7\n",
    "B = inv(A-sig*np.diag(np.ones_like(D)))\n",
    "\n",
    "#y = np.dot(Binv,np.ones_like(D)) # start value\n",
    "x = np.ones(len(D))\n",
    "for i in range(10) :\n",
    "    # compute update\n",
    "    num = np.dot(B,x)\n",
    "\n",
    "    # compute denominator\n",
    "    den = sum(abs(num)**2)**(1./2)\n",
    "    \n",
    "    # compute recursion\n",
    "    x = num/den\n",
    "    \n",
    "    # Check sign\n",
    "    eigV = np.dot(np.transpose(x),np.dot(B,x))/np.dot(np.transpose(x),x)\n",
    "    \n",
    "    # update lambda\n",
    "    lamb = sig + 1/eigV\n",
    "    \n",
    "    # do fancy plot\n",
    "    plt.scatter(i, lamb)\n",
    "    \n",
    "    # display some stuff & plot fancy\n",
    "    print('Current evaluation',i,'-->',lamb)\n",
    "    plt.scatter(i, lamb, marker='o')\n",
    "    \n",
    "\n",
    "print('\\nEigenvalue found:')\n",
    "print(np.round(sig+1/eigV, 2, out=None))\n",
    "\n",
    "print('\\nCorresponding eigenvecotor found:')\n",
    "print(np.round_(x, decimals=2, out=None))"
   ]
  },
  {
   "cell_type": "markdown",
   "metadata": {},
   "source": [
    "### Rayleigh Quotient Iteration\n",
    "\n",
    "Do (inverse) vector iteration but, adapt the shift point in every iteration."
   ]
  },
  {
   "cell_type": "code",
   "execution_count": 10,
   "metadata": {},
   "outputs": [
    {
     "output_type": "stream",
     "name": "stdout",
     "text": "Current evaluation 0 --> 0.6322996987908875\nCurrent evaluation 1 --> 0.7494067382127585\nCurrent evaluation 2 --> 0.9736785316403405\nCurrent evaluation 3 --> 0.9996039023892072\nCurrent evaluation 4 --> 0.9999999084580934\nCurrent evaluation 5 --> 0.9999999999999964\nCurrent evaluation 6 --> 1.0000000000000009\nCurrent evaluation 7 --> 1.0000000000000004\nCurrent evaluation 8 --> 1.0000000000000004\nCurrent evaluation 9 --> 1.0000000000000007\n\nEigenvalue found:\n1.0\n\nCorresponding eigenvector found:\n[0.17 0.74 0.22 0.62]\n"
    },
    {
     "output_type": "display_data",
     "data": {
      "text/plain": "<Figure size 432x288 with 1 Axes>",
      "image/svg+xml": "<?xml version=\"1.0\" encoding=\"utf-8\" standalone=\"no\"?>\r\n<!DOCTYPE svg PUBLIC \"-//W3C//DTD SVG 1.1//EN\"\r\n  \"http://www.w3.org/Graphics/SVG/1.1/DTD/svg11.dtd\">\r\n<!-- Created with matplotlib (https://matplotlib.org/) -->\r\n<svg height=\"248.518125pt\" version=\"1.1\" viewBox=\"0 0 378.465625 248.518125\" width=\"378.465625pt\" xmlns=\"http://www.w3.org/2000/svg\" xmlns:xlink=\"http://www.w3.org/1999/xlink\">\r\n <defs>\r\n  <style type=\"text/css\">\r\n*{stroke-linecap:butt;stroke-linejoin:round;}\r\n  </style>\r\n </defs>\r\n <g id=\"figure_1\">\r\n  <g id=\"patch_1\">\r\n   <path d=\"M 0 248.518125 \r\nL 378.465625 248.518125 \r\nL 378.465625 0 \r\nL 0 0 \r\nz\r\n\" style=\"fill:none;\"/>\r\n  </g>\r\n  <g id=\"axes_1\">\r\n   <g id=\"patch_2\">\r\n    <path d=\"M 36.465625 224.64 \r\nL 371.265625 224.64 \r\nL 371.265625 7.2 \r\nL 36.465625 7.2 \r\nz\r\n\" style=\"fill:#ffffff;\"/>\r\n   </g>\r\n   <g id=\"PathCollection_1\">\r\n    <defs>\r\n     <path d=\"M 0 3 \r\nC 0.795609 3 1.55874 2.683901 2.12132 2.12132 \r\nC 2.683901 1.55874 3 0.795609 3 0 \r\nC 3 -0.795609 2.683901 -1.55874 2.12132 -2.12132 \r\nC 1.55874 -2.683901 0.795609 -3 0 -3 \r\nC -0.795609 -3 -1.55874 -2.683901 -2.12132 -2.12132 \r\nC -2.683901 -1.55874 -3 -0.795609 -3 0 \r\nC -3 0.795609 -2.683901 1.55874 -2.12132 2.12132 \r\nC -1.55874 2.683901 -0.795609 3 0 3 \r\nz\r\n\" id=\"m2a29fdf635\" style=\"stroke:#1f77b4;\"/>\r\n    </defs>\r\n    <g clip-path=\"url(#p611b9dcd3e)\">\r\n     <use style=\"fill:#1f77b4;stroke:#1f77b4;\" x=\"51.983883\" xlink:href=\"#m2a29fdf635\" y=\"207.715992\"/>\r\n    </g>\r\n   </g>\r\n   <g id=\"PathCollection_2\">\r\n    <defs>\r\n     <path d=\"M 0 3 \r\nC 0.795609 3 1.55874 2.683901 2.12132 2.12132 \r\nC 2.683901 1.55874 3 0.795609 3 0 \r\nC 3 -0.795609 2.683901 -1.55874 2.12132 -2.12132 \r\nC 1.55874 -2.683901 0.795609 -3 0 -3 \r\nC -0.795609 -3 -1.55874 -2.683901 -2.12132 -2.12132 \r\nC -2.683901 -1.55874 -3 -0.795609 -3 0 \r\nC -3 0.795609 -2.683901 1.55874 -2.12132 2.12132 \r\nC -1.55874 2.683901 -0.795609 3 0 3 \r\nz\r\n\" id=\"m17b09a039c\" style=\"stroke:#ff7f0e;\"/>\r\n    </defs>\r\n    <g clip-path=\"url(#p611b9dcd3e)\">\r\n     <use style=\"fill:#ff7f0e;stroke:#ff7f0e;\" x=\"85.472431\" xlink:href=\"#m17b09a039c\" y=\"147.957897\"/>\r\n    </g>\r\n   </g>\r\n   <g id=\"PathCollection_3\">\r\n    <defs>\r\n     <path d=\"M 0 3 \r\nC 0.795609 3 1.55874 2.683901 2.12132 2.12132 \r\nC 2.683901 1.55874 3 0.795609 3 0 \r\nC 3 -0.795609 2.683901 -1.55874 2.12132 -2.12132 \r\nC 1.55874 -2.683901 0.795609 -3 0 -3 \r\nC -0.795609 -3 -1.55874 -2.683901 -2.12132 -2.12132 \r\nC -2.683901 -1.55874 -3 -0.795609 -3 0 \r\nC -3 0.795609 -2.683901 1.55874 -2.12132 2.12132 \r\nC -1.55874 2.683901 -0.795609 3 0 3 \r\nz\r\n\" id=\"m8bb23a28c2\" style=\"stroke:#2ca02c;\"/>\r\n    </defs>\r\n    <g clip-path=\"url(#p611b9dcd3e)\">\r\n     <use style=\"fill:#2ca02c;stroke:#2ca02c;\" x=\"118.960979\" xlink:href=\"#m8bb23a28c2\" y=\"33.515116\"/>\r\n    </g>\r\n   </g>\r\n   <g id=\"PathCollection_4\">\r\n    <defs>\r\n     <path d=\"M 0 3 \r\nC 0.795609 3 1.55874 2.683901 2.12132 2.12132 \r\nC 2.683901 1.55874 3 0.795609 3 0 \r\nC 3 -0.795609 2.683901 -1.55874 2.12132 -2.12132 \r\nC 1.55874 -2.683901 0.795609 -3 0 -3 \r\nC -0.795609 -3 -1.55874 -2.683901 -2.12132 -2.12132 \r\nC -2.683901 -1.55874 -3 -0.795609 -3 0 \r\nC -3 0.795609 -2.683901 1.55874 -2.12132 2.12132 \r\nC -1.55874 2.683901 -0.795609 3 0 3 \r\nz\r\n\" id=\"mbc56e784f7\" style=\"stroke:#d62728;\"/>\r\n    </defs>\r\n    <g clip-path=\"url(#p611b9dcd3e)\">\r\n     <use style=\"fill:#d62728;stroke:#d62728;\" x=\"152.449527\" xlink:href=\"#mbc56e784f7\" y=\"20.285759\"/>\r\n    </g>\r\n   </g>\r\n   <g id=\"PathCollection_5\">\r\n    <defs>\r\n     <path d=\"M 0 3 \r\nC 0.795609 3 1.55874 2.683901 2.12132 2.12132 \r\nC 2.683901 1.55874 3 0.795609 3 0 \r\nC 3 -0.795609 2.683901 -1.55874 2.12132 -2.12132 \r\nC 1.55874 -2.683901 0.795609 -3 0 -3 \r\nC -0.795609 -3 -1.55874 -2.683901 -2.12132 -2.12132 \r\nC -2.683901 -1.55874 -3 -0.795609 -3 0 \r\nC -3 0.795609 -2.683901 1.55874 -2.12132 2.12132 \r\nC -1.55874 2.683901 -0.795609 3 0 3 \r\nz\r\n\" id=\"mcfd658fa2a\" style=\"stroke:#9467bd;\"/>\r\n    </defs>\r\n    <g clip-path=\"url(#p611b9dcd3e)\">\r\n     <use style=\"fill:#9467bd;stroke:#9467bd;\" x=\"185.938074\" xlink:href=\"#mcfd658fa2a\" y=\"20.083683\"/>\r\n    </g>\r\n   </g>\r\n   <g id=\"PathCollection_6\">\r\n    <defs>\r\n     <path d=\"M 0 3 \r\nC 0.795609 3 1.55874 2.683901 2.12132 2.12132 \r\nC 2.683901 1.55874 3 0.795609 3 0 \r\nC 3 -0.795609 2.683901 -1.55874 2.12132 -2.12132 \r\nC 1.55874 -2.683901 0.795609 -3 0 -3 \r\nC -0.795609 -3 -1.55874 -2.683901 -2.12132 -2.12132 \r\nC -2.683901 -1.55874 -3 -0.795609 -3 0 \r\nC -3 0.795609 -2.683901 1.55874 -2.12132 2.12132 \r\nC -1.55874 2.683901 -0.795609 3 0 3 \r\nz\r\n\" id=\"m4da65131db\" style=\"stroke:#8c564b;\"/>\r\n    </defs>\r\n    <g clip-path=\"url(#p611b9dcd3e)\">\r\n     <use style=\"fill:#8c564b;stroke:#8c564b;\" x=\"219.426622\" xlink:href=\"#m4da65131db\" y=\"20.083636\"/>\r\n    </g>\r\n   </g>\r\n   <g id=\"PathCollection_7\">\r\n    <defs>\r\n     <path d=\"M 0 3 \r\nC 0.795609 3 1.55874 2.683901 2.12132 2.12132 \r\nC 2.683901 1.55874 3 0.795609 3 0 \r\nC 3 -0.795609 2.683901 -1.55874 2.12132 -2.12132 \r\nC 1.55874 -2.683901 0.795609 -3 0 -3 \r\nC -0.795609 -3 -1.55874 -2.683901 -2.12132 -2.12132 \r\nC -2.683901 -1.55874 -3 -0.795609 -3 0 \r\nC -3 0.795609 -2.683901 1.55874 -2.12132 2.12132 \r\nC -1.55874 2.683901 -0.795609 3 0 3 \r\nz\r\n\" id=\"m5a24c00011\" style=\"stroke:#e377c2;\"/>\r\n    </defs>\r\n    <g clip-path=\"url(#p611b9dcd3e)\">\r\n     <use style=\"fill:#e377c2;stroke:#e377c2;\" x=\"252.91517\" xlink:href=\"#m5a24c00011\" y=\"20.083636\"/>\r\n    </g>\r\n   </g>\r\n   <g id=\"PathCollection_8\">\r\n    <defs>\r\n     <path d=\"M 0 3 \r\nC 0.795609 3 1.55874 2.683901 2.12132 2.12132 \r\nC 2.683901 1.55874 3 0.795609 3 0 \r\nC 3 -0.795609 2.683901 -1.55874 2.12132 -2.12132 \r\nC 1.55874 -2.683901 0.795609 -3 0 -3 \r\nC -0.795609 -3 -1.55874 -2.683901 -2.12132 -2.12132 \r\nC -2.683901 -1.55874 -3 -0.795609 -3 0 \r\nC -3 0.795609 -2.683901 1.55874 -2.12132 2.12132 \r\nC -1.55874 2.683901 -0.795609 3 0 3 \r\nz\r\n\" id=\"m430f2b8fdb\" style=\"stroke:#7f7f7f;\"/>\r\n    </defs>\r\n    <g clip-path=\"url(#p611b9dcd3e)\">\r\n     <use style=\"fill:#7f7f7f;stroke:#7f7f7f;\" x=\"286.403718\" xlink:href=\"#m430f2b8fdb\" y=\"20.083636\"/>\r\n    </g>\r\n   </g>\r\n   <g id=\"PathCollection_9\">\r\n    <defs>\r\n     <path d=\"M 0 3 \r\nC 0.795609 3 1.55874 2.683901 2.12132 2.12132 \r\nC 2.683901 1.55874 3 0.795609 3 0 \r\nC 3 -0.795609 2.683901 -1.55874 2.12132 -2.12132 \r\nC 1.55874 -2.683901 0.795609 -3 0 -3 \r\nC -0.795609 -3 -1.55874 -2.683901 -2.12132 -2.12132 \r\nC -2.683901 -1.55874 -3 -0.795609 -3 0 \r\nC -3 0.795609 -2.683901 1.55874 -2.12132 2.12132 \r\nC -1.55874 2.683901 -0.795609 3 0 3 \r\nz\r\n\" id=\"m3a6622b411\" style=\"stroke:#bcbd22;\"/>\r\n    </defs>\r\n    <g clip-path=\"url(#p611b9dcd3e)\">\r\n     <use style=\"fill:#bcbd22;stroke:#bcbd22;\" x=\"319.892266\" xlink:href=\"#m3a6622b411\" y=\"20.083636\"/>\r\n    </g>\r\n   </g>\r\n   <g id=\"PathCollection_10\">\r\n    <defs>\r\n     <path d=\"M 0 3 \r\nC 0.795609 3 1.55874 2.683901 2.12132 2.12132 \r\nC 2.683901 1.55874 3 0.795609 3 0 \r\nC 3 -0.795609 2.683901 -1.55874 2.12132 -2.12132 \r\nC 1.55874 -2.683901 0.795609 -3 0 -3 \r\nC -0.795609 -3 -1.55874 -2.683901 -2.12132 -2.12132 \r\nC -2.683901 -1.55874 -3 -0.795609 -3 0 \r\nC -3 0.795609 -2.683901 1.55874 -2.12132 2.12132 \r\nC -1.55874 2.683901 -0.795609 3 0 3 \r\nz\r\n\" id=\"mf3f9b9dfa5\" style=\"stroke:#17becf;\"/>\r\n    </defs>\r\n    <g clip-path=\"url(#p611b9dcd3e)\">\r\n     <use style=\"fill:#17becf;stroke:#17becf;\" x=\"353.380813\" xlink:href=\"#mf3f9b9dfa5\" y=\"20.083636\"/>\r\n    </g>\r\n   </g>\r\n   <g id=\"matplotlib.axis_1\">\r\n    <g id=\"xtick_1\">\r\n     <g id=\"line2d_1\">\r\n      <defs>\r\n       <path d=\"M 0 0 \r\nL 0 3.5 \r\n\" id=\"mf53f074803\" style=\"stroke:#000000;stroke-width:0.8;\"/>\r\n      </defs>\r\n      <g>\r\n       <use style=\"stroke:#000000;stroke-width:0.8;\" x=\"51.983883\" xlink:href=\"#mf53f074803\" y=\"224.64\"/>\r\n      </g>\r\n     </g>\r\n     <g id=\"text_1\">\r\n      <!-- 0 -->\r\n      <defs>\r\n       <path d=\"M 31.78125 66.40625 \r\nQ 24.171875 66.40625 20.328125 58.90625 \r\nQ 16.5 51.421875 16.5 36.375 \r\nQ 16.5 21.390625 20.328125 13.890625 \r\nQ 24.171875 6.390625 31.78125 6.390625 \r\nQ 39.453125 6.390625 43.28125 13.890625 \r\nQ 47.125 21.390625 47.125 36.375 \r\nQ 47.125 51.421875 43.28125 58.90625 \r\nQ 39.453125 66.40625 31.78125 66.40625 \r\nz\r\nM 31.78125 74.21875 \r\nQ 44.046875 74.21875 50.515625 64.515625 \r\nQ 56.984375 54.828125 56.984375 36.375 \r\nQ 56.984375 17.96875 50.515625 8.265625 \r\nQ 44.046875 -1.421875 31.78125 -1.421875 \r\nQ 19.53125 -1.421875 13.0625 8.265625 \r\nQ 6.59375 17.96875 6.59375 36.375 \r\nQ 6.59375 54.828125 13.0625 64.515625 \r\nQ 19.53125 74.21875 31.78125 74.21875 \r\nz\r\n\" id=\"DejaVuSans-48\"/>\r\n      </defs>\r\n      <g transform=\"translate(48.802633 239.238437)scale(0.1 -0.1)\">\r\n       <use xlink:href=\"#DejaVuSans-48\"/>\r\n      </g>\r\n     </g>\r\n    </g>\r\n    <g id=\"xtick_2\">\r\n     <g id=\"line2d_2\">\r\n      <g>\r\n       <use style=\"stroke:#000000;stroke-width:0.8;\" x=\"118.960979\" xlink:href=\"#mf53f074803\" y=\"224.64\"/>\r\n      </g>\r\n     </g>\r\n     <g id=\"text_2\">\r\n      <!-- 2 -->\r\n      <defs>\r\n       <path d=\"M 19.1875 8.296875 \r\nL 53.609375 8.296875 \r\nL 53.609375 0 \r\nL 7.328125 0 \r\nL 7.328125 8.296875 \r\nQ 12.9375 14.109375 22.625 23.890625 \r\nQ 32.328125 33.6875 34.8125 36.53125 \r\nQ 39.546875 41.84375 41.421875 45.53125 \r\nQ 43.3125 49.21875 43.3125 52.78125 \r\nQ 43.3125 58.59375 39.234375 62.25 \r\nQ 35.15625 65.921875 28.609375 65.921875 \r\nQ 23.96875 65.921875 18.8125 64.3125 \r\nQ 13.671875 62.703125 7.8125 59.421875 \r\nL 7.8125 69.390625 \r\nQ 13.765625 71.78125 18.9375 73 \r\nQ 24.125 74.21875 28.421875 74.21875 \r\nQ 39.75 74.21875 46.484375 68.546875 \r\nQ 53.21875 62.890625 53.21875 53.421875 \r\nQ 53.21875 48.921875 51.53125 44.890625 \r\nQ 49.859375 40.875 45.40625 35.40625 \r\nQ 44.1875 33.984375 37.640625 27.21875 \r\nQ 31.109375 20.453125 19.1875 8.296875 \r\nz\r\n\" id=\"DejaVuSans-50\"/>\r\n      </defs>\r\n      <g transform=\"translate(115.779729 239.238437)scale(0.1 -0.1)\">\r\n       <use xlink:href=\"#DejaVuSans-50\"/>\r\n      </g>\r\n     </g>\r\n    </g>\r\n    <g id=\"xtick_3\">\r\n     <g id=\"line2d_3\">\r\n      <g>\r\n       <use style=\"stroke:#000000;stroke-width:0.8;\" x=\"185.938074\" xlink:href=\"#mf53f074803\" y=\"224.64\"/>\r\n      </g>\r\n     </g>\r\n     <g id=\"text_3\">\r\n      <!-- 4 -->\r\n      <defs>\r\n       <path d=\"M 37.796875 64.3125 \r\nL 12.890625 25.390625 \r\nL 37.796875 25.390625 \r\nz\r\nM 35.203125 72.90625 \r\nL 47.609375 72.90625 \r\nL 47.609375 25.390625 \r\nL 58.015625 25.390625 \r\nL 58.015625 17.1875 \r\nL 47.609375 17.1875 \r\nL 47.609375 0 \r\nL 37.796875 0 \r\nL 37.796875 17.1875 \r\nL 4.890625 17.1875 \r\nL 4.890625 26.703125 \r\nz\r\n\" id=\"DejaVuSans-52\"/>\r\n      </defs>\r\n      <g transform=\"translate(182.756824 239.238437)scale(0.1 -0.1)\">\r\n       <use xlink:href=\"#DejaVuSans-52\"/>\r\n      </g>\r\n     </g>\r\n    </g>\r\n    <g id=\"xtick_4\">\r\n     <g id=\"line2d_4\">\r\n      <g>\r\n       <use style=\"stroke:#000000;stroke-width:0.8;\" x=\"252.91517\" xlink:href=\"#mf53f074803\" y=\"224.64\"/>\r\n      </g>\r\n     </g>\r\n     <g id=\"text_4\">\r\n      <!-- 6 -->\r\n      <defs>\r\n       <path d=\"M 33.015625 40.375 \r\nQ 26.375 40.375 22.484375 35.828125 \r\nQ 18.609375 31.296875 18.609375 23.390625 \r\nQ 18.609375 15.53125 22.484375 10.953125 \r\nQ 26.375 6.390625 33.015625 6.390625 \r\nQ 39.65625 6.390625 43.53125 10.953125 \r\nQ 47.40625 15.53125 47.40625 23.390625 \r\nQ 47.40625 31.296875 43.53125 35.828125 \r\nQ 39.65625 40.375 33.015625 40.375 \r\nz\r\nM 52.59375 71.296875 \r\nL 52.59375 62.3125 \r\nQ 48.875 64.0625 45.09375 64.984375 \r\nQ 41.3125 65.921875 37.59375 65.921875 \r\nQ 27.828125 65.921875 22.671875 59.328125 \r\nQ 17.53125 52.734375 16.796875 39.40625 \r\nQ 19.671875 43.65625 24.015625 45.921875 \r\nQ 28.375 48.1875 33.59375 48.1875 \r\nQ 44.578125 48.1875 50.953125 41.515625 \r\nQ 57.328125 34.859375 57.328125 23.390625 \r\nQ 57.328125 12.15625 50.6875 5.359375 \r\nQ 44.046875 -1.421875 33.015625 -1.421875 \r\nQ 20.359375 -1.421875 13.671875 8.265625 \r\nQ 6.984375 17.96875 6.984375 36.375 \r\nQ 6.984375 53.65625 15.1875 63.9375 \r\nQ 23.390625 74.21875 37.203125 74.21875 \r\nQ 40.921875 74.21875 44.703125 73.484375 \r\nQ 48.484375 72.75 52.59375 71.296875 \r\nz\r\n\" id=\"DejaVuSans-54\"/>\r\n      </defs>\r\n      <g transform=\"translate(249.73392 239.238437)scale(0.1 -0.1)\">\r\n       <use xlink:href=\"#DejaVuSans-54\"/>\r\n      </g>\r\n     </g>\r\n    </g>\r\n    <g id=\"xtick_5\">\r\n     <g id=\"line2d_5\">\r\n      <g>\r\n       <use style=\"stroke:#000000;stroke-width:0.8;\" x=\"319.892266\" xlink:href=\"#mf53f074803\" y=\"224.64\"/>\r\n      </g>\r\n     </g>\r\n     <g id=\"text_5\">\r\n      <!-- 8 -->\r\n      <defs>\r\n       <path d=\"M 31.78125 34.625 \r\nQ 24.75 34.625 20.71875 30.859375 \r\nQ 16.703125 27.09375 16.703125 20.515625 \r\nQ 16.703125 13.921875 20.71875 10.15625 \r\nQ 24.75 6.390625 31.78125 6.390625 \r\nQ 38.8125 6.390625 42.859375 10.171875 \r\nQ 46.921875 13.96875 46.921875 20.515625 \r\nQ 46.921875 27.09375 42.890625 30.859375 \r\nQ 38.875 34.625 31.78125 34.625 \r\nz\r\nM 21.921875 38.8125 \r\nQ 15.578125 40.375 12.03125 44.71875 \r\nQ 8.5 49.078125 8.5 55.328125 \r\nQ 8.5 64.0625 14.71875 69.140625 \r\nQ 20.953125 74.21875 31.78125 74.21875 \r\nQ 42.671875 74.21875 48.875 69.140625 \r\nQ 55.078125 64.0625 55.078125 55.328125 \r\nQ 55.078125 49.078125 51.53125 44.71875 \r\nQ 48 40.375 41.703125 38.8125 \r\nQ 48.828125 37.15625 52.796875 32.3125 \r\nQ 56.78125 27.484375 56.78125 20.515625 \r\nQ 56.78125 9.90625 50.3125 4.234375 \r\nQ 43.84375 -1.421875 31.78125 -1.421875 \r\nQ 19.734375 -1.421875 13.25 4.234375 \r\nQ 6.78125 9.90625 6.78125 20.515625 \r\nQ 6.78125 27.484375 10.78125 32.3125 \r\nQ 14.796875 37.15625 21.921875 38.8125 \r\nz\r\nM 18.3125 54.390625 \r\nQ 18.3125 48.734375 21.84375 45.5625 \r\nQ 25.390625 42.390625 31.78125 42.390625 \r\nQ 38.140625 42.390625 41.71875 45.5625 \r\nQ 45.3125 48.734375 45.3125 54.390625 \r\nQ 45.3125 60.0625 41.71875 63.234375 \r\nQ 38.140625 66.40625 31.78125 66.40625 \r\nQ 25.390625 66.40625 21.84375 63.234375 \r\nQ 18.3125 60.0625 18.3125 54.390625 \r\nz\r\n\" id=\"DejaVuSans-56\"/>\r\n      </defs>\r\n      <g transform=\"translate(316.711016 239.238437)scale(0.1 -0.1)\">\r\n       <use xlink:href=\"#DejaVuSans-56\"/>\r\n      </g>\r\n     </g>\r\n    </g>\r\n   </g>\r\n   <g id=\"matplotlib.axis_2\">\r\n    <g id=\"ytick_1\">\r\n     <g id=\"line2d_6\">\r\n      <defs>\r\n       <path d=\"M 0 0 \r\nL -3.5 0 \r\n\" id=\"md366dca785\" style=\"stroke:#000000;stroke-width:0.8;\"/>\r\n      </defs>\r\n      <g>\r\n       <use style=\"stroke:#000000;stroke-width:0.8;\" x=\"36.465625\" xlink:href=\"#md366dca785\" y=\"224.19808\"/>\r\n      </g>\r\n     </g>\r\n     <g id=\"text_6\">\r\n      <!-- 0.60 -->\r\n      <defs>\r\n       <path d=\"M 10.6875 12.40625 \r\nL 21 12.40625 \r\nL 21 0 \r\nL 10.6875 0 \r\nz\r\n\" id=\"DejaVuSans-46\"/>\r\n      </defs>\r\n      <g transform=\"translate(7.2 227.997299)scale(0.1 -0.1)\">\r\n       <use xlink:href=\"#DejaVuSans-48\"/>\r\n       <use x=\"63.623047\" xlink:href=\"#DejaVuSans-46\"/>\r\n       <use x=\"95.410156\" xlink:href=\"#DejaVuSans-54\"/>\r\n       <use x=\"159.033203\" xlink:href=\"#DejaVuSans-48\"/>\r\n      </g>\r\n     </g>\r\n    </g>\r\n    <g id=\"ytick_2\">\r\n     <g id=\"line2d_7\">\r\n      <g>\r\n       <use style=\"stroke:#000000;stroke-width:0.8;\" x=\"36.465625\" xlink:href=\"#md366dca785\" y=\"198.683775\"/>\r\n      </g>\r\n     </g>\r\n     <g id=\"text_7\">\r\n      <!-- 0.65 -->\r\n      <defs>\r\n       <path d=\"M 10.796875 72.90625 \r\nL 49.515625 72.90625 \r\nL 49.515625 64.59375 \r\nL 19.828125 64.59375 \r\nL 19.828125 46.734375 \r\nQ 21.96875 47.46875 24.109375 47.828125 \r\nQ 26.265625 48.1875 28.421875 48.1875 \r\nQ 40.625 48.1875 47.75 41.5 \r\nQ 54.890625 34.8125 54.890625 23.390625 \r\nQ 54.890625 11.625 47.5625 5.09375 \r\nQ 40.234375 -1.421875 26.90625 -1.421875 \r\nQ 22.3125 -1.421875 17.546875 -0.640625 \r\nQ 12.796875 0.140625 7.71875 1.703125 \r\nL 7.71875 11.625 \r\nQ 12.109375 9.234375 16.796875 8.0625 \r\nQ 21.484375 6.890625 26.703125 6.890625 \r\nQ 35.15625 6.890625 40.078125 11.328125 \r\nQ 45.015625 15.765625 45.015625 23.390625 \r\nQ 45.015625 31 40.078125 35.4375 \r\nQ 35.15625 39.890625 26.703125 39.890625 \r\nQ 22.75 39.890625 18.8125 39.015625 \r\nQ 14.890625 38.140625 10.796875 36.28125 \r\nz\r\n\" id=\"DejaVuSans-53\"/>\r\n      </defs>\r\n      <g transform=\"translate(7.2 202.482993)scale(0.1 -0.1)\">\r\n       <use xlink:href=\"#DejaVuSans-48\"/>\r\n       <use x=\"63.623047\" xlink:href=\"#DejaVuSans-46\"/>\r\n       <use x=\"95.410156\" xlink:href=\"#DejaVuSans-54\"/>\r\n       <use x=\"159.033203\" xlink:href=\"#DejaVuSans-53\"/>\r\n      </g>\r\n     </g>\r\n    </g>\r\n    <g id=\"ytick_3\">\r\n     <g id=\"line2d_8\">\r\n      <g>\r\n       <use style=\"stroke:#000000;stroke-width:0.8;\" x=\"36.465625\" xlink:href=\"#md366dca785\" y=\"173.169469\"/>\r\n      </g>\r\n     </g>\r\n     <g id=\"text_8\">\r\n      <!-- 0.70 -->\r\n      <defs>\r\n       <path d=\"M 8.203125 72.90625 \r\nL 55.078125 72.90625 \r\nL 55.078125 68.703125 \r\nL 28.609375 0 \r\nL 18.3125 0 \r\nL 43.21875 64.59375 \r\nL 8.203125 64.59375 \r\nz\r\n\" id=\"DejaVuSans-55\"/>\r\n      </defs>\r\n      <g transform=\"translate(7.2 176.968688)scale(0.1 -0.1)\">\r\n       <use xlink:href=\"#DejaVuSans-48\"/>\r\n       <use x=\"63.623047\" xlink:href=\"#DejaVuSans-46\"/>\r\n       <use x=\"95.410156\" xlink:href=\"#DejaVuSans-55\"/>\r\n       <use x=\"159.033203\" xlink:href=\"#DejaVuSans-48\"/>\r\n      </g>\r\n     </g>\r\n    </g>\r\n    <g id=\"ytick_4\">\r\n     <g id=\"line2d_9\">\r\n      <g>\r\n       <use style=\"stroke:#000000;stroke-width:0.8;\" x=\"36.465625\" xlink:href=\"#md366dca785\" y=\"147.655164\"/>\r\n      </g>\r\n     </g>\r\n     <g id=\"text_9\">\r\n      <!-- 0.75 -->\r\n      <g transform=\"translate(7.2 151.454382)scale(0.1 -0.1)\">\r\n       <use xlink:href=\"#DejaVuSans-48\"/>\r\n       <use x=\"63.623047\" xlink:href=\"#DejaVuSans-46\"/>\r\n       <use x=\"95.410156\" xlink:href=\"#DejaVuSans-55\"/>\r\n       <use x=\"159.033203\" xlink:href=\"#DejaVuSans-53\"/>\r\n      </g>\r\n     </g>\r\n    </g>\r\n    <g id=\"ytick_5\">\r\n     <g id=\"line2d_10\">\r\n      <g>\r\n       <use style=\"stroke:#000000;stroke-width:0.8;\" x=\"36.465625\" xlink:href=\"#md366dca785\" y=\"122.140858\"/>\r\n      </g>\r\n     </g>\r\n     <g id=\"text_10\">\r\n      <!-- 0.80 -->\r\n      <g transform=\"translate(7.2 125.940077)scale(0.1 -0.1)\">\r\n       <use xlink:href=\"#DejaVuSans-48\"/>\r\n       <use x=\"63.623047\" xlink:href=\"#DejaVuSans-46\"/>\r\n       <use x=\"95.410156\" xlink:href=\"#DejaVuSans-56\"/>\r\n       <use x=\"159.033203\" xlink:href=\"#DejaVuSans-48\"/>\r\n      </g>\r\n     </g>\r\n    </g>\r\n    <g id=\"ytick_6\">\r\n     <g id=\"line2d_11\">\r\n      <g>\r\n       <use style=\"stroke:#000000;stroke-width:0.8;\" x=\"36.465625\" xlink:href=\"#md366dca785\" y=\"96.626553\"/>\r\n      </g>\r\n     </g>\r\n     <g id=\"text_11\">\r\n      <!-- 0.85 -->\r\n      <g transform=\"translate(7.2 100.425771)scale(0.1 -0.1)\">\r\n       <use xlink:href=\"#DejaVuSans-48\"/>\r\n       <use x=\"63.623047\" xlink:href=\"#DejaVuSans-46\"/>\r\n       <use x=\"95.410156\" xlink:href=\"#DejaVuSans-56\"/>\r\n       <use x=\"159.033203\" xlink:href=\"#DejaVuSans-53\"/>\r\n      </g>\r\n     </g>\r\n    </g>\r\n    <g id=\"ytick_7\">\r\n     <g id=\"line2d_12\">\r\n      <g>\r\n       <use style=\"stroke:#000000;stroke-width:0.8;\" x=\"36.465625\" xlink:href=\"#md366dca785\" y=\"71.112247\"/>\r\n      </g>\r\n     </g>\r\n     <g id=\"text_12\">\r\n      <!-- 0.90 -->\r\n      <defs>\r\n       <path d=\"M 10.984375 1.515625 \r\nL 10.984375 10.5 \r\nQ 14.703125 8.734375 18.5 7.8125 \r\nQ 22.3125 6.890625 25.984375 6.890625 \r\nQ 35.75 6.890625 40.890625 13.453125 \r\nQ 46.046875 20.015625 46.78125 33.40625 \r\nQ 43.953125 29.203125 39.59375 26.953125 \r\nQ 35.25 24.703125 29.984375 24.703125 \r\nQ 19.046875 24.703125 12.671875 31.3125 \r\nQ 6.296875 37.9375 6.296875 49.421875 \r\nQ 6.296875 60.640625 12.9375 67.421875 \r\nQ 19.578125 74.21875 30.609375 74.21875 \r\nQ 43.265625 74.21875 49.921875 64.515625 \r\nQ 56.59375 54.828125 56.59375 36.375 \r\nQ 56.59375 19.140625 48.40625 8.859375 \r\nQ 40.234375 -1.421875 26.421875 -1.421875 \r\nQ 22.703125 -1.421875 18.890625 -0.6875 \r\nQ 15.09375 0.046875 10.984375 1.515625 \r\nz\r\nM 30.609375 32.421875 \r\nQ 37.25 32.421875 41.125 36.953125 \r\nQ 45.015625 41.5 45.015625 49.421875 \r\nQ 45.015625 57.28125 41.125 61.84375 \r\nQ 37.25 66.40625 30.609375 66.40625 \r\nQ 23.96875 66.40625 20.09375 61.84375 \r\nQ 16.21875 57.28125 16.21875 49.421875 \r\nQ 16.21875 41.5 20.09375 36.953125 \r\nQ 23.96875 32.421875 30.609375 32.421875 \r\nz\r\n\" id=\"DejaVuSans-57\"/>\r\n      </defs>\r\n      <g transform=\"translate(7.2 74.911466)scale(0.1 -0.1)\">\r\n       <use xlink:href=\"#DejaVuSans-48\"/>\r\n       <use x=\"63.623047\" xlink:href=\"#DejaVuSans-46\"/>\r\n       <use x=\"95.410156\" xlink:href=\"#DejaVuSans-57\"/>\r\n       <use x=\"159.033203\" xlink:href=\"#DejaVuSans-48\"/>\r\n      </g>\r\n     </g>\r\n    </g>\r\n    <g id=\"ytick_8\">\r\n     <g id=\"line2d_13\">\r\n      <g>\r\n       <use style=\"stroke:#000000;stroke-width:0.8;\" x=\"36.465625\" xlink:href=\"#md366dca785\" y=\"45.597942\"/>\r\n      </g>\r\n     </g>\r\n     <g id=\"text_13\">\r\n      <!-- 0.95 -->\r\n      <g transform=\"translate(7.2 49.397161)scale(0.1 -0.1)\">\r\n       <use xlink:href=\"#DejaVuSans-48\"/>\r\n       <use x=\"63.623047\" xlink:href=\"#DejaVuSans-46\"/>\r\n       <use x=\"95.410156\" xlink:href=\"#DejaVuSans-57\"/>\r\n       <use x=\"159.033203\" xlink:href=\"#DejaVuSans-53\"/>\r\n      </g>\r\n     </g>\r\n    </g>\r\n    <g id=\"ytick_9\">\r\n     <g id=\"line2d_14\">\r\n      <g>\r\n       <use style=\"stroke:#000000;stroke-width:0.8;\" x=\"36.465625\" xlink:href=\"#md366dca785\" y=\"20.083636\"/>\r\n      </g>\r\n     </g>\r\n     <g id=\"text_14\">\r\n      <!-- 1.00 -->\r\n      <defs>\r\n       <path d=\"M 12.40625 8.296875 \r\nL 28.515625 8.296875 \r\nL 28.515625 63.921875 \r\nL 10.984375 60.40625 \r\nL 10.984375 69.390625 \r\nL 28.421875 72.90625 \r\nL 38.28125 72.90625 \r\nL 38.28125 8.296875 \r\nL 54.390625 8.296875 \r\nL 54.390625 0 \r\nL 12.40625 0 \r\nz\r\n\" id=\"DejaVuSans-49\"/>\r\n      </defs>\r\n      <g transform=\"translate(7.2 23.882855)scale(0.1 -0.1)\">\r\n       <use xlink:href=\"#DejaVuSans-49\"/>\r\n       <use x=\"63.623047\" xlink:href=\"#DejaVuSans-46\"/>\r\n       <use x=\"95.410156\" xlink:href=\"#DejaVuSans-48\"/>\r\n       <use x=\"159.033203\" xlink:href=\"#DejaVuSans-48\"/>\r\n      </g>\r\n     </g>\r\n    </g>\r\n   </g>\r\n   <g id=\"patch_3\">\r\n    <path d=\"M 36.465625 224.64 \r\nL 36.465625 7.2 \r\n\" style=\"fill:none;stroke:#000000;stroke-linecap:square;stroke-linejoin:miter;stroke-width:0.8;\"/>\r\n   </g>\r\n   <g id=\"patch_4\">\r\n    <path d=\"M 371.265625 224.64 \r\nL 371.265625 7.2 \r\n\" style=\"fill:none;stroke:#000000;stroke-linecap:square;stroke-linejoin:miter;stroke-width:0.8;\"/>\r\n   </g>\r\n   <g id=\"patch_5\">\r\n    <path d=\"M 36.465625 224.64 \r\nL 371.265625 224.64 \r\n\" style=\"fill:none;stroke:#000000;stroke-linecap:square;stroke-linejoin:miter;stroke-width:0.8;\"/>\r\n   </g>\r\n   <g id=\"patch_6\">\r\n    <path d=\"M 36.465625 7.2 \r\nL 371.265625 7.2 \r\n\" style=\"fill:none;stroke:#000000;stroke-linecap:square;stroke-linejoin:miter;stroke-width:0.8;\"/>\r\n   </g>\r\n  </g>\r\n </g>\r\n <defs>\r\n  <clipPath id=\"p611b9dcd3e\">\r\n   <rect height=\"217.44\" width=\"334.8\" x=\"36.465625\" y=\"7.2\"/>\r\n  </clipPath>\r\n </defs>\r\n</svg>\r\n",
      "image/png": "[encoded data removed]"
     },
     "metadata": {
      "needs_background": "light"
     }
    }
   ],
   "source": [
    "#y = np.dot(Binv,np.ones_like(D)) # start value\n",
    "sig = 0\n",
    "B = inv(A-sig*np.diag(np.ones_like(D)))\n",
    "x = np.ones(len(D))\n",
    "\n",
    "for i in range(10) :\n",
    "   \n",
    "    # compute update\n",
    "    num = np.dot(B,x)\n",
    "\n",
    "    # compute denominator\n",
    "    den = sum(abs(num)**2)**(1./2)\n",
    "\n",
    "    # compute recursion\n",
    "    x = num/den\n",
    "    \n",
    "    # Check sign\n",
    "    eigV = np.dot(np.transpose(x),np.dot(B,x))/np.dot(np.transpose(x),x)\n",
    "    \n",
    "    # update lambda\n",
    "    lamb = sig + 1/eigV\n",
    "    \n",
    "    # update shift point\n",
    "    sig=np.dot(np.transpose(x),np.dot(A,x))/np.dot(np.transpose(x),x)\n",
    "    B = inv(A-sig*np.diag(np.ones_like(D)))\n",
    "    \n",
    "    # display some stuff & plot fancy\n",
    "    print('Current evaluation',i,'-->',lamb)\n",
    "    plt.scatter(i, lamb, marker='o')\n",
    "\n",
    "print('\\nEigenvalue found:')\n",
    "print(np.round(lamb, 2, out=None))\n",
    "\n",
    "print('\\nCorresponding eigenvector found:')\n",
    "print(np.round_(x, decimals=2, out=None))"
   ]
  },
  {
   "cell_type": "markdown",
   "metadata": {},
   "source": [
    "### QR Algorithm\n",
    "One can ompute all eigenvalues at once using the QR-Algorithm:\n",
    "Compute the QR decomposition of $A$, i.e.\n",
    "$$ A_k = Q_k R_k $$\n",
    "and then apply the iteration rule\n",
    "$$ A_{k+1} = R_k Q_k $$\n",
    "which converges to upper diagonal form with the eigenvalues of $A$ in the diagonal.\n",
    "\n",
    "> Can you compute the eigenvectors once the eigenvalues are known?\n",
    "\n",
    "**Yes!** \n",
    " \n",
    "1. Through shifted vector iteration, using the now known eigenvalues.\n",
    "\n",
    "2. Or with $$ Q_\\infty = \\Pi_{k=1} Q_k $$\n"
   ]
  },
  {
   "cell_type": "code",
   "execution_count": 61,
   "metadata": {
    "collapsed": true
   },
   "outputs": [],
   "source": [
    "def eigQR(A, maxIter = 20):\n",
    "    \"\"\" Returns eigenvalues of matrix A using the QR decomposition as a list [lambda1, ..., lambdaN].\n",
    "        Also returns normalized eigenvectors as column vectors aranged into an array [v1, ..., vN]\n",
    "\n",
    "    \"\"\"\n",
    "    U = A\n",
    "    \n",
    "    # compute eigenvalues and eigenvectors\n",
    "    eigenVecs = np.eye(U.shape[0]) # initialize identity matrix \n",
    "    \n",
    "    for k in range(maxIter):\n",
    "        \n",
    "        Q,R = np.linalg.qr(U) # QR decomposition of matrix A\n",
    "        U = R @ Q # @ operator for matrix multiplication\n",
    "        eigenVecs = eigenVecs @ Q # compute eigenvector matrix Q = I*Q_0*Q_1*...\n",
    "\n",
    "    eigenVals = np.diag(U)\n",
    "    return eigenVals, eigenVecs\n"
   ]
  },
  {
   "cell_type": "code",
   "execution_count": 80,
   "metadata": {},
   "outputs": [
    {
     "output_type": "stream",
     "name": "stdout",
     "text": "Our QR-algorithm solver:\nEigenvalues: [4. 3. 2. 1.]\nEigenvectors:\n [[-0.55  0.57 -0.45 -0.42]\n [-0.43  0.34  0.82  0.14]\n [ 0.53  0.2   0.32 -0.76]\n [ 0.49  0.72 -0.13  0.48]]\n\n-----------------------------------------\n\nNumpy reference solver:\nEigenvalues: [1. 4. 3. 2.]\nEigenvectors:\n [[ 0.17 -0.56 -0.66  0.37]\n [ 0.74 -0.43 -0.41 -0.68]\n [ 0.22  0.52 -0.11  0.06]\n [ 0.62  0.48 -0.62  0.63]]\n"
    }
   ],
   "source": [
    "# test our solver\n",
    "eigenVals, eigenVecs = eigQR(A) \n",
    "sigDigits = 2\n",
    "print(\"Our QR-algorithm solver:\")\n",
    "print(\"Eigenvalues:\", np.round(eigenVals, sigDigits))\n",
    "print(\"Eigenvectors:\\n\", np.round(eigenVecs, sigDigits))\n",
    "print(\"\\n-----------------------------------------\\n\")\n",
    "# numpy reference solver \n",
    "w,v = np.linalg.eig(A)\n",
    "print(\"Numpy reference solver:\")\n",
    "print(\"Eigenvalues:\", np.round(w, sigDigits))\n",
    "print(\"Eigenvectors:\\n\", np.round(v, sigDigits))"
   ]
  },
  {
   "cell_type": "code",
   "execution_count": 82,
   "metadata": {},
   "outputs": [
    {
     "output_type": "stream",
     "name": "stdout",
     "text": "Eigenpair: 4.0 , [-0.55 -0.43  0.53  0.49]\nAv - lambda*v =  [-0. -0. -0. -0.]\n-----------------------------------------\n\nEigenpair: 3.0 , [0.57 0.34 0.2  0.72]\nAv - lambda*v =  [-0.1 -0.1  0.1  0.1]\n-----------------------------------------\n\nEigenpair: 2.0 , [-0.45  0.82  0.32 -0.13]\nAv - lambda*v =  [-0.3 -0.3  0.7  1. ]\n-----------------------------------------\n\nEigenpair: 1.0 , [-0.42  0.14 -0.76  0.48]\nAv - lambda*v =  [ -2.8  -4.7  -6.  -10.7]\n-----------------------------------------\n\n"
    }
   ],
   "source": [
    "for v, mu in zip(eigenVecs.T, eigenVals): # iterate over eigenvectors and matching eigenvalues\n",
    "    print(\"Eigenpair:\", np.round(mu, sigDigits), \",\", np.round(v, sigDigits))\n",
    "    print(\"Av - lambda*v = \", np.round(A @ v - mu * v, 1)) # check if the eigenpairs solve the eigenproblem and show us\n",
    "    print(\"-----------------------------------------\\n\")"
   ]
  },
  {
   "cell_type": "markdown",
   "metadata": {},
   "source": [
    "### Subspace Iteration\n",
    "\n",
    "Compute an orthonormal basis $X \\in \\mathbb{C}^{n\\times p}$ of $p$ vectors and use it in the iteration\n",
    "$$ {Z}_{k+1} = {A}{X}_k$$\n",
    "where \n",
    "$$ {X}_k{R}_k = {Z}_k $$\n",
    "is the QR factorization of $Z_k$.\n",
    "\n",
    "The largest (in magnitude) eigenvalues appear in the diagonal of $R_k$."
   ]
  },
  {
   "cell_type": "code",
   "execution_count": null,
   "metadata": {
    "collapsed": true
   },
   "outputs": [],
   "source": [
    "p = 2 # subspace size -> compute p eigenvalues\n",
    "\n",
    "# random starting basis\n",
    "X = np.random.rand(len(D),p)\n",
    "V = X\n",
    "\n",
    "# apply the Gram-Schmid process to orthonormalize\n",
    "for i in range(X.shape[-1]) :\n",
    "    pass\n",
    "\n",
    "# perform subspace iterations\n",
    "for i in range(10) :\n",
    "    pass"
   ]
  },
  {
   "cell_type": "markdown",
   "metadata": {},
   "source": [
    "### Submission Task 1: Function for Vector Iteration\n",
    "\n",
    "Write a function for the vector iteration as well as the iteration for higher eigenvalues using the call-signature given below. \n",
    "\n",
    "The function `vector_iteration` takes a matrix $A$ as an input. The function should iterate until the relative norm of the update is smaller than a defined tolerance $\\epsilon$, i.e. until \n",
    "$$ \\frac{\\lVert\\lambda_{k+1}-\\lambda_{k}\\rVert}{\\lVert\\lambda_{k}\\rVert} < \\epsilon $$\n",
    "\n",
    "In case of non-convergence after a maximum number of iterations, the function should terminate with a warning.\n",
    "The function should return the eigenvalue, the corresponding eigenvector as well as the number of iterations. Use the call signature give below, which already contains useful default values for tolerance and maximum number of iterations.\n",
    "\n",
    "In order to test your function apply use the four matrices\n",
    "\n",
    "$$ \n",
    "\\begin{align} M_1 &= \\begin{bmatrix} 4.00554954 & 0.01354906 & 1.19192526 & -1.27636247\\\\\n",
    "2.77659659 & 1.49989982 & 3.16264938 & -2.48173559\\\\\n",
    "1.45212322 & -0.48865181 & 6.86559345 & -1.8724586\\\\\n",
    "4.12225091 & -0.92237257 & 9.49381671 & -2.37104281 \\end{bmatrix} \\\\ M_2 &= \\begin{bmatrix} 3.24192625 & -0.39589781 & 0.40929052 & -0.45554814\\\\\n",
    "6.59991996 & 4.40135399 & -3.68378817 & -2.75428419\\\\\n",
    "3.31265289 & -0.99323334 & 1.59642826 & -1.05449113\\\\\n",
    "6.46753364 & 2.21218758 & -2.39903301 & -1.33970849 \\end{bmatrix} \\\\ M_3 &= \\begin{bmatrix} -21.9464225 & -21.49193731 & 33.04815917 & 4.13526652\\\\\n",
    "31.71210475 & 32.02995084 & -45.84335947 & -5.30095042\\\\\n",
    "36.26462491 & 34.35183299 & -50.24609045 & -5.14242071\\\\\n",
    "-25.9162961 & -24.95302837 & 37.98407031 & 6.16256212\\end{bmatrix} \\\\ M_4 &= \\begin{bmatrix} 2.08819284 & -0.60303119 & 0.32787878 & -0.08233684\\\\\n",
    "-0.76907073 & 3.99506513 & -0.08618573 & -1.77753553\\\\\n",
    "0.29565465 & -0.86106738 & 2.09849705 & 0.67136912\\\\\n",
    "-0.42583356 & 0.58131019 & 0.33550322 & 0.86824497\\end{bmatrix} \\end{align}\n",
    "$$\n",
    "\n",
    "The matrices are given as numpy-arrays below."
   ]
  },
  {
   "cell_type": "code",
   "execution_count": 83,
   "metadata": {
    "collapsed": true
   },
   "outputs": [],
   "source": [
    "M1=np.array([[4.00554954, 0.01354906, 1.19192526, -1.27636247],\n",
    " [2.77659659, 1.49989982, 3.16264938, -2.48173559],\n",
    " [1.45212322, -0.48865181, 6.86559345, -1.8724586],\n",
    " [4.12225091, -0.92237257, 9.49381671, -2.37104281]])\n",
    "\n",
    "M2=np.array([[3.24192625, -0.39589781, 0.40929052, -0.45554814],\n",
    " [6.59991996, 4.40135399, -3.68378817, -2.75428419],\n",
    " [3.31265289, -0.99323334, 1.59642826, -1.05449113],\n",
    " [6.46753364, 2.21218758, -2.39903301, -1.33970849]])\n",
    "\n",
    "M3=np.array([[-21.9464225, -21.49193731, 33.04815917, 4.13526652],\n",
    " [31.71210475, 32.02995084, -45.84335947, -5.30095042],\n",
    " [36.26462491, 34.35183299, -50.24609045, -5.14242071],\n",
    " [-25.9162961, -24.95302837, 37.98407031, 6.16256212]])\n",
    "\n",
    "M4=np.array([[2.08819284, -0.60303119, 0.32787878, -0.08233684],\n",
    " [-0.76907073, 3.99506513, -0.08618573, -1.77753553],\n",
    " [0.29565465, -0.86106738, 2.09849705, 0.67136912],\n",
    " [-0.42583356, 0.58131019, 0.33550322, 0.86824497]])"
   ]
  },
  {
   "cell_type": "code",
   "execution_count": 90,
   "metadata": {
    "collapsed": true
   },
   "outputs": [],
   "source": [
    "def vector_iteration(A,eps=1e-10,max_iter=100):\n",
    "    \"\"\"Apply vector iteration to matrix A\n",
    "    \n",
    "    The algorithm iterates until a relative tolerance `eps` is reached,\n",
    "    and returns the ??? eigenvalue, corresponding eigenvector and the\n",
    "    number of iterations.\n",
    "    \n",
    "    Parameters\n",
    "    ----------\n",
    "    A : array(N,N)\n",
    "        input matrix\n",
    "    eps : float\n",
    "        realtive tolerance\n",
    "    max_iter : int\n",
    "        maximum number of iterations\n",
    "        \n",
    "    Returns\n",
    "    -------\n",
    "    w : float/complex\n",
    "        the ??? eigenvalue of A\n",
    "    v : array(N)\n",
    "        corresponding eigenvector for eigenvalue w\n",
    "    k : int\n",
    "        number of iterations\n",
    "    \"\"\"\n",
    "    \n",
    "    # initialize a starting vector\n",
    "    x = np.ones(len(A))\n",
    "    \n",
    "    # initialize a value for the realtive norm, the previous eigenvalue as well as the iteration counter\n",
    "    err = 10\n",
    "    counter = 0\n",
    "    lambda_prev = 1\n",
    "\n",
    "    while err > eps and counter < max_iter :\n",
    "                \n",
    "        # compute numerator\n",
    "        num = np.dot(A,x)\n",
    "        \n",
    "        # compute denominator\n",
    "        den = sum(abs(num)**2)**(1./2)\n",
    "        \n",
    "        # check sign\n",
    "        # Not needed, cause good: see https://de.wikipedia.org/wiki/Rayleigh-Quotient\n",
    "        \n",
    "        # compute recursion\n",
    "        x = num/den\n",
    "        \n",
    "        # update the relative norm\n",
    "        lambda_new = den;\n",
    "        err = abs(lambda_new - lambda_prev)/abs(lambda_prev)\n",
    "        \n",
    "        # increment the iteration counter\n",
    "        counter += 1\n",
    "        lambda_prev = lambda_new;\n",
    "        \n",
    "        # check if we exceed 75 iterations and write a message if it is the case\n",
    "        if counter > 75 :\n",
    "            print('Exceeded 75 iterations.')\n",
    "            \n",
    "        # DEBUGGING\n",
    "        #print(num)\n",
    "        #print(num)\n",
    "        #print(x)\n",
    "        #print()\n",
    "    # end loop\n",
    "    \n",
    "    eigenvalue = np.dot(x,np.dot(A,x))/np.dot(x,x)\n",
    "    eigenvector = x\n",
    "    iterations = counter\n",
    "    \n",
    "    return [eigenvalue, eigenvector, iterations, err]"
   ]
  },
  {
   "cell_type": "code",
   "execution_count": 92,
   "metadata": {},
   "outputs": [
    {
     "name": "stdout",
     "output_type": "stream",
     "text": [
      "[4.000000006767723, array([-0.55622662, -0.43458467,  0.52119876,  0.47968737]), 70, 9.635381363729208e-11]\n",
      "Exceeded 75 iterations.\n",
      "[4.0000000043482675, array([-0.51263192,  0.32656906, -0.78269758, -0.13396141]), 76, 7.533085257504564e-11]\n",
      "[-39.99999999955286, array([ 0.39076875, -0.5298475 , -0.612742  ,  0.43715975]), 12, 2.1623769442377138e-11]\n",
      "[3.9999999991408677, array([ 0.33873297, -0.84597746,  0.37836296, -0.16255332]), 34, 7.170797290047376e-11]\n"
     ]
    }
   ],
   "source": [
    "print(vector_iteration(M1))\n",
    "# w,v = np.linalg.eig(M1)\n",
    "# print(w,'\\n')\n",
    "\n",
    "print(vector_iteration(M2))\n",
    "# w,v = np.linalg.eig(M2)\n",
    "# print(w,'\\n')\n",
    "\n",
    "print(vector_iteration(M3))\n",
    "# w,v = np.linalg.eig(M3)\n",
    "# print(w,'\\n')\n",
    "\n",
    "print(vector_iteration(M4))\n",
    "# w,v = np.linalg.eig(M4)\n",
    "# print(w,'\\n')"
   ]
  },
  {
   "cell_type": "markdown",
   "metadata": {},
   "source": [
    "## FE-Matrices\n",
    "\n",
    "### Load the Matrices\n",
    "\n",
    "Load the system matrices.\n",
    "The matices are real, square and symmetric with dimension $3N \\times 3N$.\n",
    "The DoFs are arranged in the order $x_1, y_1, z_1, x_2, \\dots, z_N$ where $x_i$ denotes the x-displacement of node $i$."
   ]
  },
  {
   "cell_type": "code",
   "execution_count": null,
   "metadata": {
    "collapsed": true
   },
   "outputs": [],
   "source": [
    "M = mmread('Ms.mtx').toarray() # mass matrix\n",
    "K = mmread('Ks.mtx').toarray() # stiffness matrix\n",
    "X = mmread('X.mtx') # coodinate matrix with columns corresponding to x,y,z position of the nodes\n",
    "\n",
    "N = X.shape[0] # number of nodes"
   ]
  },
  {
   "cell_type": "markdown",
   "metadata": {},
   "source": [
    "The DoFs in the system matrices are arranged according to a regular grid of linear finite elements.\n",
    "In the following we determine the unique x, y, and z coodinates of the grid."
   ]
  },
  {
   "cell_type": "code",
   "execution_count": null,
   "metadata": {
    "collapsed": true
   },
   "outputs": [],
   "source": [
    "nprec = 6 # precision for finding uniqe values\n",
    "# get grid vectors (the unique vectors of the x,y,z coodinate-grid)\n",
    "x = np.unique(np.round(X[:,0],decimals=nprec))\n",
    "y = np.unique(np.round(X[:,1],decimals=nprec))\n",
    "z = np.unique(np.round(X[:,2],decimals=nprec))\n",
    "print('Nx =',len(x))\n",
    "print('Ny =',len(y))\n",
    "print('Nz =',len(z))\n",
    "# grid matrices\n",
    "Xg = np.reshape(X[:,0],[len(y),len(x),len(z)])\n",
    "Yg = np.reshape(X[:,1],[len(y),len(x),len(z)])\n",
    "Zg = np.reshape(X[:,2],[len(y),len(x),len(z)])\n",
    "# or equivalent: Xg,Yg,Zg  = np.meshgrid(x,y,z)"
   ]
  },
  {
   "cell_type": "markdown",
   "metadata": {},
   "source": [
    "### Plot the Geometry\n",
    "\n",
    "One can plot the location of the nodes, select subsets of nodes and plot them ..."
   ]
  },
  {
   "cell_type": "code",
   "execution_count": null,
   "metadata": {
    "collapsed": true
   },
   "outputs": [],
   "source": [
    "# plot the geometric points \n",
    "from mpl_toolkits.mplot3d import Axes3D\n",
    "fig,ax = plt.subplots(subplot_kw={'projection':'3d'})\n",
    "\n",
    "#sm = 0.1/mode.max()\n",
    "ax.scatter(X[:,0],X[:,1],X[:,2],s=10)\n",
    "ax.set_xlabel('x')\n",
    "ax.set_ylabel('y')\n",
    "ax.set_zlabel('z')\n",
    "\n",
    "# select nodes on the west-side, i.e. at x=x_min\n",
    "tol = 1e-12\n",
    "x_min = X[:,0].min()\n",
    "Nw = np.argwhere(np.abs(X[:,0]-x_min)<tol) # Node indices of West-Edge nodes\n",
    "\n",
    "# select node on North-East-Top corner\n",
    "Nnet = np.argwhere(np.all(np.abs(X-X.max(axis=0))<tol,axis=1))[0]\n",
    "\n",
    "ax.scatter(X[Nw,0],X[Nw,1],X[Nw,2],s=30,marker='x',label='West')\n",
    "ax.scatter(X[Nnet,0],X[Nnet,1],X[Nnet,2],s=30,marker='x',label='North-East-Top')\n",
    "ax.legend()"
   ]
  },
  {
   "cell_type": "markdown",
   "metadata": {},
   "source": [
    "### Solve a Static Problem\n",
    "\n",
    "Solve a static problem applying nodal forces to the North-East-Top corner and fixing all DoF at the West-Edge of the plate.\n",
    "\n",
    "We solve the system\n",
    "$$ K u = f $$\n",
    "for the displacements $u$.\n",
    "The system needs to be constrained, thus, we select nodes which will be removed from the system."
   ]
  },
  {
   "cell_type": "code",
   "execution_count": null,
   "metadata": {
    "collapsed": true
   },
   "outputs": [],
   "source": [
    "\n",
    "# because the dofs are ordered as x_1, y_1, z_1, x_2, ..., z_N in the global system, the x, y, and z dofs for node n are\n",
    "# located at position 3n, 3n+1, 3n+2.\n",
    "\n",
    "# indices of x, y, and z DoFs in the global system\n",
    "# can be used to get DoF-index in global system, e.g. for y of node n by Iy[n]\n",
    "Ix = np.arange(N)*3 # index of x-dofs\n",
    "Iy = np.arange(N)*3+1\n",
    "Iz = np.arange(N)*3+2\n",
    "\n",
    "# select which indices in the global system must be constrained\n",
    "If = np.array([Ix[Nw],Iy[Nw],Iz[Nw]]).ravel() # dof indices of fix constraint\n",
    "Ic = np.array([(i in If) for i in np.arange(3*N)]) # boolean array of constraind dofs\n",
    "\n",
    "# construct forcing vector\n",
    "f = np.zeros(3*N)\n",
    "f[Iz[Nnet]] = -1.0\n",
    "\n",
    "# compute the reduced system\n",
    "Kc = K[np.ix_(~Ic,~Ic)]\n",
    "fc = f[~Ic]\n",
    "\n",
    "# compute solution\n",
    "u = np.zeros(3*N) # initialize displacement vector\n",
    "\n",
    "# solve the linear system Kc*uc=fc\n",
    "uc = np.linalg.solve(Kc,fc)\n",
    "\n",
    "# sort solution in large vector\n",
    "u[~Ic] = uc"
   ]
  },
  {
   "cell_type": "code",
   "execution_count": null,
   "metadata": {
    "collapsed": true
   },
   "outputs": [],
   "source": [
    "# plot in 3D\n",
    "fig,ax = plt.subplots(subplot_kw={'projection':'3d'})\n",
    "\n",
    "#sm = 0.1/mode.max()\n",
    "ax.scatter(X[:,0],X[:,1],X[:,2],s=5,label='undeformed') # undeformed\n",
    "\n",
    "# format U like X\n",
    "U = np.array([u[Ix],u[Iy],u[Iz]]).T\n",
    "\n",
    "# scale factor for plotting\n",
    "s = 0.5/np.max(np.sqrt(np.sum(U**2,axis=0)))\n",
    "Xu = X + s*U # defomed configuration (displacement scaled by s)\n",
    "\n",
    "ax.scatter(Xu[:,0],Xu[:,1],Xu[:,2],c='g',label='deformed')\n",
    "ax.scatter(X[Nw,0],X[Nw,1],X[Nw,2],s=50,marker='x',label='constraint')\n",
    "ax.quiver(X[:,0],X[:,1],X[:,2],f[Ix],f[Iy],f[Iz],color='r',length=0.1,label='load')\n",
    "\n",
    "ax.set_xlabel('x')\n",
    "ax.set_ylabel('y')\n",
    "ax.set_zlabel('z')\n",
    "ax.legend()"
   ]
  },
  {
   "cell_type": "code",
   "execution_count": null,
   "metadata": {
    "collapsed": true
   },
   "outputs": [],
   "source": [
    "# plot in 2D (z-displacement of the top-nodes)\n",
    "\n",
    "# select nodes\n",
    "Nt = np.argwhere(np.abs(X[:,2]-X[:,2].max())<tol)\n",
    "# extract z-displacements\n",
    "uz = np.reshape(u[Iz[Nt]],[len(y),len(x)])\n",
    "\n",
    "lim = np.max(np.abs(uz)) # limit to center color legend around 0\n",
    "\n",
    "fig,ax = plt.subplots()\n",
    "cax = ax.contourf(x,y,uz,cmap=plt.get_cmap('RdBu_r'),vmin=-lim,vmax=lim)\n",
    "fig.colorbar(cax,extend='both')#,orientation='horizontal')\n",
    "ax.set_aspect('equal')\n",
    "ax.set_xlabel('x')\n",
    "ax.set_ylabel('y')"
   ]
  },
  {
   "cell_type": "markdown",
   "metadata": {},
   "source": [
    "### Submission Task 2: Compute eigenvalues and modeshapes\n",
    "\n",
    "#### All free\n",
    "In the first step, use the unconstrained system to compute the first 15 eigenmodes and plot them. In order to compute only the first $k$ modes use the code\n",
    "\n",
    "```\n",
    "# only compute a subset of modes\n",
    "from scipy.linalg import eigh\n",
    "k = 15\n",
    "W,V = eigh(K,M,eigvals=(0,k))\n",
    "``` \n",
    "for the plots of the eigenmodes you can use the function given below."
   ]
  },
  {
   "cell_type": "code",
   "execution_count": null,
   "metadata": {
    "collapsed": true
   },
   "outputs": [],
   "source": [
    "def plotmodes(V) :\n",
    "    for i,v in enumerate(V.T) : # iterate over eigenvectors\n",
    "        c = np.reshape(v[Iz[Nt]],[len(y),len(x)])\n",
    "        lim = np.max(np.abs(c))\n",
    "        fig,ax = plt.subplots(figsize=[3.5,2])\n",
    "        ax.contourf(x,y,c,cmap=plt.get_cmap('RdBu'),vmin=-lim,vmax=lim)\n",
    "        ax.set_aspect('equal')\n",
    "        ax.set_title('Mode %i @ %f Hz'%(i+1,sqrt(W[i])/2/pi))\n",
    "        ax.set_xticks([])\n",
    "        ax.set_yticks([])\n",
    "        fig.tight_layout()"
   ]
  },
  {
   "cell_type": "code",
   "execution_count": null,
   "metadata": {
    "collapsed": true
   },
   "outputs": [],
   "source": []
  },
  {
   "cell_type": "markdown",
   "metadata": {},
   "source": [
    "#### Short side clamped\n",
    "In the next step constrain the nodes of the short edge on the north-west side ($Nw$), compute the first 15 eigenmodes and plot them like in the previous task."
   ]
  },
  {
   "cell_type": "code",
   "execution_count": null,
   "metadata": {
    "collapsed": true
   },
   "outputs": [],
   "source": []
  },
  {
   "cell_type": "markdown",
   "metadata": {},
   "source": [
    "#### Clamped edges\n",
    "In the last step all edges of the plate should be clamped ($Nn,No,Ns,Nw$). Compute the first 15 eigenmodes and plot them like in the previous tasks."
   ]
  },
  {
   "cell_type": "code",
   "execution_count": null,
   "metadata": {
    "collapsed": true
   },
   "outputs": [],
   "source": []
  }
 ],
 "metadata": {
  "kernelspec": {
   "display_name": "Python 3.7.6 64-bit ('anaconda3': conda)",
   "language": "python",
   "name": "python37664bitanaconda3conda4bf463ce55c34f338d20d58049f9186f"
  },
  "language_info": {
   "codemirror_mode": {
    "name": "ipython",
    "version": 2
   },
   "file_extension": ".py",
   "mimetype": "text/x-python",
   "name": "python",
   "nbconvert_exporter": "python",
   "pygments_lexer": "ipython2",
   "version": "3.7.6-final"
  }
 },
 "nbformat": 4,
 "nbformat_minor": 2
}