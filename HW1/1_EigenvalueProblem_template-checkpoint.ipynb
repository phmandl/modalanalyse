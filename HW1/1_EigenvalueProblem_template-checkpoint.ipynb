{
 "cells": [
  {
   "cell_type": "markdown",
   "metadata": {},
   "source": [
    "# 1 | Eigenvalue Problem"
   ]
  },
  {
   "cell_type": "code",
   "execution_count": 1,
   "metadata": {
    "collapsed": true
   },
   "outputs": [],
   "source": [
    "import numpy as np\n",
    "from scipy.io import mminfo,mmread\n",
    "import matplotlib.pyplot as plt\n",
    "%matplotlib inline\n",
    "\n",
    "from numpy.linalg import inv, eig\n",
    "from numpy import sqrt, dot, sum, abs, diag, array"
   ]
  },
  {
   "cell_type": "markdown",
   "metadata": {},
   "source": [
    "## Eigenvalue Problems\n",
    "\n",
    "In order to test different algorithms to compute eigenvalues we use a 4x4 matrix with eigenvalues 1, 2, 3, and 4.\n",
    "It is constructed as \n",
    "$$ A = S D S^{-1} $$\n",
    "where $D$ is a diagonal matrix containing the EVs."
   ]
  },
  {
   "cell_type": "code",
   "execution_count": 2,
   "metadata": {},
   "outputs": [
    {
     "data": {
      "text/plain": [
       "(array([1, 2, 3, 4]),\n",
       " array([[-0.16595599,  0.44064899, -0.99977125, -0.39533485],\n",
       "        [-0.70648822, -0.81532281, -0.62747958, -0.30887855],\n",
       "        [-0.20646505,  0.07763347, -0.16161097,  0.370439  ],\n",
       "        [-0.5910955 ,  0.75623487, -0.94522481,  0.34093502]]),\n",
       " array([[ 4.00554954,  0.01354906,  1.19192526, -1.27636247],\n",
       "        [ 2.77659659,  1.49989982,  3.16264938, -2.48173559],\n",
       "        [ 1.45212322, -0.48865181,  6.86559345, -1.8724586 ],\n",
       "        [ 4.12225091, -0.92237257,  9.49381671, -2.37104281]]))"
      ]
     },
     "execution_count": 2,
     "metadata": {},
     "output_type": "execute_result"
    }
   ],
   "source": [
    "np.random.seed(1)\n",
    "D = np.array([1, 2, 3, 4]) # EIGENVALUES\n",
    "S = (np.random.rand(len(D),len(D)) - 0.5)*2 # compute a random matrix with entries between -1 and 1\n",
    "A = np.dot(np.dot(S,np.diag(D)),inv(S)) # S*D*S^-1, computes a unitary similar matrix of D having the same EVs\n",
    "D,S,A"
   ]
  },
  {
   "cell_type": "markdown",
   "metadata": {},
   "source": [
    "### Vector Interation\n",
    "\n",
    "* also known as power method, power iteration, or von Mises iteration\n",
    "* yields largest (in magnitude) eigenvalue and corresponding eigenvector\n",
    "* converges baldy if $\\lambda_n/\\lambda_{n-1} \\approx 1$, i.e. the second largest EV is almost the same size as the largest\n",
    "\n",
    "Use the recursion\n",
    "$$ b_{k+1} = \\frac{A b_k}{\\lVert A b_k \\rVert}$$\n",
    "\n",
    "where $b_k$ converges to the eigenvector and ${\\lVert A b_k \\rVert}$ to the eigenvalue.\n",
    "\n",
    "Hint: Depending on the eigenvalue the method might not converge to one fixed value. Try to implement a workaround in order to deal with the problem!"
   ]
  },
  {
   "cell_type": "code",
   "execution_count": 3,
   "metadata": {},
   "outputs": [
    {
     "name": "stdout",
     "output_type": "stream",
     "text": [
      "('Current evaluation', 0, '-->', 13.494287075225776)\n",
      "('Current evaluation', 1, '-->', 3.8923421594465708)\n",
      "('Current evaluation', 2, '-->', 3.6145528266312068)\n",
      "('Current evaluation', 3, '-->', 3.6549104993641857)\n",
      "('Current evaluation', 4, '-->', 3.7627045452084356)\n",
      "('Current evaluation', 5, '-->', 3.8629753124877491)\n",
      "('Current evaluation', 6, '-->', 3.9335469962764376)\n",
      "('Current evaluation', 7, '-->', 3.9756135798852545)\n",
      "('Current evaluation', 8, '-->', 3.9976324227962592)\n",
      "('Current evaluation', 9, '-->', 4.0076179829285055)\n",
      "\n",
      "Largest eigenvalue found:\n",
      "4.0\n",
      "\n",
      "Corresponding eigenvecotor found:\n",
      "[-0.5 -0.4  0.5  0.6]\n"
     ]
    },
    {
     "data": {
      "image/png": "[encoded data removed]",
      "text/plain": [
       "<matplotlib.figure.Figure at 0x95a8940>"
      ]
     },
     "metadata": {},
     "output_type": "display_data"
    }
   ],
   "source": [
    "# eigenVal = vector_iter(A,10)\n",
    "\n",
    "x = np.ones(len(A)) # one can start with any vector\n",
    "    \n",
    "for i in range(10) :\n",
    "    # compute numerator\n",
    "    num = np.dot(A,x)\n",
    "\n",
    "    # compute denominator\n",
    "    den = sum(abs(num)**2)**(1./2)\n",
    "    #eigenVal = np.linalg.norm(num,2)\n",
    "\n",
    "    # compute recursion\n",
    "    x = num/den\n",
    "    \n",
    "    # plot the intermediate results (DEBUGGING)\n",
    "    print('Current evaluation',i,'-->',den)\n",
    "    plt.scatter(i, den)\n",
    "\n",
    "print('\\nLargest eigenvalue found:')\n",
    "print(np.round_(den, decimals=1, out=None))\n",
    "\n",
    "print('\\nCorresponding eigenvecotor found:')\n",
    "print(np.round_(x, decimals=1, out=None))"
   ]
  },
  {
   "cell_type": "markdown",
   "metadata": {},
   "source": [
    "### Inverse Vector Iteration\n",
    "\n",
    "If $\\lambda$ is an eigenvalue of $A$, then $1/\\lambda$ is an eigenvalue of $A^{-1}$.\n",
    "Thus, we can do vector iteration on the inverse $A^{-1}$ to find the Eigenvalue with the smallest magnitude.\n",
    "Thus, we have to compute the recursion\n",
    "$$ y_k = A^{-1} x_k $$\n",
    "which can be done by pre-factorising $A = LU$."
   ]
  },
  {
   "cell_type": "code",
   "execution_count": 4,
   "metadata": {},
   "outputs": [
    {
     "name": "stdout",
     "output_type": "stream",
     "text": [
      "('Current evaluation', 0, '-->', 0.55836552863104616)\n",
      "('Current evaluation', 1, '-->', 0.62075444403873536)\n",
      "('Current evaluation', 2, '-->', 0.88725864426406709)\n",
      "('Current evaluation', 3, '-->', 0.96329027558652214)\n",
      "('Current evaluation', 4, '-->', 0.98754044784617856)\n",
      "('Current evaluation', 5, '-->', 0.99567029274364294)\n",
      "('Current evaluation', 6, '-->', 0.99846645987300786)\n",
      "('Current evaluation', 7, '-->', 0.99944539405798749)\n",
      "('Current evaluation', 8, '-->', 0.99979421260456425)\n",
      "('Current evaluation', 9, '-->', 0.99992120254905736)\n",
      "\n",
      "Largest eigenvalue found:\n",
      "1.0\n",
      "\n",
      "Corresponding eigenvecotor found:\n",
      "[-0.2 -0.7 -0.2 -0.6]\n"
     ]
    },
    {
     "data": {
      "image/png": "[encoded data removed]",
      "text/plain": [
       "<matplotlib.figure.Figure at 0x9845358>"
      ]
     },
     "metadata": {},
     "output_type": "display_data"
    }
   ],
   "source": [
    "# TODO: implement own LU pre-factorising\n",
    "# eigenVal = vector_iter(inv(A),10)'\n",
    "\n",
    "x = np.ones(len(A)) # one can start with any vector\n",
    "    \n",
    "for i in range(10) :\n",
    "    # compute numerator\n",
    "    num = np.dot(inv(A),x)\n",
    "\n",
    "    # compute denominator\n",
    "    den = sum(abs(num)**2)**(1./2)\n",
    "\n",
    "    # compute recursion\n",
    "    x = num/den\n",
    "\n",
    "    # plot the intermediate results\n",
    "    print('Current evaluation',i,'-->',1/den)\n",
    "    plt.scatter(i, den)\n",
    "\n",
    "print('\\nLargest eigenvalue found:')\n",
    "print(np.round_(1/den, decimals=1, out=None))\n",
    "\n",
    "print('\\nCorresponding eigenvecotor found:')\n",
    "print(np.round_(x, decimals=1, out=None))"
   ]
  },
  {
   "cell_type": "markdown",
   "metadata": {},
   "source": [
    "### Inverse Vector Iteration with Shift\n",
    "\n",
    "If $\\lambda$ is an eigenvalue of $A$ then $\\lambda-\\sigma$ is an eigenvalue of $A-\\sigma I$.\n",
    "The eigenvalue of the inverse $(A-\\sigma I)^{-1} = B$ will be $\\mu = \\frac{1}{\\lambda-\\sigma}$.\n",
    "Thus, if $\\lambda\\approx\\sigma$, vector iteration with B will yield the smallest (in magnitude) EV of A.\n",
    "\n",
    "The iteration rule is then\n",
    "$$ b_{k+1} = (A - \\sigma I)^{-1} b_k \\text{ or } (A - \\sigma I) b_{k+1} = b_k $$\n",
    "\n",
    "The series converges to the same eigenvectors, the eigenvalues $\\mu$ are related to the original ones $\\lambda$ via\n",
    "$$ \\lambda = \\sigma + \\frac{1}{\\mu}$$\n",
    "\n",
    "* $\\sigma$ is called the shift point\n",
    "* a linear system has to be solved in each step\n",
    "* for a constant shift point the solution of the linear system corresponds to a matrix multiplication\n",
    "\n",
    "> If you shift to exactly one eigenvalue $A-\\sigma I$ becomes ill-conditioned!"
   ]
  },
  {
   "cell_type": "code",
   "execution_count": 5,
   "metadata": {},
   "outputs": [
    {
     "name": "stdout",
     "output_type": "stream",
     "text": [
      "('Current evaluation', 0, '-->', 2.3565113390406531)\n",
      "('Current evaluation', 1, '-->', 1.9949654524961131)\n",
      "('Current evaluation', 2, '-->', 2.0039324040401469)\n",
      "('Current evaluation', 3, '-->', 1.9994367943829858)\n",
      "('Current evaluation', 4, '-->', 2.0002598041227637)\n",
      "('Current evaluation', 5, '-->', 1.9998888391860401)\n",
      "('Current evaluation', 6, '-->', 2.0000431417548095)\n",
      "('Current evaluation', 7, '-->', 1.9999800088866169)\n",
      "('Current evaluation', 8, '-->', 2.0000080976247667)\n",
      "('Current evaluation', 9, '-->', 1.999996401973084)\n",
      "\n",
      "Eigenvalue found:\n",
      "2.0\n",
      "\n",
      "Corresponding eigenvecotor found:\n",
      "[-0.37  0.68 -0.06 -0.63]\n"
     ]
    },
    {
     "data": {
      "image/png": "[encoded data removed]",
      "text/plain": [
       "<matplotlib.figure.Figure at 0x9203c50>"
      ]
     },
     "metadata": {},
     "output_type": "display_data"
    }
   ],
   "source": [
    "# choose shift point\n",
    "sig = 1.7\n",
    "B = inv(A-sig*np.diag(np.ones_like(D)))\n",
    "\n",
    "#y = np.dot(Binv,np.ones_like(D)) # start value\n",
    "x = np.ones(len(D))\n",
    "for i in range(10) :\n",
    "    # compute update\n",
    "    num = np.dot(B,x)\n",
    "\n",
    "    # compute denominator\n",
    "    den = sum(abs(num)**2)**(1./2)\n",
    "    \n",
    "    # compute recursion\n",
    "    x = num/den\n",
    "    \n",
    "    # Check sign\n",
    "    eigV = np.dot(np.transpose(x),np.dot(B,x))/np.dot(np.transpose(x),x)\n",
    "    \n",
    "    # update lambda\n",
    "    lamb = sig + 1/eigV\n",
    "    \n",
    "    # do fancy plot\n",
    "    plt.scatter(i, lamb)\n",
    "    \n",
    "    # display some stuff & plot fancy\n",
    "    print('Current evaluation',i,'-->',lamb)\n",
    "    plt.scatter(i, lamb, marker='o')\n",
    "    \n",
    "\n",
    "print('\\nEigenvalue found:')\n",
    "print(np.round(sig+1/eigV, 2, out=None))\n",
    "\n",
    "print('\\nCorresponding eigenvecotor found:')\n",
    "print(np.round_(x, decimals=2, out=None))"
   ]
  },
  {
   "cell_type": "markdown",
   "metadata": {},
   "source": [
    "### Rayleigh Quotient Iteration\n",
    "\n",
    "Do (inverse) vector iteration but, adapt the shift point in every iteration."
   ]
  },
  {
   "cell_type": "code",
   "execution_count": 6,
   "metadata": {},
   "outputs": [
    {
     "name": "stdout",
     "output_type": "stream",
     "text": [
      "('Current evaluation', 0, '-->', 0.95684950009081671)\n",
      "('Current evaluation', 1, '-->', 1.0079917752707206)\n",
      "('Current evaluation', 2, '-->', 0.99995414092371215)\n",
      "('Current evaluation', 3, '-->', 0.99999999868427225)\n",
      "('Current evaluation', 4, '-->', 1.0000000000000009)\n"
     ]
    },
    {
     "ename": "LinAlgError",
     "evalue": "Singular matrix",
     "output_type": "error",
     "traceback": [
      "\u001b[1;31m\u001b[0m",
      "\u001b[1;31mLinAlgError\u001b[0mTraceback (most recent call last)",
      "\u001b[1;32m<ipython-input-6-ecd0a6ff931d>\u001b[0m in \u001b[0;36m<module>\u001b[1;34m()\u001b[0m\n\u001b[0;32m     23\u001b[0m     \u001b[1;31m# update shift point\u001b[0m\u001b[1;33m\u001b[0m\u001b[1;33m\u001b[0m\u001b[0m\n\u001b[0;32m     24\u001b[0m     \u001b[0msig\u001b[0m\u001b[1;33m=\u001b[0m\u001b[0mnp\u001b[0m\u001b[1;33m.\u001b[0m\u001b[0mdot\u001b[0m\u001b[1;33m(\u001b[0m\u001b[0mnp\u001b[0m\u001b[1;33m.\u001b[0m\u001b[0mtranspose\u001b[0m\u001b[1;33m(\u001b[0m\u001b[0mx\u001b[0m\u001b[1;33m)\u001b[0m\u001b[1;33m,\u001b[0m\u001b[0mnp\u001b[0m\u001b[1;33m.\u001b[0m\u001b[0mdot\u001b[0m\u001b[1;33m(\u001b[0m\u001b[0mA\u001b[0m\u001b[1;33m,\u001b[0m\u001b[0mx\u001b[0m\u001b[1;33m)\u001b[0m\u001b[1;33m)\u001b[0m\u001b[1;33m/\u001b[0m\u001b[0mnp\u001b[0m\u001b[1;33m.\u001b[0m\u001b[0mdot\u001b[0m\u001b[1;33m(\u001b[0m\u001b[0mnp\u001b[0m\u001b[1;33m.\u001b[0m\u001b[0mtranspose\u001b[0m\u001b[1;33m(\u001b[0m\u001b[0mx\u001b[0m\u001b[1;33m)\u001b[0m\u001b[1;33m,\u001b[0m\u001b[0mx\u001b[0m\u001b[1;33m)\u001b[0m\u001b[1;33m\u001b[0m\u001b[0m\n\u001b[1;32m---> 25\u001b[1;33m     \u001b[0mB\u001b[0m \u001b[1;33m=\u001b[0m \u001b[0minv\u001b[0m\u001b[1;33m(\u001b[0m\u001b[0mA\u001b[0m\u001b[1;33m-\u001b[0m\u001b[0msig\u001b[0m\u001b[1;33m*\u001b[0m\u001b[0mnp\u001b[0m\u001b[1;33m.\u001b[0m\u001b[0mdiag\u001b[0m\u001b[1;33m(\u001b[0m\u001b[0mnp\u001b[0m\u001b[1;33m.\u001b[0m\u001b[0mones_like\u001b[0m\u001b[1;33m(\u001b[0m\u001b[0mD\u001b[0m\u001b[1;33m)\u001b[0m\u001b[1;33m)\u001b[0m\u001b[1;33m)\u001b[0m\u001b[1;33m\u001b[0m\u001b[0m\n\u001b[0m\u001b[0;32m     26\u001b[0m \u001b[1;33m\u001b[0m\u001b[0m\n\u001b[0;32m     27\u001b[0m     \u001b[1;31m# display some stuff & plot fancy\u001b[0m\u001b[1;33m\u001b[0m\u001b[1;33m\u001b[0m\u001b[0m\n",
      "\u001b[1;32mC:\\Users\\c4mrich\\Anaconda2\\lib\\site-packages\\numpy\\linalg\\linalg.pyc\u001b[0m in \u001b[0;36minv\u001b[1;34m(a)\u001b[0m\n\u001b[0;32m    524\u001b[0m     \u001b[0msignature\u001b[0m \u001b[1;33m=\u001b[0m \u001b[1;34m'D->D'\u001b[0m \u001b[1;32mif\u001b[0m \u001b[0misComplexType\u001b[0m\u001b[1;33m(\u001b[0m\u001b[0mt\u001b[0m\u001b[1;33m)\u001b[0m \u001b[1;32melse\u001b[0m \u001b[1;34m'd->d'\u001b[0m\u001b[1;33m\u001b[0m\u001b[0m\n\u001b[0;32m    525\u001b[0m     \u001b[0mextobj\u001b[0m \u001b[1;33m=\u001b[0m \u001b[0mget_linalg_error_extobj\u001b[0m\u001b[1;33m(\u001b[0m\u001b[0m_raise_linalgerror_singular\u001b[0m\u001b[1;33m)\u001b[0m\u001b[1;33m\u001b[0m\u001b[0m\n\u001b[1;32m--> 526\u001b[1;33m     \u001b[0mainv\u001b[0m \u001b[1;33m=\u001b[0m \u001b[0m_umath_linalg\u001b[0m\u001b[1;33m.\u001b[0m\u001b[0minv\u001b[0m\u001b[1;33m(\u001b[0m\u001b[0ma\u001b[0m\u001b[1;33m,\u001b[0m \u001b[0msignature\u001b[0m\u001b[1;33m=\u001b[0m\u001b[0msignature\u001b[0m\u001b[1;33m,\u001b[0m \u001b[0mextobj\u001b[0m\u001b[1;33m=\u001b[0m\u001b[0mextobj\u001b[0m\u001b[1;33m)\u001b[0m\u001b[1;33m\u001b[0m\u001b[0m\n\u001b[0m\u001b[0;32m    527\u001b[0m     \u001b[1;32mreturn\u001b[0m \u001b[0mwrap\u001b[0m\u001b[1;33m(\u001b[0m\u001b[0mainv\u001b[0m\u001b[1;33m.\u001b[0m\u001b[0mastype\u001b[0m\u001b[1;33m(\u001b[0m\u001b[0mresult_t\u001b[0m\u001b[1;33m,\u001b[0m \u001b[0mcopy\u001b[0m\u001b[1;33m=\u001b[0m\u001b[0mFalse\u001b[0m\u001b[1;33m)\u001b[0m\u001b[1;33m)\u001b[0m\u001b[1;33m\u001b[0m\u001b[0m\n\u001b[0;32m    528\u001b[0m \u001b[1;33m\u001b[0m\u001b[0m\n",
      "\u001b[1;32mC:\\Users\\c4mrich\\Anaconda2\\lib\\site-packages\\numpy\\linalg\\linalg.pyc\u001b[0m in \u001b[0;36m_raise_linalgerror_singular\u001b[1;34m(err, flag)\u001b[0m\n\u001b[0;32m     88\u001b[0m \u001b[1;33m\u001b[0m\u001b[0m\n\u001b[0;32m     89\u001b[0m \u001b[1;32mdef\u001b[0m \u001b[0m_raise_linalgerror_singular\u001b[0m\u001b[1;33m(\u001b[0m\u001b[0merr\u001b[0m\u001b[1;33m,\u001b[0m \u001b[0mflag\u001b[0m\u001b[1;33m)\u001b[0m\u001b[1;33m:\u001b[0m\u001b[1;33m\u001b[0m\u001b[0m\n\u001b[1;32m---> 90\u001b[1;33m     \u001b[1;32mraise\u001b[0m \u001b[0mLinAlgError\u001b[0m\u001b[1;33m(\u001b[0m\u001b[1;34m\"Singular matrix\"\u001b[0m\u001b[1;33m)\u001b[0m\u001b[1;33m\u001b[0m\u001b[0m\n\u001b[0m\u001b[0;32m     91\u001b[0m \u001b[1;33m\u001b[0m\u001b[0m\n\u001b[0;32m     92\u001b[0m \u001b[1;32mdef\u001b[0m \u001b[0m_raise_linalgerror_nonposdef\u001b[0m\u001b[1;33m(\u001b[0m\u001b[0merr\u001b[0m\u001b[1;33m,\u001b[0m \u001b[0mflag\u001b[0m\u001b[1;33m)\u001b[0m\u001b[1;33m:\u001b[0m\u001b[1;33m\u001b[0m\u001b[0m\n",
      "\u001b[1;31mLinAlgError\u001b[0m: Singular matrix"
     ]
    },
    {
     "data": {
      "image/png": "[encoded data removed]",
      "text/plain": [
       "<matplotlib.figure.Figure at 0x960f080>"
      ]
     },
     "metadata": {},
     "output_type": "display_data"
    }
   ],
   "source": [
    "#y = np.dot(Binv,np.ones_like(D)) # start value\n",
    "sig = 1.2\n",
    "B = inv(A-sig*np.diag(np.ones_like(D)))\n",
    "x = np.ones(len(D))\n",
    "\n",
    "for i in range(10) :\n",
    "   \n",
    "    # compute update\n",
    "    num = np.dot(B,x)\n",
    "\n",
    "    # compute denominator\n",
    "    den = sum(abs(num)**2)**(1./2)\n",
    "\n",
    "    # compute recursion\n",
    "    x = num/den\n",
    "    \n",
    "    # Check sign\n",
    "    eigV = np.dot(np.transpose(x),np.dot(B,x))/np.dot(np.transpose(x),x)\n",
    "    \n",
    "    # update lambda\n",
    "    lamb = sig + 1/eigV\n",
    "    \n",
    "    # update shift point\n",
    "    sig=np.dot(np.transpose(x),np.dot(A,x))/np.dot(np.transpose(x),x)\n",
    "    B = inv(A-sig*np.diag(np.ones_like(D)))\n",
    "    \n",
    "    # display some stuff & plot fancy\n",
    "    print('Current evaluation',i,'-->',lamb)\n",
    "    plt.scatter(i, lamb, marker='o')\n",
    "\n",
    "print('\\nEigenvalue found:')\n",
    "print(np.round(lamb, 2, out=None))\n",
    "\n",
    "print('\\nCorresponding eigenvector found:')\n",
    "print(np.round_(x, decimals=2, out=None))"
   ]
  },
  {
   "cell_type": "markdown",
   "metadata": {},
   "source": [
    "### QR Algorithm\n",
    "One can ompute all eigenvalues at once using the QR-Algorithm:\n",
    "Compute the QR decomposition of $A$, i.e.\n",
    "$$ A_k = Q_k R_k $$\n",
    "and then apply the iteration rule\n",
    "$$ A_{k+1} = R_k Q_k $$\n",
    "which converges to upper diagonal form with the eigenvalues of $A$ in the diagonal.\n",
    "\n",
    "> Can you compute the eigenvectors once the eigenvalues are known?\n",
    "\n",
    "Yes! \n",
    "1. Through shifted vector iteration, using the now known eigenvalues.\n",
    "2. Or with $$ Q = \\Pi_{k=1} Q_k $$\n"
   ]
  },
  {
   "cell_type": "code",
   "execution_count": 88,
   "metadata": {
    "collapsed": true
   },
   "outputs": [],
   "source": [
    "def eigQR(A, maxIter = 100):\n",
    "    \"\"\" Returns eigenvalues of matrix A using the QR decomposition as a list [lambda1, ..., lambdaN].\n",
    "        Also returns normalized eigenvectors as column vectors aranged into an array [v1, ..., vN]\n",
    "\n",
    "    \"\"\"\n",
    "    U = A\n",
    "    \n",
    "    # compute eigenvalues and eigenvectors\n",
    "    eigenVecs = np.eye(U.shape[0]) # initialize identity matrix \n",
    "    \n",
    "    for k in range(maxIter):\n",
    "        \n",
    "        Q,R = np.linalg.qr(U) # QR decomposition of matrix A\n",
    "        U = R @ Q # @ operator for matrix multiplication\n",
    "        eigenVecs = eigenVecs @ Q # compute eigenvector matrix Q = Q_0*Q_1*...*Q_maxIter\n",
    "    \n",
    "    return eigenVals, eigenVecs\n"
   ]
  },
  {
   "cell_type": "code",
   "execution_count": 91,
   "metadata": {},
   "outputs": [
    {
     "name": "stdout",
     "output_type": "stream",
     "text": [
      "Our QR-algorithm solver:\n",
      "[1. 2. 3. 4.]\n",
      "[[-0.556  0.561 -0.45  -0.416]\n",
      " [-0.435  0.336  0.823  0.143]\n",
      " [ 0.521  0.21   0.322 -0.762]\n",
      " [ 0.48   0.727 -0.126  0.475]]\n",
      "Numpy reference solver:\n",
      "[1. 4. 3. 2.]\n",
      "[[ 0.173 -0.556 -0.657  0.368]\n",
      " [ 0.737 -0.435 -0.413 -0.68 ]\n",
      " [ 0.215  0.521 -0.106  0.065]\n",
      " [ 0.617  0.48  -0.622  0.631]]\n"
     ]
    }
   ],
   "source": [
    "# test our solver\n",
    "eigenVals, eigenVecs = eigQR(A) \n",
    "sigDigits = 3\n",
    "print(\"Our QR-algorithm solver:\")\n",
    "print(np.round(eigenVals,sigDigits))\n",
    "print(np.round(eigenVecs,sigDigits))\n",
    "\n",
    "# numpy reference solver \n",
    "w,v = np.linalg.eig(A)\n",
    "print(\"Numpy reference solver:\")\n",
    "print(np.round(w,sigDigits))\n",
    "print(np.round(v,sigDigits))"
   ]
  },
  {
   "cell_type": "markdown",
   "metadata": {},
   "source": [
    "### Subspace Iteration\n",
    "\n",
    "Compute an orthonormal basis $X \\in \\mathbb{C}^{n\\times p}$ of $p$ vectors and use it in the iteration\n",
    "$$ {Z}_{k+1} = {A}{X}_k$$\n",
    "where \n",
    "$$ {X}_k{R}_k = {Z}_k $$\n",
    "is the QR factorization of $Z_k$.\n",
    "\n",
    "The largest (in magnitude) eigenvalues appear in the diagonal of $R_k$."
   ]
  },
  {
   "cell_type": "code",
   "execution_count": null,
   "metadata": {
    "collapsed": true
   },
   "outputs": [],
   "source": [
    "p = 2 # subspace size -> compute p eigenvalues\n",
    "\n",
    "# random starting basis\n",
    "X = np.random.rand(len(D),p)\n",
    "V = X\n",
    "\n",
    "# apply the Gram-Schmid process to orthonormalize\n",
    "for i in range(X.shape[-1]) :\n",
    "    pass\n",
    "\n",
    "# perform subspace iterations\n",
    "for i in range(10) :\n",
    "    pass"
   ]
  },
  {
   "cell_type": "markdown",
   "metadata": {},
   "source": [
    "### Submission Task 1: Function for Vector Iteration\n",
    "\n",
    "Write a function for the vector iteration as well as the iteration for higher eigenvalues using the call-signature given below. \n",
    "\n",
    "The function `vector_iteration` takes a matrix $A$ as an input. The function should iterate until the relative norm of the update is smaller than a defined tolerance $\\epsilon$, i.e. until \n",
    "$$ \\frac{\\lVert\\lambda_{k+1}-\\lambda_{k}\\rVert}{\\lVert\\lambda_{k}\\rVert} < \\epsilon $$\n",
    "\n",
    "In case of non-convergence after a maximum number of iterations, the function should terminate with a warning.\n",
    "The function should return the eigenvalue, the corresponding eigenvector as well as the number of iterations. Use the call signature give below, which already contains useful default values for tolerance and maximum number of iterations.\n",
    "\n",
    "In order to test your function apply use the four matrices\n",
    "\n",
    "$$ \\begin{align} M_1 &= \\begin{bmatrix} 4.00554954 & 0.01354906 & 1.19192526 & -1.27636247\\\\\n",
    "2.77659659 & 1.49989982 & 3.16264938 & -2.48173559\\\\\n",
    "1.45212322 & -0.48865181 & 6.86559345 & -1.8724586\\\\\n",
    "4.12225091 & -0.92237257 & 9.49381671 & -2.37104281 \\end{bmatrix} \\\\ M_2 &= \\begin{bmatrix} 3.24192625 & -0.39589781 & 0.40929052 & -0.45554814\\\\\n",
    "6.59991996 & 4.40135399 & -3.68378817 & -2.75428419\\\\\n",
    "3.31265289 & -0.99323334 & 1.59642826 & -1.05449113\\\\\n",
    "6.46753364 & 2.21218758 & -2.39903301 & -1.33970849 \\end{bmatrix} \\\\ M_3 &= \\begin{bmatrix} -21.9464225 & -21.49193731 & 33.04815917 & 4.13526652\\\\\n",
    "31.71210475 & 32.02995084 & -45.84335947 & -5.30095042\\\\\n",
    "36.26462491 & 34.35183299 & -50.24609045 & -5.14242071\\\\\n",
    "-25.9162961 & -24.95302837 & 37.98407031 & 6.16256212\\end{bmatrix} \\\\ M_4 &= \\begin{bmatrix} 2.08819284 & -0.60303119 & 0.32787878 & -0.08233684\\\\\n",
    "-0.76907073 & 3.99506513 & -0.08618573 & -1.77753553\\\\\n",
    "0.29565465 & -0.86106738 & 2.09849705 & 0.67136912\\\\\n",
    "-0.42583356 & 0.58131019 & 0.33550322 & 0.86824497\\end{bmatrix} \\end{align}, $$\n",
    "\n",
    "The matrices are given as numpy-arrays below."
   ]
  },
  {
   "cell_type": "code",
   "execution_count": 83,
   "metadata": {
    "collapsed": true
   },
   "outputs": [],
   "source": [
    "M1=np.array([[4.00554954, 0.01354906, 1.19192526, -1.27636247],\n",
    " [2.77659659, 1.49989982, 3.16264938, -2.48173559],\n",
    " [1.45212322, -0.48865181, 6.86559345, -1.8724586],\n",
    " [4.12225091, -0.92237257, 9.49381671, -2.37104281]])\n",
    "\n",
    "M2=np.array([[3.24192625, -0.39589781, 0.40929052, -0.45554814],\n",
    " [6.59991996, 4.40135399, -3.68378817, -2.75428419],\n",
    " [3.31265289, -0.99323334, 1.59642826, -1.05449113],\n",
    " [6.46753364, 2.21218758, -2.39903301, -1.33970849]])\n",
    "\n",
    "M3=np.array([[-21.9464225, -21.49193731, 33.04815917, 4.13526652],\n",
    " [31.71210475, 32.02995084, -45.84335947, -5.30095042],\n",
    " [36.26462491, 34.35183299, -50.24609045, -5.14242071],\n",
    " [-25.9162961, -24.95302837, 37.98407031, 6.16256212]])\n",
    "\n",
    "M4=np.array([[2.08819284, -0.60303119, 0.32787878, -0.08233684],\n",
    " [-0.76907073, 3.99506513, -0.08618573, -1.77753553],\n",
    " [0.29565465, -0.86106738, 2.09849705, 0.67136912],\n",
    " [-0.42583356, 0.58131019, 0.33550322, 0.86824497]])"
   ]
  },
  {
   "cell_type": "code",
   "execution_count": 90,
   "metadata": {
    "collapsed": true
   },
   "outputs": [],
   "source": [
    "def vector_iteration(A,eps=1e-10,max_iter=100):\n",
    "    \"\"\"Apply vector iteration to matrix A\n",
    "    \n",
    "    The algorithm iterates until a relative tolerance `eps` is reached,\n",
    "    and returns the ??? eigenvalue, corresponding eigenvector and the\n",
    "    number of iterations.\n",
    "    \n",
    "    Parameters\n",
    "    ----------\n",
    "    A : array(N,N)\n",
    "        input matrix\n",
    "    eps : float\n",
    "        realtive tolerance\n",
    "    max_iter : int\n",
    "        maximum number of iterations\n",
    "        \n",
    "    Returns\n",
    "    -------\n",
    "    w : float/complex\n",
    "        the ??? eigenvalue of A\n",
    "    v : array(N)\n",
    "        corresponding eigenvector for eigenvalue w\n",
    "    k : int\n",
    "        number of iterations\n",
    "    \"\"\"\n",
    "    \n",
    "    # initialize a starting vector\n",
    "    x = np.ones(len(A))\n",
    "    \n",
    "    # initialize a value for the realtive norm, the previous eigenvalue as well as the iteration counter\n",
    "    err = 10\n",
    "    counter = 0\n",
    "    lambda_prev = 1\n",
    "\n",
    "    while err > eps and counter < max_iter :\n",
    "                \n",
    "        # compute numerator\n",
    "        num = np.dot(A,x)\n",
    "        \n",
    "        # compute denominator\n",
    "        den = sum(abs(num)**2)**(1./2)\n",
    "        \n",
    "        # check sign\n",
    "        # Not needed, cause good: see https://de.wikipedia.org/wiki/Rayleigh-Quotient\n",
    "        \n",
    "        # compute recursion\n",
    "        x = num/den\n",
    "        \n",
    "        # update the relative norm\n",
    "        lambda_new = den;\n",
    "        err = abs(lambda_new - lambda_prev)/abs(lambda_prev)\n",
    "        \n",
    "        # increment the iteration counter\n",
    "        counter += 1\n",
    "        lambda_prev = lambda_new;\n",
    "        \n",
    "        # check if we exceed 75 iterations and write a message if it is the case\n",
    "        if counter > 75 :\n",
    "            print('Exceeded 75 iterations.')\n",
    "            \n",
    "        # DEBUGGING\n",
    "        #print(num)\n",
    "        #print(num)\n",
    "        #print(x)\n",
    "        #print()\n",
    "    # end loop\n",
    "    \n",
    "    eigenvalue = np.dot(x,np.dot(A,x))/np.dot(x,x)\n",
    "    eigenvector = x\n",
    "    iterations = counter\n",
    "    \n",
    "    return [eigenvalue, eigenvector, iterations, err]"
   ]
  },
  {
   "cell_type": "code",
   "execution_count": 92,
   "metadata": {},
   "outputs": [
    {
     "name": "stdout",
     "output_type": "stream",
     "text": [
      "[4.000000006767723, array([-0.55622662, -0.43458467,  0.52119876,  0.47968737]), 70, 9.635381363729208e-11]\n",
      "Exceeded 75 iterations.\n",
      "[4.0000000043482675, array([-0.51263192,  0.32656906, -0.78269758, -0.13396141]), 76, 7.533085257504564e-11]\n",
      "[-39.99999999955286, array([ 0.39076875, -0.5298475 , -0.612742  ,  0.43715975]), 12, 2.1623769442377138e-11]\n",
      "[3.9999999991408677, array([ 0.33873297, -0.84597746,  0.37836296, -0.16255332]), 34, 7.170797290047376e-11]\n"
     ]
    }
   ],
   "source": [
    "print(vector_iteration(M1))\n",
    "# w,v = np.linalg.eig(M1)\n",
    "# print(w,'\\n')\n",
    "\n",
    "print(vector_iteration(M2))\n",
    "# w,v = np.linalg.eig(M2)\n",
    "# print(w,'\\n')\n",
    "\n",
    "print(vector_iteration(M3))\n",
    "# w,v = np.linalg.eig(M3)\n",
    "# print(w,'\\n')\n",
    "\n",
    "print(vector_iteration(M4))\n",
    "# w,v = np.linalg.eig(M4)\n",
    "# print(w,'\\n')"
   ]
  },
  {
   "cell_type": "markdown",
   "metadata": {},
   "source": [
    "## FE-Matrices\n",
    "\n",
    "### Load the Matrices\n",
    "\n",
    "Load the system matrices.\n",
    "The matices are real, square and symmetric with dimension $3N \\times 3N$.\n",
    "The DoFs are arranged in the order $x_1, y_1, z_1, x_2, \\dots, z_N$ where $x_i$ denotes the x-displacement of node $i$."
   ]
  },
  {
   "cell_type": "code",
   "execution_count": null,
   "metadata": {
    "collapsed": true
   },
   "outputs": [],
   "source": [
    "M = mmread('Ms.mtx').toarray() # mass matrix\n",
    "K = mmread('Ks.mtx').toarray() # stiffness matrix\n",
    "X = mmread('X.mtx') # coodinate matrix with columns corresponding to x,y,z position of the nodes\n",
    "\n",
    "N = X.shape[0] # number of nodes"
   ]
  },
  {
   "cell_type": "markdown",
   "metadata": {},
   "source": [
    "The DoFs in the system matrices are arranged according to a regular grid of linear finite elements.\n",
    "In the following we determine the unique x, y, and z coodinates of the grid."
   ]
  },
  {
   "cell_type": "code",
   "execution_count": null,
   "metadata": {
    "collapsed": true
   },
   "outputs": [],
   "source": [
    "nprec = 6 # precision for finding uniqe values\n",
    "# get grid vectors (the unique vectors of the x,y,z coodinate-grid)\n",
    "x = np.unique(np.round(X[:,0],decimals=nprec))\n",
    "y = np.unique(np.round(X[:,1],decimals=nprec))\n",
    "z = np.unique(np.round(X[:,2],decimals=nprec))\n",
    "print('Nx =',len(x))\n",
    "print('Ny =',len(y))\n",
    "print('Nz =',len(z))\n",
    "# grid matrices\n",
    "Xg = np.reshape(X[:,0],[len(y),len(x),len(z)])\n",
    "Yg = np.reshape(X[:,1],[len(y),len(x),len(z)])\n",
    "Zg = np.reshape(X[:,2],[len(y),len(x),len(z)])\n",
    "# or equivalent: Xg,Yg,Zg  = np.meshgrid(x,y,z)"
   ]
  },
  {
   "cell_type": "markdown",
   "metadata": {},
   "source": [
    "### Plot the Geometry\n",
    "\n",
    "One can plot the location of the nodes, select subsets of nodes and plot them ..."
   ]
  },
  {
   "cell_type": "code",
   "execution_count": null,
   "metadata": {
    "collapsed": true
   },
   "outputs": [],
   "source": [
    "# plot the geometric points \n",
    "from mpl_toolkits.mplot3d import Axes3D\n",
    "fig,ax = plt.subplots(subplot_kw={'projection':'3d'})\n",
    "\n",
    "#sm = 0.1/mode.max()\n",
    "ax.scatter(X[:,0],X[:,1],X[:,2],s=10)\n",
    "ax.set_xlabel('x')\n",
    "ax.set_ylabel('y')\n",
    "ax.set_zlabel('z')\n",
    "\n",
    "# select nodes on the west-side, i.e. at x=x_min\n",
    "tol = 1e-12\n",
    "x_min = X[:,0].min()\n",
    "Nw = np.argwhere(np.abs(X[:,0]-x_min)<tol) # Node indices of West-Edge nodes\n",
    "\n",
    "# select node on North-East-Top corner\n",
    "Nnet = np.argwhere(np.all(np.abs(X-X.max(axis=0))<tol,axis=1))[0]\n",
    "\n",
    "ax.scatter(X[Nw,0],X[Nw,1],X[Nw,2],s=30,marker='x',label='West')\n",
    "ax.scatter(X[Nnet,0],X[Nnet,1],X[Nnet,2],s=30,marker='x',label='North-East-Top')\n",
    "ax.legend()"
   ]
  },
  {
   "cell_type": "markdown",
   "metadata": {},
   "source": [
    "### Solve a Static Problem\n",
    "\n",
    "Solve a static problem applying nodal forces to the North-East-Top corner and fixing all DoF at the West-Edge of the plate.\n",
    "\n",
    "We solve the system\n",
    "$$ K u = f $$\n",
    "for the displacements $u$.\n",
    "The system needs to be constrained, thus, we select nodes which will be removed from the system."
   ]
  },
  {
   "cell_type": "code",
   "execution_count": null,
   "metadata": {
    "collapsed": true
   },
   "outputs": [],
   "source": [
    "\n",
    "# because the dofs are ordered as x_1, y_1, z_1, x_2, ..., z_N in the global system, the x, y, and z dofs for node n are\n",
    "# located at position 3n, 3n+1, 3n+2.\n",
    "\n",
    "# indices of x, y, and z DoFs in the global system\n",
    "# can be used to get DoF-index in global system, e.g. for y of node n by Iy[n]\n",
    "Ix = np.arange(N)*3 # index of x-dofs\n",
    "Iy = np.arange(N)*3+1\n",
    "Iz = np.arange(N)*3+2\n",
    "\n",
    "# select which indices in the global system must be constrained\n",
    "If = np.array([Ix[Nw],Iy[Nw],Iz[Nw]]).ravel() # dof indices of fix constraint\n",
    "Ic = np.array([(i in If) for i in np.arange(3*N)]) # boolean array of constraind dofs\n",
    "\n",
    "# construct forcing vector\n",
    "f = np.zeros(3*N)\n",
    "f[Iz[Nnet]] = -1.0\n",
    "\n",
    "# compute the reduced system\n",
    "Kc = K[np.ix_(~Ic,~Ic)]\n",
    "fc = f[~Ic]\n",
    "\n",
    "# compute solution\n",
    "u = np.zeros(3*N) # initialize displacement vector\n",
    "\n",
    "# solve the linear system Kc*uc=fc\n",
    "uc = np.linalg.solve(Kc,fc)\n",
    "\n",
    "# sort solution in large vector\n",
    "u[~Ic] = uc"
   ]
  },
  {
   "cell_type": "code",
   "execution_count": null,
   "metadata": {
    "collapsed": true
   },
   "outputs": [],
   "source": [
    "# plot in 3D\n",
    "fig,ax = plt.subplots(subplot_kw={'projection':'3d'})\n",
    "\n",
    "#sm = 0.1/mode.max()\n",
    "ax.scatter(X[:,0],X[:,1],X[:,2],s=5,label='undeformed') # undeformed\n",
    "\n",
    "# format U like X\n",
    "U = np.array([u[Ix],u[Iy],u[Iz]]).T\n",
    "\n",
    "# scale factor for plotting\n",
    "s = 0.5/np.max(np.sqrt(np.sum(U**2,axis=0)))\n",
    "Xu = X + s*U # defomed configuration (displacement scaled by s)\n",
    "\n",
    "ax.scatter(Xu[:,0],Xu[:,1],Xu[:,2],c='g',label='deformed')\n",
    "ax.scatter(X[Nw,0],X[Nw,1],X[Nw,2],s=50,marker='x',label='constraint')\n",
    "ax.quiver(X[:,0],X[:,1],X[:,2],f[Ix],f[Iy],f[Iz],color='r',length=0.1,label='load')\n",
    "\n",
    "ax.set_xlabel('x')\n",
    "ax.set_ylabel('y')\n",
    "ax.set_zlabel('z')\n",
    "ax.legend()"
   ]
  },
  {
   "cell_type": "code",
   "execution_count": null,
   "metadata": {
    "collapsed": true
   },
   "outputs": [],
   "source": [
    "# plot in 2D (z-displacement of the top-nodes)\n",
    "\n",
    "# select nodes\n",
    "Nt = np.argwhere(np.abs(X[:,2]-X[:,2].max())<tol)\n",
    "# extract z-displacements\n",
    "uz = np.reshape(u[Iz[Nt]],[len(y),len(x)])\n",
    "\n",
    "lim = np.max(np.abs(uz)) # limit to center color legend around 0\n",
    "\n",
    "fig,ax = plt.subplots()\n",
    "cax = ax.contourf(x,y,uz,cmap=plt.get_cmap('RdBu_r'),vmin=-lim,vmax=lim)\n",
    "fig.colorbar(cax,extend='both')#,orientation='horizontal')\n",
    "ax.set_aspect('equal')\n",
    "ax.set_xlabel('x')\n",
    "ax.set_ylabel('y')"
   ]
  },
  {
   "cell_type": "markdown",
   "metadata": {},
   "source": [
    "### Submission Task 2: Compute eigenvalues and modeshapes\n",
    "\n",
    "#### All free\n",
    "In the first step, use the unconstrained system to compute the first 15 eigenmodes and plot them. In order to compute only the first $k$ modes use the code\n",
    "\n",
    "```\n",
    "# only compute a subset of modes\n",
    "from scipy.linalg import eigh\n",
    "k = 15\n",
    "W,V = eigh(K,M,eigvals=(0,k))\n",
    "``` \n",
    "for the plots of the eigenmodes you can use the function given below."
   ]
  },
  {
   "cell_type": "code",
   "execution_count": null,
   "metadata": {
    "collapsed": true
   },
   "outputs": [],
   "source": [
    "def plotmodes(V) :\n",
    "    for i,v in enumerate(V.T) : # iterate over eigenvectors\n",
    "        c = np.reshape(v[Iz[Nt]],[len(y),len(x)])\n",
    "        lim = np.max(np.abs(c))\n",
    "        fig,ax = plt.subplots(figsize=[3.5,2])\n",
    "        ax.contourf(x,y,c,cmap=plt.get_cmap('RdBu'),vmin=-lim,vmax=lim)\n",
    "        ax.set_aspect('equal')\n",
    "        ax.set_title('Mode %i @ %f Hz'%(i+1,sqrt(W[i])/2/pi))\n",
    "        ax.set_xticks([])\n",
    "        ax.set_yticks([])\n",
    "        fig.tight_layout()"
   ]
  },
  {
   "cell_type": "code",
   "execution_count": null,
   "metadata": {
    "collapsed": true
   },
   "outputs": [],
   "source": []
  },
  {
   "cell_type": "markdown",
   "metadata": {},
   "source": [
    "#### Short side clamped\n",
    "In the next step constrain the nodes of the short edge on the north-west side ($Nw$), compute the first 15 eigenmodes and plot them like in the previous task."
   ]
  },
  {
   "cell_type": "code",
   "execution_count": null,
   "metadata": {
    "collapsed": true
   },
   "outputs": [],
   "source": []
  },
  {
   "cell_type": "markdown",
   "metadata": {},
   "source": [
    "#### Clamped edges\n",
    "In the last step all edges of the plate should be clamped ($Nn,No,Ns,Nw$). Compute the first 15 eigenmodes and plot them like in the previous tasks."
   ]
  },
  {
   "cell_type": "code",
   "execution_count": null,
   "metadata": {
    "collapsed": true
   },
   "outputs": [],
   "source": []
  }
 ],
 "metadata": {
  "kernelspec": {
   "display_name": "Python 2",
   "language": "python",
   "name": "python2"
  },
  "language_info": {
   "codemirror_mode": {
    "name": "ipython",
    "version": 2
   },
   "file_extension": ".py",
   "mimetype": "text/x-python",
   "name": "python",
   "nbconvert_exporter": "python",
   "pygments_lexer": "ipython2",
   "version": "2.7.13"
  }
 },
 "nbformat": 4,
 "nbformat_minor": 2
}
