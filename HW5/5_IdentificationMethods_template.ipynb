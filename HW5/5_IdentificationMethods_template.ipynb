{
 "cells": [
  {
   "cell_type": "code",
   "execution_count": null,
   "metadata": {},
   "outputs": [],
   "source": [
    "import numpy as np\n",
    "from scipy.io import mminfo,mmread\n",
    "import matplotlib.pyplot as plt\n",
    "%matplotlib inline\n",
    "\n",
    "from scipy.linalg import eig\n",
    "from numpy import sqrt, dot, sum, abs, diag, array, pi\n",
    "from scipy import sparse\n",
    "\n",
    "from numpy.fft import rfft, rfftfreq\n",
    "\n",
    "import sys\n",
    "np.set_printoptions(threshold=sys.maxsize)\n",
    "# np.set_printoptions(threshold=20)"
   ]
  },
  {
   "cell_type": "markdown",
   "metadata": {},
   "source": [
    "Exercise 5 - Identification Techniques\n",
    "===============================\n",
    "\n",
    "This exercise is focused on identifying modal parameters from experiments.\n",
    "\n",
    "Measurement data from a numerical impact hammer experiment on the plate supported by flexible springs is provided\n",
    "in the file `measurement.txt`.\n",
    "Time histories of acceleration at 24 points and of the force at the impact point were measured.\n",
    "The point-coordinates are given in `measurement-coordinates.txt`.\n",
    "\n",
    "You can load the data with\n",
    "```python\n",
    "from numpy import loadtxt\n",
    "data = loadtxt('measurement.txt')\n",
    "```"
   ]
  },
  {
   "cell_type": "code",
   "execution_count": null,
   "metadata": {},
   "outputs": [],
   "source": [
    "from numpy import loadtxt\n",
    "data = loadtxt('measurement.txt')"
   ]
  },
  {
   "cell_type": "markdown",
   "metadata": {},
   "source": [
    "* Plot the time history for the force as well as its frequency spectrum."
   ]
  },
  {
   "cell_type": "code",
   "execution_count": null,
   "metadata": {},
   "outputs": [],
   "source": [
    "t = data[:,0] #Time vector\n",
    "F = data[:,1] #Force vector"
   ]
  },
  {
   "cell_type": "code",
   "execution_count": null,
   "metadata": {},
   "outputs": [],
   "source": [
    "plt.figure(figsize = [15,5])\n",
    "plt.plot(t,F,label = 'F(t)')\n",
    "plt.xlabel('t, in s')\n",
    "plt.ylabel('F, in N')\n",
    "plt.title('Applied Force')\n",
    "plt.xlim([0,0.1])\n",
    "plt.legend()\n",
    "plt.grid()"
   ]
  },
  {
   "cell_type": "code",
   "execution_count": null,
   "metadata": {},
   "outputs": [],
   "source": [
    "frequencies = rfftfreq(len(t),t[1] - t[0])\n",
    "F_rfft = rfft(F)"
   ]
  },
  {
   "cell_type": "markdown",
   "metadata": {},
   "source": [
    "* Plot the measured acceleration time histories and frequency spectra for the 4 corner points and the drive point (where the force is applied). Make sure to select appropriate time and frequency limits to only show useful data."
   ]
  },
  {
   "cell_type": "code",
   "execution_count": null,
   "metadata": {},
   "outputs": [],
   "source": [
    "plt.figure(figsize = [15,10])\n",
    "plt.xlabel('t, in s')\n",
    "plt.ylabel('a, in m/s^2')\n",
    "plt.title('Acceleration time histories')\n",
    "plt.xlim([0,1])\n",
    "\n",
    "for i in range(2,26) :\n",
    "    plt.plot(t,data[:,i],label = 'a' + str(i-1))\n",
    "    \n",
    "plt.legend(loc = 1)\n",
    "plt.grid()"
   ]
  },
  {
   "cell_type": "markdown",
   "metadata": {},
   "source": [
    "Now we calculate the frequeny spectra of the 4 corner points. Form the Numerical Experiment Jupyter Notebook we acquire following information:\n",
    " * **P01** - Left lower corner\n",
    " * **P06** - Right lower corner\n",
    " * **P19** - Left top corner\n",
    " * **P24** - Right top corner\n",
    " \n",
    "For the injection point of the force: **P05**"
   ]
  },
  {
   "cell_type": "code",
   "execution_count": null,
   "metadata": {},
   "outputs": [],
   "source": [
    "PO1_rfft = rfft(data[:,2])\n",
    "PO6_rfft = rfft(data[:,7])\n",
    "P19_rfft = rfft(data[:,20])\n",
    "P24_rfft = rfft(data[:,25])\n",
    "\n",
    "P05_rfft = rfft(data[:,6])"
   ]
  },
  {
   "cell_type": "markdown",
   "metadata": {},
   "source": [
    "Now let's plot the frequency spectra"
   ]
  },
  {
   "cell_type": "code",
   "execution_count": null,
   "metadata": {},
   "outputs": [],
   "source": [
    "plt.figure(figsize = [15,7])\n",
    "\n",
    "plt.semilogy(frequencies,np.abs(PO1_rfft), label='PO1_rfft')\n",
    "plt.semilogy(frequencies,np.abs(PO6_rfft), label='PO6_rfft')\n",
    "plt.semilogy(frequencies,np.abs(P19_rfft), label='P19_rfft')\n",
    "plt.semilogy(frequencies,np.abs(P24_rfft), label='P24_rfft')\n",
    "plt.semilogy(frequencies,np.abs(P05_rfft), label='P05_rfft')\n",
    "\n",
    "plt.ylabel('a [m/s^2]')\n",
    "plt.xlabel('Frequency [Hz]')\n",
    "plt.xlim(1,300)\n",
    "plt.title('Frequency Spectra')\n",
    "plt.legend()\n",
    "plt.grid()"
   ]
  },
  {
   "cell_type": "markdown",
   "metadata": {},
   "source": [
    "* Compute the accelerance and plot it for the drive point. \n",
    "\n",
    "Make sure to apply a suitable window to the data, to counteract the effect of poor signal to noise ratio in parts of the singal.\n",
    "For decaying signal a decaring exponential window is suitable, e.g. use\n",
    "```python\n",
    "from scipy.signal import windows\n",
    "frac = 1e-3 # choose something useful\n",
    "W = windows.exponential(len(t), 0, -(len(t)-1) / np.log(frac), False)\n",
    "```\n",
    "Multiply the window to the data, before you do the FFT.\n"
   ]
  },
  {
   "cell_type": "code",
   "execution_count": null,
   "metadata": {},
   "outputs": [],
   "source": [
    "from scipy.signal import windows\n",
    "frac = 5e-3 # choose something useful\n",
    "W = windows.exponential(len(t), 0, -(len(t)-1) / np.log(frac), False)"
   ]
  },
  {
   "cell_type": "markdown",
   "metadata": {},
   "source": [
    "Let's first compare for one point how the window function influences the acceleration"
   ]
  },
  {
   "cell_type": "code",
   "execution_count": null,
   "metadata": {},
   "outputs": [],
   "source": [
    "plt.figure(figsize = [15,5])\n",
    "plt.plot(t,data[:,6]*W, label = \"P01_window\")\n",
    "plt.plot(t,data[:,6], label = \"P01\")\n",
    "plt.xlabel('t, in s')\n",
    "plt.ylabel('P01, in m/sec^2')\n",
    "plt.xlim([0,1])\n",
    "plt.legend()\n",
    "plt.grid()"
   ]
  },
  {
   "cell_type": "code",
   "execution_count": null,
   "metadata": {},
   "outputs": [],
   "source": [
    "PO1_rfft_window = rfft(data[:,2]*W)\n",
    "PO6_rfft_window = rfft(data[:,7]*W)\n",
    "P19_rfft_window = rfft(data[:,20]*W)\n",
    "P24_rfft_window = rfft(data[:,25]*W)\n",
    "\n",
    "P05_rfft_window = rfft(data[:,6]*W)"
   ]
  },
  {
   "cell_type": "code",
   "execution_count": null,
   "metadata": {},
   "outputs": [],
   "source": [
    "plt.figure(figsize = [15,7])\n",
    "\n",
    "plt.semilogy(frequencies,np.abs(PO1_rfft_window), label='PO1_rfft_window')\n",
    "plt.semilogy(frequencies,np.abs(PO6_rfft_window), label='PO6_rfft_window')\n",
    "plt.semilogy(frequencies,np.abs(P19_rfft_window), label='P19_rfft_window')\n",
    "plt.semilogy(frequencies,np.abs(P24_rfft_window), label='P24_rfft_window')\n",
    "plt.semilogy(frequencies,np.abs(P05_rfft_window), label='P05_rfft_window')\n",
    "\n",
    "plt.ylabel('a [m/s^2]')\n",
    "plt.xlabel('Frequency [Hz]')\n",
    "plt.xlim(1,300)\n",
    "plt.title('Frequency Spectra')\n",
    "plt.legend()\n",
    "plt.grid()"
   ]
  },
  {
   "cell_type": "markdown",
   "metadata": {},
   "source": [
    "* Compute the receptance from the accelerance and plot it for the drive point."
   ]
  },
  {
   "cell_type": "code",
   "execution_count": null,
   "metadata": {},
   "outputs": [],
   "source": [
    "P05_receptance = rfft(data[:,6]*W)/rfft(data[:,1]*W)"
   ]
  },
  {
   "cell_type": "code",
   "execution_count": null,
   "metadata": {
    "scrolled": false
   },
   "outputs": [],
   "source": [
    "plt.figure(figsize = [15,7])\n",
    "\n",
    "plt.semilogy(frequencies,np.abs(P05_receptance))\n",
    "\n",
    "plt.ylabel('a/F [m/s^2/N]')\n",
    "plt.xlabel('Frequency [Hz]')\n",
    "plt.xlim(1,300)\n",
    "plt.title('Receptance from P05/F')\n",
    "plt.grid()"
   ]
  },
  {
   "cell_type": "markdown",
   "metadata": {},
   "source": [
    "## Task1: Find Peaks in the Transfer Functions\n",
    "Use the Maximum Amplitude, Maximum Quadrature or Maximum Quadrature Component method to find all natural frequencies up to 150Hz.\n",
    "\n",
    "For low frequency peaks it might me best to look at receptance curves, wheras for high frequenies the peaks in the accelerance might be more pronounced.\n",
    "Some automatic peak finding algorithms are implemented in scipy. \n",
    "A useful and rather robust automatic peak-detection tool is the continuous wavelet transform, e.g. use\n",
    "```python\n",
    "from scipy.signal import find_peaks, find_peaks_cwt\n",
    "```\n",
    "Often the automatic selection has to be fine tuned by hand.\n",
    "\n",
    "* Use an automatic tool to detect peaks in the drive-point accelerance, and plot the found peaks.\n",
    "* Then adapt the result by hand (add shift peaks) until you have found all natural frequencies.\n",
    "* Plot the magnitude, real and imaginary part of the fransfer functions around each peak in a suitable frequency range (~10Hz) to verify the peak location: all transfer functions in one plot, one plot per part, one plot per peak"
   ]
  },
  {
   "cell_type": "code",
   "execution_count": null,
   "metadata": {},
   "outputs": [],
   "source": [
    "from scipy.signal import find_peaks, find_peaks_cwt"
   ]
  },
  {
   "cell_type": "code",
   "execution_count": null,
   "metadata": {},
   "outputs": [],
   "source": [
    "# Use an automatic tool to detect peaks in the drive-point accelerance\n",
    "peaks_idx_P05_rfft_window, _ = find_peaks(np.abs(P05_rfft_window), height=2000) \n",
    "# The height is set so that only realistic peaks are taken into account"
   ]
  },
  {
   "cell_type": "code",
   "execution_count": null,
   "metadata": {},
   "outputs": [],
   "source": [
    "plt.figure(figsize = [15,7])\n",
    "plt.ylabel('a [m/s^2]')\n",
    "plt.xlabel('Frequency [Hz]')\n",
    "plt.xlim(-1,151)\n",
    "plt.title('Found peaks from P05 accelerance')\n",
    "plt.grid()\n",
    "plt.plot(frequencies, np.abs(P05_rfft_window))\n",
    "plt.plot(frequencies[peaks_idx_P05_rfft_window], np.abs(P05_rfft_window)[peaks_idx_P05_rfft_window], 'x')\n",
    "plt.show()"
   ]
  },
  {
   "cell_type": "code",
   "execution_count": null,
   "metadata": {
    "scrolled": false
   },
   "outputs": [],
   "source": [
    "# Plot the magnitude\n",
    "bound = 10;\n",
    "\n",
    "for n,i in enumerate(peaks_idx_P05_rfft_window):\n",
    "    plt.figure(figsize = [15,7])\n",
    "\n",
    "    lower_freq = frequencies[i]-bound\n",
    "    upper_freq = frequencies[i]+bound\n",
    "    \n",
    "    lower_idx = (np.abs(frequencies - lower_freq)).argmin()\n",
    "    upper_idx = (np.abs(frequencies - upper_freq)).argmin()\n",
    "    \n",
    "    plt.plot(frequencies[lower_idx:upper_idx]/frequencies[i], np.abs(P05_receptance[lower_idx:upper_idx]))\n",
    "    plt.plot(frequencies[i]/frequencies[i], np.abs(P05_receptance[i]), 'x')\n",
    "    \n",
    "    plt.ylabel('magnitude')\n",
    "    plt.xlabel('Frequency/Frequency_n [1]')\n",
    "    plt.title('Point '+ str(n+1))\n",
    "    plt.grid()"
   ]
  },
  {
   "cell_type": "code",
   "execution_count": null,
   "metadata": {},
   "outputs": [],
   "source": [
    "# shift point 4 to the peak (Peak-Amplitude Methode)\n",
    "peaks_idx_P05_rfft_window[3] = 253\n",
    "\n",
    "\n",
    "plt.figure(figsize = [15,7])\n",
    "\n",
    "lower_freq = frequencies[peaks_idx_P05_rfft_window[3]]-bound\n",
    "upper_freq = frequencies[peaks_idx_P05_rfft_window[3]]+bound\n",
    "\n",
    "lower_idx = (np.abs(frequencies - lower_freq)).argmin()\n",
    "upper_idx = (np.abs(frequencies - upper_freq)).argmin()\n",
    "\n",
    "plt.plot(frequencies[lower_idx:upper_idx]/frequencies[peaks_idx_P05_rfft_window[3]], np.abs(P05_receptance[lower_idx:upper_idx]))\n",
    "plt.plot(frequencies[peaks_idx_P05_rfft_window[3]]/frequencies[peaks_idx_P05_rfft_window[3]], np.abs(P05_receptance[peaks_idx_P05_rfft_window[3]]), 'x')\n",
    "\n",
    "plt.ylabel('magnitude')\n",
    "plt.xlabel('Frequency/Frequency_n [1]')\n",
    "plt.title('Point '+ str(4))\n",
    "plt.grid()"
   ]
  },
  {
   "cell_type": "code",
   "execution_count": null,
   "metadata": {
    "scrolled": false
   },
   "outputs": [],
   "source": [
    "# Plot the real part\n",
    "for n,i in enumerate(peaks_idx_P05_rfft_window):\n",
    "    plt.figure(figsize = [15,7])\n",
    "\n",
    "    lower_freq = frequencies[i]-bound\n",
    "    upper_freq = frequencies[i]+bound\n",
    "    \n",
    "    lower_idx = (np.abs(frequencies - lower_freq)).argmin()\n",
    "    upper_idx = (np.abs(frequencies - upper_freq)).argmin()\n",
    "    \n",
    "    plt.plot(frequencies[lower_idx:upper_idx]/frequencies[i], np.real(P05_receptance[lower_idx:upper_idx]))\n",
    "    plt.plot(frequencies[i]/frequencies[i], np.real(P05_receptance[i]), 'x')\n",
    "    \n",
    "    plt.ylabel('real')\n",
    "    plt.xlabel('Frequency/Frequency_n [1]')\n",
    "    plt.title('Point '+ str(n+1))\n",
    "    plt.grid()"
   ]
  },
  {
   "cell_type": "code",
   "execution_count": null,
   "metadata": {
    "scrolled": false
   },
   "outputs": [],
   "source": [
    "# Plot the imaginary part\n",
    "for n,i in enumerate(peaks_idx_P05_rfft_window):\n",
    "    plt.figure(figsize = [15,7])\n",
    "\n",
    "    lower_freq = frequencies[i]-bound\n",
    "    upper_freq = frequencies[i]+bound\n",
    "    \n",
    "    lower_idx = (np.abs(frequencies - lower_freq)).argmin()\n",
    "    upper_idx = (np.abs(frequencies - upper_freq)).argmin()\n",
    "    \n",
    "    plt.plot(frequencies[lower_idx:upper_idx]/frequencies[i], np.imag(P05_receptance[lower_idx:upper_idx]))\n",
    "    plt.plot(frequencies[i]/frequencies[i], np.imag(P05_receptance[i]), 'x')\n",
    "    \n",
    "    plt.ylabel('imaginary')\n",
    "    plt.xlabel('Frequency/Frequency_n [1]')\n",
    "    plt.title('Point '+ str(n+1))\n",
    "    plt.grid()"
   ]
  },
  {
   "cell_type": "code",
   "execution_count": null,
   "metadata": {},
   "outputs": [],
   "source": [
    "print('Peaks:', frequencies[peaks_idx_P05_rfft_window], 'Hz')"
   ]
  },
  {
   "cell_type": "code",
   "execution_count": null,
   "metadata": {},
   "outputs": [],
   "source": [
    "# All TF in one plot\n",
    "plt.figure(figsize = [15,7])\n",
    "plt.ylabel('a/F [m/s^2/N]')\n",
    "plt.xlabel('Frequency [Hz]')\n",
    "plt.xlim(-1,151)\n",
    "plt.title('All TF\\'s in one plot')\n",
    "plt.grid()\n",
    "\n",
    "for ii in range(2, 26):\n",
    "    \n",
    "    Pi_rfft_window = rfft(data[:,ii]*W)\n",
    "    \n",
    "    peaks_idx_Pi_receptance, _ = find_peaks(np.abs(Pi_rfft_window), height=2000) \n",
    "    \n",
    "    if ii == 6:\n",
    "        plt.plot(frequencies, np.abs(Pi_rfft_window), linewidth=15)\n",
    "        plt.plot(frequencies[peaks_idx_Pi_receptance], np.abs(Pi_rfft_window)[peaks_idx_Pi_receptance], 'x')\n",
    "    else:\n",
    "        plt.plot(frequencies, np.abs(Pi_rfft_window))\n",
    "        plt.plot(frequencies[peaks_idx_Pi_receptance], np.abs(Pi_rfft_window)[peaks_idx_Pi_receptance], 'x')\n",
    "        \n",
    "plt.show()  "
   ]
  },
  {
   "cell_type": "markdown",
   "metadata": {},
   "source": [
    "## Determine Damping Ratio\n",
    "Determine the damping ratio of each natural frequency from the half power width.\n",
    "Use the drive point receptance.\n",
    "\n",
    "* plot the determined half power points on the transfer function for each peak"
   ]
  },
  {
   "cell_type": "code",
   "execution_count": null,
   "metadata": {},
   "outputs": [],
   "source": [
    "half_power = np.abs(P05_receptance)/sqrt(2) #\n",
    "print('Half power magnitude:', half_power[peaks_idx_P05_rfft_window])"
   ]
  },
  {
   "cell_type": "code",
   "execution_count": null,
   "metadata": {},
   "outputs": [],
   "source": [
    "# find out to which index the half power points belong\n",
    "index_half_power = np.zeros([len(peaks_idx_P05_rfft_window), 4],dtype = int)\n",
    "\n",
    "for n,idx in enumerate(peaks_idx_P05_rfft_window):\n",
    "    for i in range(idx, 0, -1):\n",
    "        if half_power[idx] >= np.abs(P05_receptance)[i]:\n",
    "            index_half_power[n,0] = i\n",
    "            index_half_power[n,1] = i+1\n",
    "            break\n",
    "\n",
    "    for i in range(idx, len(frequencies)+1, 1):\n",
    "        if half_power[idx] >= np.abs(P05_receptance)[i]:\n",
    "            index_half_power[n,3] = i\n",
    "            index_half_power[n,2] = i-1\n",
    "            break\n",
    "\n",
    "# linear interpolation between between the values found\n",
    "freq_half_power = np.zeros([len(peaks_idx_P05_rfft_window),2])\n",
    "    \n",
    "for n,a in enumerate(index_half_power):\n",
    "        freq_half_power[n,0] = ((frequencies[a[1]]-frequencies[a[0]])/\n",
    "                                (np.abs(P05_receptance)[a[1]]-\n",
    "                                 np.abs(P05_receptance)[a[0]]\n",
    "                                ))*(half_power[peaks_idx_P05_rfft_window[n]]-np.abs(P05_receptance)[a[0]])+frequencies[a[0]]\n",
    "        freq_half_power[n,1] = ((frequencies[a[3]]-frequencies[a[2]])/\n",
    "                                (np.abs(P05_receptance)[a[3]]-\n",
    "                                 np.abs(P05_receptance)[a[2]]\n",
    "                                ))*(half_power[peaks_idx_P05_rfft_window[n]]-np.abs(P05_receptance)[a[2]])+frequencies[a[2]]"
   ]
  },
  {
   "cell_type": "code",
   "execution_count": null,
   "metadata": {
    "scrolled": false
   },
   "outputs": [],
   "source": [
    "# Plot the magnitude  \n",
    "for n,i in enumerate(peaks_idx_P05_rfft_window):\n",
    "\n",
    "    plt.figure(figsize = [15,7])\n",
    "\n",
    "    lower_freq = frequencies[i]-bound\n",
    "    upper_freq = frequencies[i]+bound\n",
    "    \n",
    "    lower_idx = (np.abs(frequencies - lower_freq)).argmin()\n",
    "    upper_idx = (np.abs(frequencies - upper_freq)).argmin()\n",
    "    \n",
    "    if n == 4:\n",
    "        P05_lower_idx = lower_idx\n",
    "        P05_upper_idx = upper_idx\n",
    "    else:\n",
    "        pass\n",
    "    \n",
    "    plt.plot(frequencies[lower_idx:upper_idx]/frequencies[i], np.abs(P05_receptance[lower_idx:upper_idx]))\n",
    "    plt.plot(frequencies[i]/frequencies[i], np.abs(P05_receptance[i]), 'x')\n",
    "    plt.plot(freq_half_power[n,0]/frequencies[i], half_power[i], 'o')\n",
    "    plt.plot(freq_half_power[n,1]/frequencies[i], half_power[i], 'o')\n",
    "    \n",
    "    plt.ylabel('magnitude')\n",
    "    plt.xlabel('Frequency/Frequency_n [1]')\n",
    "    plt.title('Point '+ str(n+1))\n",
    "    plt.grid()"
   ]
  },
  {
   "cell_type": "markdown",
   "metadata": {},
   "source": [
    "* what damping factors do you obtain?"
   ]
  },
  {
   "cell_type": "code",
   "execution_count": null,
   "metadata": {},
   "outputs": [],
   "source": [
    "# Damping factor\n",
    "Damping_factor = (freq_half_power[:,1]-freq_half_power[:,0])/(2*frequencies[peaks_idx_P05_rfft_window])\n",
    "\n",
    "print('Damping Factors: ', Damping_factor)"
   ]
  },
  {
   "cell_type": "code",
   "execution_count": null,
   "metadata": {},
   "outputs": [],
   "source": [
    "# shift first half power of point 5 into valley\n",
    "valley_idx = np.argmin(np.abs(P05_receptance[peaks_idx_P05_rfft_window[-2]:peaks_idx_P05_rfft_window[-1]]))\n",
    "freq_half_power[4,0] = frequencies[peaks_idx_P05_rfft_window[-2]:peaks_idx_P05_rfft_window[-1]][valley_idx]\n",
    "\n",
    "lower_freq = frequencies[peaks_idx_P05_rfft_window[-1]]-bound\n",
    "upper_freq = frequencies[peaks_idx_P05_rfft_window[-1]]+bound\n",
    "\n",
    "lower_idx = (np.abs(frequencies - lower_freq)).argmin()\n",
    "upper_idx = (np.abs(frequencies - upper_freq)).argmin()\n",
    "\n",
    "plt.figure(figsize = [15,7])\n",
    "plt.plot(frequencies[lower_idx:upper_idx]/frequencies[peaks_idx_P05_rfft_window[-1]],\n",
    "         np.abs(P05_receptance[lower_idx:upper_idx]))\n",
    "plt.plot(frequencies[peaks_idx_P05_rfft_window[-1]]/frequencies[peaks_idx_P05_rfft_window[-1]],\n",
    "         np.abs(P05_receptance[peaks_idx_P05_rfft_window[-1]]), 'x')\n",
    "plt.plot(freq_half_power[4,0]/frequencies[peaks_idx_P05_rfft_window[-1]], half_power[peaks_idx_P05_rfft_window[-1]], 'o')\n",
    "plt.plot(freq_half_power[4,1]/frequencies[peaks_idx_P05_rfft_window[-1]], half_power[peaks_idx_P05_rfft_window[-1]], 'o')\n",
    "\n",
    "plt.ylabel('magnitude')\n",
    "plt.xlabel('Frequency/Frequency_n [1]')\n",
    "plt.title('Point '+ str(5))\n",
    "plt.grid()"
   ]
  },
  {
   "cell_type": "code",
   "execution_count": null,
   "metadata": {},
   "outputs": [],
   "source": [
    "# Damping factors after shifting point 5\n",
    "Damping_factor = (freq_half_power[:,1]-freq_half_power[:,0])/(2*frequencies[peaks_idx_P05_rfft_window])\n",
    "\n",
    "print('Damping Factors: ', Damping_factor)"
   ]
  },
  {
   "cell_type": "markdown",
   "metadata": {},
   "source": [
    "## Circle Fitting\n",
    "Employ the circle fitting algorithm to determine natural frequencies and damping factors."
   ]
  },
  {
   "cell_type": "markdown",
   "metadata": {},
   "source": [
    "* Develop a function that fits a circle in the nyquist plane to given data points (receptance values and corresponding frequencies). It should return the natural frequency, damping factor and complex valued modal constant."
   ]
  },
  {
   "cell_type": "code",
   "execution_count": null,
   "metadata": {},
   "outputs": [],
   "source": [
    "def CircleFitting(receptance,f,printFlag = 0) :\n",
    "    x = np.real(receptance)\n",
    "    y = np.imag(receptance)\n",
    "    w = 2*np.pi*f\n",
    "    dw = w[1] - w[0]\n",
    "    \n",
    "    ## DO CIRCLE FITTING STUFF TO THE DATA\n",
    "    L = len(x)\n",
    "    A = np.zeros((3,3))\n",
    "    \n",
    "    A[0,0] = np.sum(x*x)\n",
    "    A[1,1] = np.sum(y*y)\n",
    "    A[2,2] = L\n",
    "    \n",
    "    A[0,1] = A[1,0] = np.sum(x*y)\n",
    "    A[0,2] = A[2,0] = -np.sum(x)\n",
    "    A[1,2] = A[2,1] = -np.sum(y)\n",
    "    \n",
    "    B = np.zeros((3,1))\n",
    "    B[0] = -np.sum(x*x*x)-np.sum(x*y*y)\n",
    "    B[1] = -np.sum(y*y*y)-np.sum(x*x*y)\n",
    "    B[2] = np.sum(x*x)+np.sum(y*y)\n",
    "    \n",
    "    sol = np.linalg.solve(A,B)\n",
    "    \n",
    "    ## CIRCLE DATA\n",
    "    xk = -1/2*sol[0]\n",
    "    yk = -1/2*sol[1]\n",
    "    Rk = np.sqrt(sol[2] + xk**2 + yk**2)\n",
    "    \n",
    "    # Generate spokes for plotting\n",
    "    pointers_x = x - xk\n",
    "    pointers_y = y - yk\n",
    "    \n",
    "    frequency_spacing = np.zeros((len(pointers_x)-1))\n",
    "    \n",
    "    ## CALCULATE ANGLES BETWEEN SPOKES\n",
    "    for i in range(0,len(pointers_x)-1):\n",
    "        pointer_1 = np.array((pointers_x[i],pointers_y[i]))\n",
    "        pointer_2 = np.array((pointers_x[i+1],pointers_y[i+1]))\n",
    "        frequency_spacing[i] = np.arccos(np.dot(pointer_1,pointer_2)/\n",
    "                                         np.linalg.norm(pointer_1)/\n",
    "                                         np.linalg.norm(pointer_2))\n",
    "    \n",
    "    ## CALCULATE GRADIENT\n",
    "    frequency_spacing = np.cumsum(frequency_spacing)\n",
    "    dg_dw = np.gradient(frequency_spacing,dw)\n",
    "    d2g_dw2 = np.gradient(dg_dw,dw)\n",
    "    idx_max = np.argmax(dg_dw)\n",
    "    \n",
    "    # Find Maximum and Minium Values of the function --> somewhere between them we have the 0 crossing\n",
    "    max_idx_d2g_dw2 = (np.argmax(d2g_dw2))\n",
    "    min_idx_d2g_dw2 = (np.argmin(d2g_dw2))\n",
    "    \n",
    "    # Flip values of d2g_dw2, need the function to be increasing ---> form - values to + values\n",
    "    x_values = np.flip(d2g_dw2[max_idx_d2g_dw2:min_idx_d2g_dw2+1])\n",
    "    y_values = np.flip(f[max_idx_d2g_dw2:min_idx_d2g_dw2+1])\n",
    "    \n",
    "    # Find zero values\n",
    "    freq_zero_crossing = np.interp(0.0,x_values,y_values)    \n",
    "    \n",
    "    # Find x,y values of wk on given data\n",
    "    x_wk = np.interp(freq_zero_crossing,f,x)\n",
    "    y_wk = np.interp(freq_zero_crossing,f,y)\n",
    "    \n",
    "    ## FIND wk\n",
    "    wk = freq_zero_crossing*2*np.pi\n",
    "    idx_a_b = np.abs(w-wk).argsort()[:2]\n",
    "    wa = w[idx_a_b[0]]\n",
    "    wb = w[idx_a_b[1]]\n",
    "    \n",
    "    # Now build the vector to wk and find right point of w_k\n",
    "    # We seek the intersection point of the vector from center to wk with the circle \n",
    "    k = (y_wk - yk)/(x_wk - xk) # Gradient of the pointer_wk\n",
    "    x_circ = np.array([Rk/np.sqrt(1+k**2), -Rk/np.sqrt(1+k**2)]) # x on circle, relative to circle center, quadratic sol.\n",
    "    y_circ = k*x_circ # y on circle, relative to circle center\n",
    "    x_circ = x_circ + xk # now in absolute reference system\n",
    "    y_circ = y_circ + yk # now in absolute reference system\n",
    "    \n",
    "    # Lets find which one is wk and which one is Dk\n",
    "    idx_wk = np.abs(x_circ - x_wk).argmin()\n",
    "    idx_Dk = np.abs(x_circ - x_wk).argmax()\n",
    "    x_wk_circ = float(x_circ[idx_wk])\n",
    "    y_wk_circ = float(y_circ[idx_wk])\n",
    "    x_Dk_circ = float(x_circ[idx_Dk])\n",
    "    y_Dk_circ = float(y_circ[idx_Dk])\n",
    "    \n",
    "    # FIND Dk\n",
    "    Dk = np.complex(x_Dk_circ,y_Dk_circ)\n",
    "\n",
    "    # make some pointer/vector magic\n",
    "    pointer_wk_DK = np.array([[x_wk_circ,x_Dk_circ],[y_wk_circ,y_Dk_circ]])\n",
    "    pointer_wa_DK = np.array([[x[idx_a_b[0]],x_Dk_circ],[y[idx_a_b[0]],y_Dk_circ]])\n",
    "    pointer_wb_DK = np.array([[x[idx_a_b[1]],x_Dk_circ],[y[idx_a_b[1]],y_Dk_circ]])\n",
    "    pointer_Dk_down = np.array([[x_Dk_circ,x_Dk_circ],[y_wk_circ,y_Dk_circ]])\n",
    "    Dk_coord = np.array([x_Dk_circ,y_Dk_circ])\n",
    "\n",
    "    # Calculate Phia Phib Phik\n",
    "    # CALCULATE Phi_a / ...\n",
    "    Phi_a = np.arccos(np.dot(pointer_wk_DK[:,0] - Dk_coord,pointer_wa_DK[:,0] - Dk_coord)/\n",
    "                      np.linalg.norm(pointer_wk_DK[:,0] - Dk_coord)/np.linalg.norm(pointer_wa_DK[:,0] - Dk_coord))\n",
    "    Phi_b = np.arccos(np.dot(pointer_wk_DK[:,0] - Dk_coord,pointer_wb_DK[:,0] - Dk_coord)/\n",
    "                      np.linalg.norm(pointer_wk_DK[:,0] - Dk_coord)/np.linalg.norm(pointer_wb_DK[:,0] - Dk_coord))\n",
    "    Phi_k = np.arccos(np.dot(pointer_wk_DK[:,0] - Dk_coord,pointer_Dk_down[:,0] - Dk_coord)/\n",
    "                      np.linalg.norm(pointer_wk_DK[:,0] - Dk_coord)/np.linalg.norm(pointer_Dk_down[:,0] - Dk_coord))\n",
    "\n",
    "    zeta_k = (wa**2 - wb**2)/2/wk**2/(np.tan(Phi_a) + np.tan(Phi_b))\n",
    "    C_k = 4*Rk*wk**2*zeta_k*np.exp(1j*Phi_k)\n",
    "    \n",
    "    H_w = C_k/(wk**2 - w*w + 2*1j*wk*zeta_k*w) + Dk\n",
    "\n",
    "    if printFlag == 1 :\n",
    "        \n",
    "        # Calc circle data\n",
    "        theta = np.linspace(0,2*np.pi,100)\n",
    "        x_circle = Rk*np.cos(theta) + xk\n",
    "        y_circle = Rk*np.sin(theta) + yk\n",
    "\n",
    "        plt.figure(figsize = [15,7])\n",
    "        \n",
    "        # Plot circle data and measurement data\n",
    "        plt.plot(x,y,label = 'data')\n",
    "        plt.plot(x_circle,y_circle, '--', label = 'circle fit')\n",
    "        \n",
    "        # pointers to wa wb wk from Dk / vector Dk down\n",
    "        plt.plot(pointer_wk_DK[0],pointer_wk_DK[1],'r--',linewidth = 3)\n",
    "        plt.plot(pointer_wa_DK[0],pointer_wa_DK[1],'m-',linewidth = 2)\n",
    "        plt.plot(pointer_wb_DK[0],pointer_wb_DK[1],'m-',linewidth = 2)\n",
    "        plt.plot(pointer_Dk_down[0],pointer_Dk_down[1],'b-',linewidth = 2)\n",
    "\n",
    "        # Plot the center of the circle\n",
    "        plt.plot(xk,yk, 'o',label = 'center', markersize=10)\n",
    "        plt.text(xk,yk,'Mk',fontsize=15)\n",
    "        \n",
    "        # Plot w_k on the given data\n",
    "        plt.plot(x_wk,y_wk, 'x',label = 'w_k', markersize=10)\n",
    "        \n",
    "        # plot w_k on circle\n",
    "        plt.plot(x_wk_circ,y_wk_circ,'o', markersize=10, label = 'w_k_circ')\n",
    "        plt.text(x_wk_circ,y_wk_circ,'w_k',fontsize=15)\n",
    "        plt.plot(x_Dk_circ,y_Dk_circ,'o', markersize=10, label = 'D_K')\n",
    "        plt.text(x_Dk_circ,y_Dk_circ,'D_k',fontsize=15)\n",
    "        \n",
    "        # Plot wa and wb\n",
    "        plt.plot(x[idx_a_b[0]],y[idx_a_b[0]],'o',label = 'w_a', markersize=10)\n",
    "        plt.text(x[idx_a_b[0]],y[idx_a_b[0]],'wa',fontsize=15)\n",
    "        plt.plot(x[idx_a_b[1]],y[idx_a_b[1]],'o',label = 'w_b', markersize=10)\n",
    "        plt.text(x[idx_a_b[1]],y[idx_a_b[1]],'wb',fontsize=15)\n",
    "\n",
    "        # Plot spokes for all\n",
    "        #         for i,idx in enumerate(pointers_x) :\n",
    "        #             plt.plot([xk,x[i]],[yk,y[i]],'--')\n",
    "\n",
    "        plt.title('Circle Fitting, fk = ' + str(wk/2/np.pi))\n",
    "        plt.ylabel('imag(H(w))')\n",
    "        plt.xlabel('real(H(w))')\n",
    "        plt.legend()\n",
    "        plt.axis('equal')\n",
    "        plt.grid()   \n",
    "\n",
    "        # Plot cumsum of gamma, plot first and second derivative and some fancy stuff\n",
    "        # ----------------------------------- DEBUGGING STUFF --------------------------------------------------\n",
    "        plt.figure(figsize = [15,10])\n",
    "        plt.subplot(2,2,1)\n",
    "        plt.plot(f,np.abs(receptance), label = 'measured recepetance')\n",
    "        plt.plot(f,np.abs(H_w),label = 'circle fit')\n",
    "        plt.ylabel('abs(H(w))')\n",
    "        plt.title('Receptance')\n",
    "        plt.grid()\n",
    "        plt.legend()\n",
    "\n",
    "        plt.subplot(2,2,2)\n",
    "        plt.plot(f[0:-1],frequency_spacing)\n",
    "        plt.ylabel('gamma [rad]')\n",
    "        plt.title('Gamma')\n",
    "        plt.grid()\n",
    "        \n",
    "        plt.subplot(2,2,3)\n",
    "        plt.plot(f[0:-1],dg_dw)\n",
    "        plt.title('dg/dw')\n",
    "        plt.ylabel('d2g/dw2 [rad*sec]')\n",
    "        plt.xlabel('frequencies [Hz]')\n",
    "        plt.grid()\n",
    "\n",
    "        plt.subplot(2,2,4)\n",
    "        plt.plot(f[0:-1],d2g_dw2)\n",
    "        plt.plot(f[int(idx_a_b[0])],d2g_dw2[idx_a_b[0]],'*',label = 'w_a')\n",
    "        plt.plot(f[int(idx_a_b[1])],d2g_dw2[idx_a_b[1]],'*',label = 'w_b')\n",
    "        plt.plot(freq_zero_crossing,0,'o',label = 'w_k')\n",
    "        plt.title('d2g/dw2')\n",
    "        plt.ylabel('d2g/dw2 [rad*sec^2]')\n",
    "        plt.xlabel('frequencies [Hz]')\n",
    "        plt.grid()\n",
    "        plt.legend()\n",
    "        plt.show()\n",
    "    \n",
    "    return wk, zeta_k, C_k[0], Dk, H_w"
   ]
  },
  {
   "cell_type": "markdown",
   "metadata": {},
   "source": [
    "* First test your function on a nice, prominant peak of the drive point receptance (e.g. around 73Hz): Select suitable data points (frequency range) for the fit. Plot your fit in the Nyquist plane. Also plot the transfer function estimation by the cicle fit, i.e. $$ H(\\omega) = \\frac{C_k}{\\omega_k^2 - \\omega^2 + 2j \\omega_k\\zeta_k\\omega}+D_k$$ in a wider frequency range, and compare it to the data to see how the fit performs.\n",
    "\n",
    "* Use your function and determine suitable frequency ranges to fit all natural frequencies. For some it might be useful to switch to a different transfer function, where the peak under consideration is more prominant."
   ]
  },
  {
   "cell_type": "markdown",
   "metadata": {},
   "source": [
    "#### The plotting of HW on a wider range is done in the last point below."
   ]
  },
  {
   "cell_type": "markdown",
   "metadata": {},
   "source": [
    "Range for Circle Fitting:\n",
    "\n",
    "- Point 1\n",
    "    - [0,15] -> 1,2,7,8,23,24 measurement point\n",
    "    - [0,31] -> rest\n",
    "\n",
    "- Point 2\n",
    "    - [32,70] -> 3,9,10,15,21,22\n",
    "    - [32,150] -> rest\n",
    "\n",
    "- Point 3\n",
    "    - [151,230] -> rest !Caution! Point 24\n",
    "\n",
    "- Point 4\n",
    "    - [240,262] -> 2,3,6,7,10,11,14,15,18,19,22\n",
    "    - [231,262] -> rest\n",
    "    - [240,255] -> 23\n",
    "\n",
    "- Point 5\n",
    "    - [262,280] -> 3,22\n",
    "    - [262,350] -> rest\n",
    "    \n",
    "The one generated for only P05 made problems with with some points, just for reference\n",
    "```py\n",
    "frequency_indexes = np.array([[0,31],\n",
    "                             [32,150],\n",
    "                             [151,230],\n",
    "                             [231,262],\n",
    "                             [262,350]\n",
    "                             ])\n",
    "```"
   ]
  },
  {
   "cell_type": "code",
   "execution_count": null,
   "metadata": {},
   "outputs": [],
   "source": [
    "# # ------------------------------ USED TO DEBUG AND FIND RANGE FOR CIRCLE FITTING ------------------------------------\n",
    "# window = range(240,255)\n",
    "# plt.figure(figsize = [15,50])\n",
    "    \n",
    "# for i in range(2,26):\n",
    "#     Pi_receptance = rfft(data[:,i]*W)/rfft(data[:,1]*W)\n",
    "    \n",
    "#     plt.subplot(13,2,i-1)\n",
    "#     plt.title('Plot for measurementpoint: ' + str(i-1))\n",
    "#     plt.grid()\n",
    "#     plt.plot(np.abs(Pi_receptance[window]))\n",
    "# plt.show()"
   ]
  },
  {
   "cell_type": "code",
   "execution_count": null,
   "metadata": {},
   "outputs": [],
   "source": [
    "# ------------------------------ USED TO DEBUG AND FIND RANGE FOR CIRCLE FITTING ------------------------------------\n",
    "# window = range(262,280)\n",
    "# plt.figure(figsize = [15,7])\n",
    "\n",
    "# i = 3\n",
    "# Pi_receptance = rfft(data[:,i + 1]*W)/rfft(data[:,1]*W)\n",
    "    \n",
    "# plt.title('Plot for measurementpoint: ' + str(i))\n",
    "# plt.grid()\n",
    "# plt.plot(np.abs(Pi_receptance[window]))\n",
    "# plt.show()"
   ]
  },
  {
   "cell_type": "code",
   "execution_count": null,
   "metadata": {},
   "outputs": [],
   "source": [
    "## EXAMPLE OF THE CIRCLE FITTING TOOL\n",
    "lower_idx = 32\n",
    "upper_idx = 150\n",
    "\n",
    "f = frequencies[lower_idx:upper_idx]\n",
    "receptance = P05_receptance[lower_idx:upper_idx]\n",
    "\n",
    "# Toggle plots ON/Off with 0 or 1 as flag in Circle Fitting\n",
    "[wk, zeta_k, C_k, D_k, H_w] = CircleFitting(receptance,f,1)\n",
    "\n",
    "print(\"------------------------- Peak -------------------------\")\n",
    "print(\"Natural Frequency: \", wk/2/np.pi)\n",
    "print(\"Damping Factor: \", zeta_k)\n",
    "print(\"Modal Constant: \", C_k)\n",
    "print()"
   ]
  },
  {
   "cell_type": "markdown",
   "metadata": {},
   "source": [
    "* Use the circle fit algorithm to determine the modal constants for all measured locations (=recpetance functions). Use the frequency ranges (around the peaks) determined above."
   ]
  },
  {
   "cell_type": "code",
   "execution_count": null,
   "metadata": {},
   "outputs": [],
   "source": [
    "# Build some containers to save all the fittings\n",
    "size_container = (len(peaks_idx_P05_rfft_window),24)\n",
    "\n",
    "wk_all = np.zeros(size_container, dtype = float)\n",
    "zeta_k_all = np.zeros(size_container, dtype = float)\n",
    "C_k_all = np.zeros(size_container, dtype = complex)\n",
    "D_k_all = np.zeros(size_container, dtype = complex)"
   ]
  },
  {
   "cell_type": "code",
   "execution_count": null,
   "metadata": {},
   "outputs": [],
   "source": [
    "# Lets do it for the first point\n",
    "# ------------------------------\n",
    "#     - [0,15] -> 1,2,7,8,23,24\n",
    "#     - [0,31] -> rest\n",
    "indexi = np.array([1,2,7,8,23,24])\n",
    "k = 0\n",
    "\n",
    "for i in range(1,25):\n",
    "    if i in indexi:\n",
    "        fRange = range(0,15)\n",
    "    else:\n",
    "        fRange = range(0,31)\n",
    "        \n",
    "    Pi_receptance = rfft(data[:,i+1]*W)/rfft(data[:,1]*W)\n",
    "    f = frequencies[fRange]\n",
    "    receptance = Pi_receptance[fRange]\n",
    "    \n",
    "    # Toggle plots ON/Off with 0 or 1 as flag in Circle Fitting\n",
    "    [wk, zeta_k, C_k, D_k, H_w] = CircleFitting(receptance,f,0)\n",
    "    \n",
    "    wk_all[k,i-1] = wk\n",
    "    zeta_k_all[k,i-1] = zeta_k\n",
    "    C_k_all[k,i-1] = C_k\n",
    "    D_k_all[k,i-1] = D_k\n",
    "    \n",
    "#     print(\"------------------------- Point \" + str(i) + \"-------------------------\")\n",
    "#     print(\"Natural Frequency: \", wk/2/np.pi)\n",
    "#     print(\"Damping Factor: \", zeta_k)\n",
    "#     print(\"Modal Constant: \", C_k)\n",
    "#     print()"
   ]
  },
  {
   "cell_type": "code",
   "execution_count": null,
   "metadata": {},
   "outputs": [],
   "source": [
    "# Lets do it for the Second point\n",
    "# ------------------------------\n",
    "#     - [31,70] -> 3,9,10,15,21,22\n",
    "#     - [31,150] -> rest\n",
    "indexi = np.array([3,9,10,15,21,22])\n",
    "k = 1\n",
    "\n",
    "for i in range(1,25):\n",
    "    if i in indexi:\n",
    "        fRange = range(31,70)\n",
    "    else:\n",
    "        fRange = range(31,150)\n",
    "        \n",
    "    Pi_receptance = rfft(data[:,i+1]*W)/rfft(data[:,1]*W)\n",
    "    f = frequencies[fRange]\n",
    "    receptance = Pi_receptance[fRange]\n",
    "    \n",
    "    # Toggle plots ON/Off with 0 or 1 as flag in Circle Fitting\n",
    "    [wk, zeta_k, C_k, D_k, H_w] = CircleFitting(receptance,f,0)\n",
    "    \n",
    "    wk_all[k,i-1] = wk\n",
    "    zeta_k_all[k,i-1] = zeta_k\n",
    "    C_k_all[k,i-1] = C_k\n",
    "    D_k_all[k,i-1] = D_k\n",
    "    \n",
    "#     print(\"------------------------- Point \" + str(i) + \"-------------------------\")\n",
    "#     print(\"Natural Frequency: \", wk/2/np.pi)\n",
    "#     print(\"Damping Factor: \", zeta_k)\n",
    "#     print(\"Modal Constant: \", C_k)\n",
    "#     print()"
   ]
  },
  {
   "cell_type": "code",
   "execution_count": null,
   "metadata": {},
   "outputs": [],
   "source": [
    "# Lets do it for the Third point\n",
    "# ------------------------------\n",
    "# [151,230] -> all\n",
    "fRange = range(151,230)\n",
    "k = 2\n",
    "\n",
    "for i in range(1,25):         \n",
    "    Pi_receptance = rfft(data[:,i+1]*W)/rfft(data[:,1]*W)\n",
    "    f = frequencies[fRange]\n",
    "    receptance = Pi_receptance[fRange]\n",
    "    \n",
    "    # Toggle plots ON/Off with 0 or 1 as flag in Circle Fitting\n",
    "    [wk, zeta_k, C_k, D_k, H_w] = CircleFitting(receptance,f,0)\n",
    "    \n",
    "    wk_all[k,i-1] = wk\n",
    "    zeta_k_all[k,i-1] = zeta_k\n",
    "    C_k_all[k,i-1] = C_k\n",
    "    D_k_all[k,i-1] = D_k\n",
    "    \n",
    "#     print(\"------------------------- Point \" + str(i) + \"-------------------------\")\n",
    "#     print(\"Natural Frequency: \", wk/2/np.pi)\n",
    "#     print(\"Damping Factor: \", zeta_k)\n",
    "#     print(\"Modal Constant: \", C_k)\n",
    "#     print()"
   ]
  },
  {
   "cell_type": "code",
   "execution_count": null,
   "metadata": {},
   "outputs": [],
   "source": [
    "# Lets do it for the Fourth point\n",
    "# ------------------------------\n",
    "# [240,262] -> 2,3,6,7,10,11,14,15,18,19,22\n",
    "# [231,262] -> rest\n",
    "# [240,255] -> 23\n",
    "indexi = np.array([2,3,6,7,10,11,14,15,18,19,22])\n",
    "indexii = np.array([23])\n",
    "k = 3\n",
    "\n",
    "for i in range(1,25):\n",
    "    if i in indexi:\n",
    "        fRange = range(240,262)\n",
    "    elif i in indexii:\n",
    "        fRange = range(240,255)\n",
    "    else:\n",
    "        fRange = range(231,262)\n",
    "    \n",
    "    Pi_receptance = rfft(data[:,i+1]*W)/rfft(data[:,1]*W)\n",
    "    f = frequencies[fRange]\n",
    "    receptance = Pi_receptance[fRange]\n",
    "    \n",
    "    # Toggle plots ON/Off with 0 or 1 as flag in Circle Fitting\n",
    "    [wk, zeta_k, C_k, D_k, H_w] = CircleFitting(receptance,f,0)\n",
    "    \n",
    "    wk_all[k,i-1] = wk\n",
    "    zeta_k_all[k,i-1] = zeta_k\n",
    "    C_k_all[k,i-1] = C_k\n",
    "    D_k_all[k,i-1] = D_k\n",
    "    \n",
    "#     print(\"------------------------- Point \" + str(i) + \"-------------------------\")\n",
    "#     print(\"Natural Frequency: \", wk/2/np.pi)\n",
    "#     print(\"Damping Factor: \", zeta_k)\n",
    "#     print(\"Modal Constant: \", C_k)\n",
    "#     print()"
   ]
  },
  {
   "cell_type": "code",
   "execution_count": null,
   "metadata": {},
   "outputs": [],
   "source": [
    "# Lets do it for the fifth point\n",
    "# ------------------------------\n",
    "#     - [262,280] -> 3,22\n",
    "#     - [262,350] -> rest\n",
    "indexi = np.array([3,22])\n",
    "k = 4\n",
    "\n",
    "for i in range(1,25):\n",
    "    if i in indexi:\n",
    "        fRange = range(262,280)\n",
    "    else:\n",
    "        fRange = range(262,350)\n",
    "\n",
    "    Pi_receptance = rfft(data[:,i+1]*W)/rfft(data[:,1]*W)\n",
    "    f = frequencies[fRange]\n",
    "    receptance = Pi_receptance[fRange]\n",
    "    \n",
    "    # Toggle plots ON/Off with 0 or 1 as flag in Circle Fitting\n",
    "    [wk, zeta_k, C_k, D_k, H_w] = CircleFitting(receptance,f,0)\n",
    "    \n",
    "    wk_all[k,i-1] = wk\n",
    "    zeta_k_all[k,i-1] = zeta_k\n",
    "    C_k_all[k,i-1] = C_k\n",
    "    D_k_all[k,i-1] = D_k\n",
    "    \n",
    "#     print(\"------------------------- Point \" + str(i) + \"-------------------------\")\n",
    "#     print(\"Natural Frequency: \", wk/2/np.pi)\n",
    "#     print(\"Damping Factor: \", zeta_k)\n",
    "#     print(\"Modal Constant: \", C_k)\n",
    "#     print()"
   ]
  },
  {
   "cell_type": "markdown",
   "metadata": {},
   "source": [
    "* Do the natural frequecies and damping factors obtained from different transfer functions differ?"
   ]
  },
  {
   "cell_type": "code",
   "execution_count": null,
   "metadata": {},
   "outputs": [],
   "source": [
    "# Plot wks\n",
    "index = np.arange(1,25)\n",
    "\n",
    "plt.figure(figsize = [15,17])\n",
    "\n",
    "plt.subplot(3,2,1)\n",
    "plt.bar(index, wk_all[0,:])\n",
    "plt.xlabel('measurement point')\n",
    "plt.ylabel('freuqency [rad/s]')\n",
    "plt.title('Natural Frequency: 1')\n",
    "plt.yscale('log')\n",
    "\n",
    "plt.subplot(3,2,2)\n",
    "plt.bar(index, wk_all[1,:])\n",
    "plt.xlabel('measurement point')\n",
    "plt.ylabel('freuqency [rad/s]')\n",
    "plt.title('Natural Frequency: 2')\n",
    "plt.yscale('log')\n",
    "\n",
    "plt.subplot(3,2,3)\n",
    "plt.bar(index, wk_all[2,:])\n",
    "plt.xlabel('measurement point')\n",
    "plt.ylabel('freuqency [rad/s]')\n",
    "plt.title('Natural Frequency: 3')\n",
    "plt.yscale('log')\n",
    "\n",
    "plt.subplot(3,2,4)\n",
    "plt.bar(index, wk_all[3,:])\n",
    "plt.xlabel('measurement point')\n",
    "plt.ylabel('freuqency [rad/s]')\n",
    "plt.title('Natural Frequency: 4')\n",
    "plt.yscale('log')\n",
    "\n",
    "plt.subplot(3,2,5)\n",
    "plt.bar(index, wk_all[4,:])\n",
    "plt.xlabel('measurement point')\n",
    "plt.ylabel('freuqency [rad/s]')\n",
    "plt.title('Natural Frequency: 5')\n",
    "plt.yscale('log')\n",
    "\n",
    "plt.show()"
   ]
  },
  {
   "cell_type": "code",
   "execution_count": null,
   "metadata": {},
   "outputs": [],
   "source": [
    "# Plot damping factors\n",
    "index = np.arange(1,25)\n",
    "\n",
    "plt.figure(figsize = [15,17])\n",
    "\n",
    "plt.subplot(3,2,1)\n",
    "plt.bar(index, zeta_k_all[0,:])\n",
    "plt.xlabel('measurement point')\n",
    "plt.ylabel('damping factor')\n",
    "plt.title('Natural Frequency: 1')\n",
    "# plt.yscale('log')\n",
    "\n",
    "plt.subplot(3,2,2)\n",
    "plt.bar(index, zeta_k_all[1,:])\n",
    "plt.xlabel('measurement point')\n",
    "plt.ylabel('damping factor')\n",
    "plt.title('Natural Frequency: 2')\n",
    "# plt.yscale('log')\n",
    "\n",
    "plt.subplot(3,2,3)\n",
    "plt.bar(index, zeta_k_all[2,:])\n",
    "plt.xlabel('measurement point')\n",
    "plt.ylabel('damping factor')\n",
    "plt.title('Natural Frequency: 3')\n",
    "# plt.yscale('log')\n",
    "\n",
    "plt.subplot(3,2,4)\n",
    "plt.bar(index, zeta_k_all[3,:])\n",
    "plt.xlabel('measurement point')\n",
    "plt.ylabel('damping factor')\n",
    "plt.title('Natural Frequency: 4')\n",
    "# plt.yscale('log')\n",
    "\n",
    "plt.subplot(3,2,5)\n",
    "plt.bar(index, zeta_k_all[4,:])\n",
    "plt.xlabel('measurement point')\n",
    "plt.ylabel('damping factor')\n",
    "plt.title('Natural Frequency: 5')\n",
    "# plt.yscale('log')\n",
    "\n",
    "plt.show()"
   ]
  },
  {
   "cell_type": "markdown",
   "metadata": {},
   "source": [
    "* Use the moda parameters obtained via the circle fit to estimate the drive point recepance. Plot the measured repeptance, the single dregree of freedom estimates from the circle fit, as well as their sum (all in one plot to compare)."
   ]
  },
  {
   "cell_type": "code",
   "execution_count": null,
   "metadata": {},
   "outputs": [],
   "source": [
    "# Drive-Point --> P05 --> index 4\n",
    "max_idx = np.abs(frequencies-100).argmin();\n",
    "w = frequencies[0:max_idx]*2*np.pi\n",
    "H_w_sum = np.zeros_like(frequencies[0:max_idx], dtype = 'complex')\n",
    "\n",
    "plt.figure(figsize = [15,7])\n",
    "for i, wk in enumerate(wk_all[:,4]):\n",
    "    H_w = C_k_all[i,4]/(wk**2 - w*w + 2*1j*wk*zeta_k_all[i,4]*w) +  D_k_all[i,4]\n",
    "    H_w_sum = H_w_sum + H_w\n",
    " \n",
    "    plt.plot(frequencies[0:max_idx],np.abs(H_w),label = 'Natural Frequency ' + str(i))\n",
    "plt.xlim([0,100])\n",
    "plt.ylabel('abs(H(w))')\n",
    "plt.grid()\n",
    "plt.legend()\n",
    "plt.show()\n",
    "\n",
    "# Plot Measurement and sum of ours\n",
    "# shift = 22\n",
    "shift = 0\n",
    "plt.figure(figsize = [15,7])\n",
    "plt.plot(frequencies[0:max_idx],np.abs(H_w_sum)-shift, label = 'circle fitted receptance')\n",
    "plt.plot(frequencies[0:max_idx],np.abs(P05_receptance[0:max_idx]), label = 'measured receptance')\n",
    "plt.xlim([0,100])\n",
    "plt.grid()\n",
    "plt.ylabel('abs(H(w))')\n",
    "plt.xlabel('frequency [Hz]')\n",
    "plt.legend()\n",
    "plt.show()"
   ]
  },
  {
   "cell_type": "markdown",
   "metadata": {},
   "source": [
    "## Task 2: Compute the Mode Shapes\n",
    "\n",
    "Having obtained natural frequencies and damping factors, from peak-picking (maximum maplitude, quadrature component, ...) use the recepance curves to determine the modal constants and mode shapes.\n",
    "The mode shapes will be complex valued in ganeral (due to the damping present in the system). As the are complex-valued you can display them as real/imaginary part, or absolute value and phase. Try both!"
   ]
  },
  {
   "cell_type": "code",
   "execution_count": null,
   "metadata": {},
   "outputs": [],
   "source": [
    "def plotmode2d(v,x,y,lim=None) :\n",
    "    \"\"\"plots a mode v defined at the points (x,y)\"\"\"\n",
    "    if lim==None:\n",
    "        lim = np.max(np.abs(v))\n",
    "    plt.tricontourf(x,y,v,cmap=plt.get_cmap('RdBu_r'),vmin=-lim,vmax=lim)\n",
    "#     plt.set_aspect('equal')\n",
    "    plt.xticks([])\n",
    "    plt.yticks([])\n",
    "    #fig.tight_layout()"
   ]
  },
  {
   "cell_type": "markdown",
   "metadata": {},
   "source": [
    "* Compute and plot the mode shapes from the peak-picking procedure"
   ]
  },
  {
   "cell_type": "code",
   "execution_count": null,
   "metadata": {},
   "outputs": [],
   "source": [
    "coordinates = loadtxt('measurement-coordinates.txt')\n",
    "\n",
    "Mode_shapes_peakpicking = np.zeros((24,5),dtype= complex)\n",
    "\n",
    "for k in range(0,5):\n",
    "    H_ai = np.zeros(24, dtype = 'complex')\n",
    "    zeta_k = Damping_factor[k]\n",
    "    wk = 2*np.pi*frequencies[peaks_idx_P05_rfft_window[k]]\n",
    "\n",
    "    for i in range(0,24):\n",
    "        a = rfft(data[:,i+2]*W)/rfft(data[:,1]*W)\n",
    "        H_ai[i] = a[peaks_idx_P05_rfft_window[k]]\n",
    "\n",
    "    C = H_ai*2*1j*wk**2\n",
    "\n",
    "    vak = np.sqrt(2*1j*zeta_k*wk**2*P05_receptance[peaks_idx_P05_rfft_window[k]])\n",
    "    \n",
    "    vbk = C/vak\n",
    "    Mode_shapes_peakpicking[:,k]= vbk\n",
    "    \n",
    "    plt.figure(figsize=[15,7])\n",
    "    plt.subplot(2,2,1)\n",
    "    plotmode2d(np.abs(vbk),coordinates[:,1],coordinates[:,2])\n",
    "    plt.title('Mode %i @ %f Hz'%(k+1,frequencies[peaks_idx_P05_rfft_window[k]]))\n",
    "    \n",
    "    plt.subplot(2,2,2)\n",
    "    plotmode2d(np.angle(vbk),coordinates[:,1],coordinates[:,2])\n",
    "    plt.title('Mode %i Phase'%(k+1))\n",
    "    \n",
    "    plt.subplot(2,2,3)\n",
    "    plotmode2d(np.real(vbk),coordinates[:,1],coordinates[:,2])\n",
    "    plt.title('Mode %i Real'%(k+1))\n",
    "    \n",
    "    plt.subplot(2,2,4)\n",
    "    plotmode2d(np.imag(vbk),coordinates[:,1],coordinates[:,2])\n",
    "    plt.title('Mode %i Imaginary'%(k+1))"
   ]
  },
  {
   "cell_type": "markdown",
   "metadata": {},
   "source": [
    "* Compute and plot the modes from circle fitting"
   ]
  },
  {
   "cell_type": "code",
   "execution_count": null,
   "metadata": {},
   "outputs": [],
   "source": [
    "Mode_shapes_circle = np.zeros((24,5),dtype = complex)\n",
    "\n",
    "for i in range(0,5):\n",
    "    vbk_circle = C_k_all[i,:]/np.sqrt(C_k_all[i,4])\n",
    "    Mode_shapes_circle[:,i]= vbk_circle\n",
    "    \n",
    "    plt.figure(figsize=[15,7])\n",
    "    plt.subplot(2,2,1)\n",
    "    plotmode2d(np.abs(vbk_circle),coordinates[:,1],coordinates[:,2])\n",
    "    plt.title('Mode %i @ %f Hz'%(i+1,np.mean(wk_all[i,:]/2/pi)))\n",
    "    \n",
    "    plt.subplot(2,2,2)\n",
    "    plotmode2d(np.angle(vbk_circle),coordinates[:,1],coordinates[:,2])\n",
    "    plt.title('Mode %i Phase'%(i+1))\n",
    "    \n",
    "    plt.subplot(2,2,3)\n",
    "    plotmode2d(np.real(vbk_circle),coordinates[:,1],coordinates[:,2])\n",
    "    plt.title('Mode %i Real'%(i+1))\n",
    "    \n",
    "    plt.subplot(2,2,4)\n",
    "    plotmode2d(np.imag(vbk_circle),coordinates[:,1],coordinates[:,2])\n",
    "    plt.title('Mode %i Imaginary'%(i+1))"
   ]
  },
  {
   "cell_type": "markdown",
   "metadata": {},
   "source": [
    "* animate selected mode shapes. What do you observe?"
   ]
  },
  {
   "cell_type": "code",
   "execution_count": null,
   "metadata": {},
   "outputs": [],
   "source": [
    "import matplotlib.animation as animation\n",
    "from mpl_toolkits.mplot3d import Axes3D\n",
    "from matplotlib import cm\n",
    "\n",
    "def giveMeAnimation(v,coordinates,whatTOdo,modenumber):\n",
    "    plt.rcParams[\"animation.html\"] = \"jshtml\"\n",
    "    \n",
    "    x = coordinates[:,1]\n",
    "    y = coordinates[:,2]\n",
    "    z = v\n",
    "\n",
    "    x = np.reshape(x,(4,6))\n",
    "    y = np.reshape(y,(4,6))\n",
    "    z = np.reshape(z,(4,6))\n",
    "\n",
    "    #------------------------------------------------------------\n",
    "    # set up figure and animation\n",
    "    fig = plt.figure()\n",
    "    ax = fig.add_subplot(111, projection='3d')\n",
    "    sc = ax.plot_surface(x,y,z)\n",
    "    \n",
    "    def animate(i):\n",
    "        # scale factor for plotting\n",
    "        s = np.sin(1/25*2*np.pi*i)\n",
    "        Vs = z*s # sinusoidal scaled modeshape vector\n",
    "        \n",
    "        ax.clear()\n",
    "        sc = ax.plot_surface(x,y,Vs,cmap=cm.brg,linewidth=0, antialiased=False)\n",
    "        ax.set_xlabel('x')\n",
    "        ax.set_ylabel('y')\n",
    "        ax.set_zlabel('z')\n",
    "        ax.set_zlim([-z.max(),z.max()])\n",
    "        ax.set_title(\"Mode: %i\" %(modenumber))\n",
    "\n",
    "        return sc\n",
    "\n",
    "    ani = animation.FuncAnimation(fig, animate, frames=50,\n",
    "                                  interval=100)\n",
    "\n",
    "    # # save the animation as an mp4.  This requires ffmpeg or mencoder to be\n",
    "    # # installed.  The extra_args ensure that the x264 codec is used, so that\n",
    "    # # the video can be embedded in html5.  You may need to adjust this for\n",
    "    # # your system: for more information, see\n",
    "    # # http://matplotlib.sourceforge.net/api/animation_api.html\n",
    "    \n",
    "    if whatTOdo == 'Save' :\n",
    "        ani.save('modalanalyse_mode_' + str(i) + '.mp4', fps=30, extra_args=['-vcodec', 'libx264'])\n",
    "    elif whatTOdo == 'justShow':\n",
    "        plt.close()\n",
    "        return ani"
   ]
  },
  {
   "cell_type": "code",
   "execution_count": null,
   "metadata": {},
   "outputs": [],
   "source": [
    "giveMeAnimation(np.abs(Mode_shapes_peakpicking[:,0]),coordinates,'justShow',1)"
   ]
  },
  {
   "cell_type": "code",
   "execution_count": null,
   "metadata": {},
   "outputs": [],
   "source": [
    "giveMeAnimation(np.abs(Mode_shapes_peakpicking[:,1]),coordinates,'justShow',2)"
   ]
  },
  {
   "cell_type": "code",
   "execution_count": null,
   "metadata": {},
   "outputs": [],
   "source": [
    "giveMeAnimation(np.abs(Mode_shapes_peakpicking[:,2]),coordinates,'justShow',3)"
   ]
  },
  {
   "cell_type": "code",
   "execution_count": null,
   "metadata": {},
   "outputs": [],
   "source": [
    "giveMeAnimation(np.abs(Mode_shapes_peakpicking[:,3]),coordinates,'justShow',4)"
   ]
  },
  {
   "cell_type": "code",
   "execution_count": null,
   "metadata": {},
   "outputs": [],
   "source": [
    "giveMeAnimation(np.abs(Mode_shapes_peakpicking[:,4]),coordinates,'justShow',5)"
   ]
  },
  {
   "cell_type": "code",
   "execution_count": null,
   "metadata": {},
   "outputs": [],
   "source": [
    "giveMeAnimation(np.abs(Mode_shapes_circle[:,0]),coordinates,'justShow',1)"
   ]
  },
  {
   "cell_type": "code",
   "execution_count": null,
   "metadata": {},
   "outputs": [],
   "source": [
    "giveMeAnimation(np.abs(Mode_shapes_circle[:,1]),coordinates,'justShow',2)"
   ]
  },
  {
   "cell_type": "code",
   "execution_count": null,
   "metadata": {},
   "outputs": [],
   "source": [
    "giveMeAnimation(np.abs(Mode_shapes_circle[:,2]),coordinates,'justShow',3)"
   ]
  },
  {
   "cell_type": "code",
   "execution_count": null,
   "metadata": {},
   "outputs": [],
   "source": [
    "giveMeAnimation(np.abs(Mode_shapes_circle[:,3]),coordinates,'justShow',4)"
   ]
  },
  {
   "cell_type": "code",
   "execution_count": null,
   "metadata": {},
   "outputs": [],
   "source": [
    "giveMeAnimation(np.abs(Mode_shapes_circle[:,4]),coordinates,'justShow',5)"
   ]
  },
  {
   "cell_type": "markdown",
   "metadata": {},
   "source": [
    "## Ibrahim Time Domain Method\n",
    "\n",
    "Implement the Ibrahim Time Domain method to use it on the data from the impact hammer experiemnt.\n",
    "Since the ITD operates on the free oscillation response in terms of the degrees of freedom (displacements in our case) you need to either compute the impulse respone from the accelerance using an inverse FFT or use the provided displacement data in `measurement-ITD.txt`."
   ]
  },
  {
   "cell_type": "markdown",
   "metadata": {},
   "source": [
    "* implement the ITD alogithm. Use the following skeleton\n",
    "\n",
    "```python\n",
    "def ITD(D,dt=1.0,n1=1,n3=17,tol=1.0):\n",
    "    \"\"\"Ibrahim time domain identification alogithm\n",
    "    \n",
    "    Parameters\n",
    "    ----------\n",
    "    D : array(N,M)\n",
    "        matrix containing data at N measurement positions\n",
    "        time sampled at M times\n",
    "    dt : float\n",
    "        sampling interval\n",
    "    n1 : int\n",
    "        number samples to shift between measurement matrix X1 and\n",
    "        its time shifted companion X2\n",
    "    n3 : int\n",
    "        number samples to shift between upper and lower part of\n",
    "        X1 and X2, respectively\n",
    "    tol : float\n",
    "        tolerance for the MSCCF used to sort out computational modes.\n",
    "        only modes abs(MSCCF-1)<tol are returned. \n",
    "        \n",
    "    Returns\n",
    "    -------\n",
    "    lam : array(K)\n",
    "        identified eigenvalues, only positive frequencies are returned\n",
    "    V : array(N,K)\n",
    "        corresponding eigenvectors\n",
    "    MSCCF : array(K)\n",
    "        the mode shape correlation and confidence factor\n",
    "    \"\"\"\n",
    "    \n",
    "    # 1) determine which samples should be selected in X1 and X2\n",
    "    Nt = D.shape[1]\n",
    "    It1 = arange(0,Nt-n3-n1,1)\n",
    "    # 2) select samples from data matrix\n",
    "    X1u = D[:,It1] # upper part\n",
    "    X1l = D[:,It1+n3] # lower part (shifted by n3 samples)\n",
    "    X2u = D[:,It1+n1] # time shifted companion (shifted by n1 samples)\n",
    "    X2l = D[:,It1+n1+n3]\n",
    "    # 3) assmble X1 and X2\n",
    "    # 4) compute A: use a robust inverse like numpy's linalg.pinv, or solve linear systems\n",
    "    # 5) solve eigenvalue problem\n",
    "    # 6) convert eigenvalues\n",
    "    # 7) compute MSCCF and choose what to return\n",
    "    \n",
    "    return lam, V\n",
    "```"
   ]
  },
  {
   "cell_type": "code",
   "execution_count": null,
   "metadata": {},
   "outputs": [],
   "source": []
  },
  {
   "cell_type": "markdown",
   "metadata": {},
   "source": [
    "* use the ITD to identify modes from the impulse response. Choose what data to take (which time range is useful?), and what sampling parameters are suitable. Plot the input data over time (all signals in one plot)."
   ]
  },
  {
   "cell_type": "code",
   "execution_count": null,
   "metadata": {},
   "outputs": [],
   "source": []
  },
  {
   "cell_type": "markdown",
   "metadata": {},
   "source": [
    "* plot the obtained modes and give their natural frequencies, damping factors, and MSCCFs."
   ]
  },
  {
   "cell_type": "code",
   "execution_count": null,
   "metadata": {},
   "outputs": [],
   "source": []
  },
  {
   "cell_type": "code",
   "execution_count": null,
   "metadata": {},
   "outputs": [],
   "source": []
  },
  {
   "cell_type": "markdown",
   "metadata": {},
   "source": [
    "## Compare mode shapes\n",
    "\n",
    "Use the MAC / MSF to compare your identified modes with the deformation modes of the free-free plate."
   ]
  },
  {
   "cell_type": "code",
   "execution_count": null,
   "metadata": {},
   "outputs": [],
   "source": []
  },
  {
   "cell_type": "markdown",
   "metadata": {},
   "source": [
    "* Compute the free-free modes and interpolate/evaluate them at the measurement locations."
   ]
  },
  {
   "cell_type": "code",
   "execution_count": null,
   "metadata": {},
   "outputs": [],
   "source": []
  },
  {
   "cell_type": "markdown",
   "metadata": {},
   "source": [
    "* Compute the MAC-matrix between the \"experimental\" modes from peak-picking and the \"numeric\" free-free modes. Plot the matrix and ude it to identify the best-fitting \"experimental\" mode for each \"numeric\" deformation mode."
   ]
  },
  {
   "cell_type": "code",
   "execution_count": null,
   "metadata": {},
   "outputs": [],
   "source": []
  },
  {
   "cell_type": "markdown",
   "metadata": {},
   "source": [
    "* Plot the mode shapes of the correlated mode pair to check. Do the frequencies match? Which threshold value of the MAC is suitable to select \"correlated\" modes?"
   ]
  },
  {
   "cell_type": "code",
   "execution_count": null,
   "metadata": {},
   "outputs": [],
   "source": []
  },
  {
   "cell_type": "markdown",
   "metadata": {},
   "source": [
    "* Do the same for the modes from circle fitting. Mark the impact location in the plots. Give frequencies and damping ratios, as well as absolute value and phase of the MSF between \"numeric\" and \"experimental\" modes."
   ]
  },
  {
   "cell_type": "code",
   "execution_count": null,
   "metadata": {},
   "outputs": [],
   "source": []
  },
  {
   "cell_type": "markdown",
   "metadata": {},
   "source": [
    "* Do the same for the modes form the ITD"
   ]
  },
  {
   "cell_type": "code",
   "execution_count": null,
   "metadata": {},
   "outputs": [],
   "source": []
  }
 ],
 "metadata": {
  "kernelspec": {
   "display_name": "Python 3",
   "language": "python",
   "name": "python3"
  },
  "language_info": {
   "codemirror_mode": {
    "name": "ipython",
    "version": 3
   },
   "file_extension": ".py",
   "mimetype": "text/x-python",
   "name": "python",
   "nbconvert_exporter": "python",
   "pygments_lexer": "ipython3",
   "version": "3.7.4"
  }
 },
 "nbformat": 4,
 "nbformat_minor": 2
}
