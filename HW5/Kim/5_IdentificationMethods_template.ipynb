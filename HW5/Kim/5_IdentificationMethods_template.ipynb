{
 "cells": [
  {
   "cell_type": "code",
   "execution_count": null,
   "metadata": {},
   "outputs": [],
   "source": [
    "import numpy as np\n",
    "from scipy.io import mminfo,mmread\n",
    "import matplotlib.pyplot as plt\n",
    "%matplotlib inline\n",
    "\n",
    "from scipy.linalg import eig\n",
    "from numpy import sqrt, dot, sum, abs, diag, array, pi\n",
    "from scipy import sparse\n",
    "\n",
    "from numpy.fft import rfft, rfftfreq"
   ]
  },
  {
   "cell_type": "markdown",
   "metadata": {},
   "source": [
    "Exercise 5 - Identification Techniques\n",
    "===============================\n",
    "\n",
    "This exercise is focused on identifying modal parameters from experiments.\n",
    "\n",
    "Measurement data from a numerical impact hammer experiment on the plate supported by flexible springs is provided\n",
    "in the file `measurement.txt`.\n",
    "Time histories of acceleration at 24 points and of the force at the impact point were measured.\n",
    "The point-coordinates are given in `measurement-coordinates.txt`.\n",
    "\n",
    "You can load the data with\n",
    "```python\n",
    "from numpy import loadtxt\n",
    "data = loadtxt('measurement.txt')\n",
    "```"
   ]
  },
  {
   "cell_type": "code",
   "execution_count": null,
   "metadata": {},
   "outputs": [],
   "source": [
    "from numpy import loadtxt\n",
    "data = loadtxt('measurement.txt')"
   ]
  },
  {
   "cell_type": "markdown",
   "metadata": {},
   "source": [
    "* Plot the time history for the force as well as its frequency spectrum."
   ]
  },
  {
   "cell_type": "code",
   "execution_count": null,
   "metadata": {},
   "outputs": [],
   "source": [
    "t = data[:,0] #Time vector\n",
    "F = data[:,1] #Force vector"
   ]
  },
  {
   "cell_type": "code",
   "execution_count": null,
   "metadata": {},
   "outputs": [],
   "source": [
    "plt.figure(figsize = [15,5])\n",
    "plt.plot(t,F,label = 'F(t)')\n",
    "plt.xlabel('t, in s')\n",
    "plt.ylabel('F, in N')\n",
    "plt.title('Applied Force')\n",
    "plt.xlim([0,0.1])\n",
    "plt.legend()\n",
    "plt.grid()"
   ]
  },
  {
   "cell_type": "code",
   "execution_count": null,
   "metadata": {},
   "outputs": [],
   "source": [
    "frequencies = rfftfreq(len(t),t[1] - t[0])\n",
    "F_rfft = rfft(F)"
   ]
  },
  {
   "cell_type": "markdown",
   "metadata": {},
   "source": [
    "* Plot the measured acceleration time histories and frequency spectra for the 4 corner points and the drive point (where the force is applied). Make sure to select appropriate time and frequency limits to only show useful data."
   ]
  },
  {
   "cell_type": "code",
   "execution_count": null,
   "metadata": {},
   "outputs": [],
   "source": [
    "plt.figure(figsize = [15,10])\n",
    "plt.xlabel('t, in s')\n",
    "plt.ylabel('a, in m/s^2')\n",
    "plt.title('Acceleration time histories')\n",
    "plt.xlim([0,1])\n",
    "\n",
    "for i in range(2,26) :\n",
    "    plt.plot(t,data[:,i],label = 'a' + str(i-1))\n",
    "    \n",
    "plt.legend(loc = 1)\n",
    "plt.grid()"
   ]
  },
  {
   "cell_type": "markdown",
   "metadata": {},
   "source": [
    "Now we calculate the frequeny spectra of the 4 corner points. Form the Numerical Experiment Jupyter Notebook we acquire following information:\n",
    " * **P01** - Left lower corner\n",
    " * **P06** - Right lower corner\n",
    " * **P19** - Left top corner\n",
    " * **P24** - Right top corner\n",
    " \n",
    "For the injection point of the force: **P05**"
   ]
  },
  {
   "cell_type": "code",
   "execution_count": null,
   "metadata": {},
   "outputs": [],
   "source": [
    "PO1_rfft = rfft(data[:,2])\n",
    "PO6_rfft = rfft(data[:,7])\n",
    "P19_rfft = rfft(data[:,20])\n",
    "P24_rfft = rfft(data[:,25])\n",
    "\n",
    "P05_rfft = rfft(data[:,6])"
   ]
  },
  {
   "cell_type": "markdown",
   "metadata": {},
   "source": [
    "Now let's plot the frequency spectra"
   ]
  },
  {
   "cell_type": "code",
   "execution_count": null,
   "metadata": {},
   "outputs": [],
   "source": [
    "plt.figure(figsize = [15,7])\n",
    "\n",
    "plt.semilogy(frequencies,np.abs(PO1_rfft), label='PO1_rfft')\n",
    "plt.semilogy(frequencies,np.abs(PO6_rfft), label='PO6_rfft')\n",
    "plt.semilogy(frequencies,np.abs(P19_rfft), label='P19_rfft')\n",
    "plt.semilogy(frequencies,np.abs(P24_rfft), label='P24_rfft')\n",
    "plt.semilogy(frequencies,np.abs(P05_rfft), label='P05_rfft')\n",
    "\n",
    "plt.ylabel('a [m/s^2]')\n",
    "plt.xlabel('Frequency [Hz]')\n",
    "plt.xlim(1,300)\n",
    "plt.title('Frequency Spectra')\n",
    "plt.legend()\n",
    "plt.grid()"
   ]
  },
  {
   "cell_type": "markdown",
   "metadata": {},
   "source": [
    "* Compute the accelerance and plot it for the drive point. \n",
    "\n",
    "Make sure to apply a suitable window to the data, to counteract the effect of poor signal to noise ratio in parts of the singal.\n",
    "For decaying signal a decaring exponential window is suitable, e.g. use\n",
    "```python\n",
    "from scipy.signal import windows\n",
    "frac = 1e-3 # choose something useful\n",
    "W = windows.exponential(len(t), 0, -(len(t)-1) / np.log(frac), False)\n",
    "```\n",
    "Multiply the window to the data, before you do the FFT.\n"
   ]
  },
  {
   "cell_type": "code",
   "execution_count": null,
   "metadata": {},
   "outputs": [],
   "source": [
    "from scipy.signal import windows\n",
    "frac = 5e-3 # choose something useful\n",
    "W = windows.exponential(len(t), 0, -(len(t)-1) / np.log(frac), False)"
   ]
  },
  {
   "cell_type": "markdown",
   "metadata": {},
   "source": [
    "Let's first compare for one point how the window function influences the acceleration"
   ]
  },
  {
   "cell_type": "code",
   "execution_count": null,
   "metadata": {},
   "outputs": [],
   "source": [
    "plt.figure(figsize = [15,5])\n",
    "plt.plot(t,data[:,6]*W, label = \"P01_window\")\n",
    "plt.plot(t,data[:,6], label = \"P01\")\n",
    "plt.xlabel('t, in s')\n",
    "plt.ylabel('P01, in m/sec^2')\n",
    "plt.xlim([0,1])\n",
    "plt.legend()\n",
    "plt.grid()"
   ]
  },
  {
   "cell_type": "code",
   "execution_count": null,
   "metadata": {},
   "outputs": [],
   "source": [
    "PO1_rfft_window = rfft(data[:,2]*W)\n",
    "PO6_rfft_window = rfft(data[:,7]*W)\n",
    "P19_rfft_window = rfft(data[:,20]*W)\n",
    "P24_rfft_window = rfft(data[:,25]*W)\n",
    "\n",
    "P05_rfft_window = rfft(data[:,6]*W)"
   ]
  },
  {
   "cell_type": "code",
   "execution_count": null,
   "metadata": {},
   "outputs": [],
   "source": [
    "plt.figure(figsize = [15,7])\n",
    "\n",
    "plt.semilogy(frequencies,np.abs(PO1_rfft_window), label='PO1_rfft_window')\n",
    "plt.semilogy(frequencies,np.abs(PO6_rfft_window), label='PO6_rfft_window')\n",
    "plt.semilogy(frequencies,np.abs(P19_rfft_window), label='P19_rfft_window')\n",
    "plt.semilogy(frequencies,np.abs(P24_rfft_window), label='P24_rfft_window')\n",
    "plt.semilogy(frequencies,np.abs(P05_rfft_window), label='P05_rfft_window')\n",
    "\n",
    "plt.ylabel('a [m/s^2]')\n",
    "plt.xlabel('Frequency [Hz]')\n",
    "plt.xlim(1,300)\n",
    "plt.title('Frequency Spectra')\n",
    "plt.legend()\n",
    "plt.grid()"
   ]
  },
  {
   "cell_type": "markdown",
   "metadata": {},
   "source": [
    "* Compute the receptance from the accelerance and plot it for the drive point."
   ]
  },
  {
   "cell_type": "code",
   "execution_count": null,
   "metadata": {},
   "outputs": [],
   "source": [
    "P05_receptance = rfft(data[:,6]*W)/rfft(data[:,1]*W)"
   ]
  },
  {
   "cell_type": "code",
   "execution_count": null,
   "metadata": {},
   "outputs": [],
   "source": [
    "plt.figure(figsize = [15,7])\n",
    "\n",
    "plt.semilogy(frequencies,np.abs(P05_receptance))\n",
    "\n",
    "plt.ylabel('a/F [m/s^2/N]')\n",
    "plt.xlabel('Frequency [Hz]')\n",
    "plt.xlim(1,300)\n",
    "plt.title('Receptance from P05/F')\n",
    "plt.grid()"
   ]
  },
  {
   "cell_type": "markdown",
   "metadata": {},
   "source": [
    "## Task1: Find Peaks in the Transfer Functions\n",
    "Use the Maximum Amplitude, Maximum Quadrature or Maximum Quadrature Component method to find all natural frequencies up to 150Hz.\n",
    "\n",
    "For low frequency peaks it might me best to look at receptance curves, wheras for high frequenies the peaks in the accelerance might be more pronounced.\n",
    "Some automatic peak finding algorithms are implemented in scipy. \n",
    "A useful and rather robust automatic peak-detection tool is the continuous wavelet transform, e.g. use\n",
    "```python\n",
    "from scipy.signal import find_peaks, find_peaks_cwt\n",
    "```\n",
    "Often the automatic selection has to be fine tuned by hand.\n",
    "\n",
    "* Use an automatic tool to detect peaks in the drive-point accelerance, and plot the found peaks.\n",
    "* Then adapt the result by hand (add shift peaks) until you have found all natural frequencies.\n",
    "* Plot the magnitude, real and imaginary part of the fransfer functions around each peak in a suitable frequency range (~10Hz) to verify the peak location: all transfer functions in one plot, one plot per part, one plot per peak"
   ]
  },
  {
   "cell_type": "code",
   "execution_count": null,
   "metadata": {},
   "outputs": [],
   "source": [
    "from scipy.signal import find_peaks, find_peaks_cwt"
   ]
  },
  {
   "cell_type": "code",
   "execution_count": null,
   "metadata": {},
   "outputs": [],
   "source": [
    "# Use an automatic tool to detect peaks in the drive-point accelerance\n",
    "peaks_idx_P05_rfft_window, _ = find_peaks(np.abs(P05_rfft_window), height=2000) # The height is set so that only realistic peaks are taken into account"
   ]
  },
  {
   "cell_type": "code",
   "execution_count": null,
   "metadata": {},
   "outputs": [],
   "source": [
    "plt.figure(figsize = [15,7])\n",
    "plt.ylabel('a [m/s^2]')\n",
    "plt.xlabel('Frequency [Hz]')\n",
    "plt.xlim(-1,151)\n",
    "plt.title('Found peaks from P05 accelerance')\n",
    "plt.grid()\n",
    "plt.plot(frequencies, np.abs(P05_rfft_window))\n",
    "plt.plot(frequencies[peaks_idx_P05_rfft_window], np.abs(P05_rfft_window)[peaks_idx_P05_rfft_window], 'x')\n",
    "plt.show()"
   ]
  },
  {
   "cell_type": "code",
   "execution_count": null,
   "metadata": {},
   "outputs": [],
   "source": [
    "# Plot the magnitude\n",
    "for i in range(0, len(peaks_idx_P05_rfft_window)):\n",
    "    \n",
    "    plt.figure(figsize = [15,7])\n",
    "    plt.semilogy(frequencies/frequencies[peaks_idx_P05_rfft_window[i]], np.abs(P05_receptance))\n",
    "    plt.ylabel('magnitude')\n",
    "    plt.xlabel('Frequency/Frequency_n [1]')\n",
    "    plt.xlim((frequencies[peaks_idx_P05_rfft_window[i]]-10)/frequencies[peaks_idx_P05_rfft_window[i]], (frequencies[peaks_idx_P05_rfft_window[i]]+10)/frequencies[peaks_idx_P05_rfft_window[i]])\n",
    "    plt.plot(frequencies[peaks_idx_P05_rfft_window]/frequencies[peaks_idx_P05_rfft_window[i]], np.abs(P05_receptance)[peaks_idx_P05_rfft_window], 'x')\n",
    "    plt.title('Point'+str(i+1))\n",
    "    plt.grid()"
   ]
  },
  {
   "cell_type": "code",
   "execution_count": null,
   "metadata": {},
   "outputs": [],
   "source": [
    "# Plot the real part\n",
    "for i in range(0, len(peaks_idx_P05_rfft_window)):\n",
    "    \n",
    "    plt.figure(figsize = [15,7])\n",
    "    plt.semilogy(frequencies/frequencies[peaks_idx_P05_rfft_window[i]], np.real(P05_receptance))\n",
    "    plt.ylabel('magnitude')\n",
    "    plt.xlabel('Frequency/Frequency_n [1]')\n",
    "    plt.xlim((frequencies[peaks_idx_P05_rfft_window[i]]-10)/frequencies[peaks_idx_P05_rfft_window[i]], (frequencies[peaks_idx_P05_rfft_window[i]]+10)/frequencies[peaks_idx_P05_rfft_window[i]])\n",
    "    plt.plot(frequencies[peaks_idx_P05_rfft_window]/frequencies[peaks_idx_P05_rfft_window[i]], np.real(P05_receptance)[peaks_idx_P05_rfft_window], 'x')\n",
    "    plt.title('Point'+str(i+1))\n",
    "    plt.grid()"
   ]
  },
  {
   "cell_type": "code",
   "execution_count": null,
   "metadata": {},
   "outputs": [],
   "source": [
    "# Plot the imaginary part\n",
    "for i in range(0, len(peaks_idx_P05_rfft_window)):\n",
    "    \n",
    "    plt.figure(figsize = [15,7])\n",
    "    plt.semilogy(frequencies/frequencies[peaks_idx_P05_rfft_window[i]], np.imag(P05_receptance))\n",
    "    plt.ylabel('magnitude')\n",
    "    plt.xlabel('Frequency/Frequency_n [1]')\n",
    "    plt.xlim((frequencies[peaks_idx_P05_rfft_window[i]]-10)/frequencies[peaks_idx_P05_rfft_window[i]], (frequencies[peaks_idx_P05_rfft_window[i]]+10)/frequencies[peaks_idx_P05_rfft_window[i]])\n",
    "    plt.plot(frequencies[peaks_idx_P05_rfft_window]/frequencies[peaks_idx_P05_rfft_window[i]], np.imag(P05_receptance)[peaks_idx_P05_rfft_window], 'x')\n",
    "    plt.title('Point'+str(i+1))\n",
    "    plt.grid()"
   ]
  },
  {
   "cell_type": "code",
   "execution_count": null,
   "metadata": {},
   "outputs": [],
   "source": [
    "frequencies[peaks_idx_P05_rfft_window]"
   ]
  },
  {
   "cell_type": "markdown",
   "metadata": {},
   "source": [
    "## Determine Damping Ratio\n",
    "Determine the damping ratio of each natural frequency from the half power width.\n",
    "Use the drive point receptance.\n",
    "\n",
    "* plot the determined half power points on the transfer function for each peak"
   ]
  },
  {
   "cell_type": "code",
   "execution_count": null,
   "metadata": {},
   "outputs": [],
   "source": [
    "half_power = np.abs(P05_receptance)/sqrt(2)\n",
    "half_power[peaks_idx_P05_rfft_window]"
   ]
  },
  {
   "cell_type": "code",
   "execution_count": null,
   "metadata": {},
   "outputs": [],
   "source": [
    "# find out to which index the half power points belong\n",
    "index_half_power = np.zeros([len(peaks_idx_P05_rfft_window), 4])\n",
    "\n",
    "for n in range(len(peaks_idx_P05_rfft_window)):\n",
    "    index_natural_frequencies = peaks_idx_P05_rfft_window[n]\n",
    "\n",
    "    for i in range(index_natural_frequencies, 0, -1):\n",
    "        if half_power[index_natural_frequencies] >= np.abs(P05_receptance)[i]:\n",
    "            index_half_power[n,0] = i\n",
    "            index_half_power[n,1] = i+1\n",
    "            break\n",
    "\n",
    "    for i in range(index_natural_frequencies, len(frequencies)+1, 1):\n",
    "        if half_power[index_natural_frequencies] >= np.abs(P05_receptance)[i]:\n",
    "            index_half_power[n,3] = i\n",
    "            index_half_power[n,2] = i-1\n",
    "            break\n",
    "\n",
    "# linear interpolation between between the values found\n",
    "freq_half_power = np.zeros([len(peaks_idx_P05_rfft_window),2])\n",
    "    \n",
    "for n in range(len(peaks_idx_P05_rfft_window)):\n",
    "    \n",
    "        freq_half_power[n,0] = ((frequencies[int(index_half_power[n,1])]-frequencies[int(index_half_power[n,0])])/(np.abs(P05_receptance)[int(index_half_power[n,1])]-np.abs(P05_receptance)[int(index_half_power[n,0])]))*(half_power[peaks_idx_P05_rfft_window[n]]-np.abs(P05_receptance)[int(index_half_power[n,0])])+frequencies[int(index_half_power[n,0])]\n",
    "        freq_half_power[n,1] = ((frequencies[int(index_half_power[n,3])]-frequencies[int(index_half_power[n,2])])/(np.abs(P05_receptance)[int(index_half_power[n,3])]-np.abs(P05_receptance)[int(index_half_power[n,2])]))*(half_power[peaks_idx_P05_rfft_window[n]]-np.abs(P05_receptance)[int(index_half_power[n,2])])+frequencies[int(index_half_power[n,2])]\n",
    "\n"
   ]
  },
  {
   "cell_type": "code",
   "execution_count": null,
   "metadata": {},
   "outputs": [],
   "source": [
    "# Plot the magnitude\n",
    "for i in range(0, len(peaks_idx_P05_rfft_window)):\n",
    "    plt.figure(figsize = [15,7])\n",
    "    plt.semilogy(frequencies/frequencies[peaks_idx_P05_rfft_window[i]], np.abs(P05_receptance))\n",
    "    plt.ylabel('magnitude')\n",
    "    plt.xlabel('Frequency/Frequency_n [1]')\n",
    "    plt.xlim((frequencies[peaks_idx_P05_rfft_window[i]]-10)/frequencies[peaks_idx_P05_rfft_window[i]], (frequencies[peaks_idx_P05_rfft_window[i]]+10)/frequencies[peaks_idx_P05_rfft_window[i]])\n",
    "    plt.plot(frequencies[peaks_idx_P05_rfft_window]/frequencies[peaks_idx_P05_rfft_window[i]], np.abs(P05_receptance)[peaks_idx_P05_rfft_window], 'x')\n",
    "    plt.plot(freq_half_power[i,0]/frequencies[peaks_idx_P05_rfft_window[i]], half_power[peaks_idx_P05_rfft_window[i]], 'o')\n",
    "    plt.plot(freq_half_power[i,1]/frequencies[peaks_idx_P05_rfft_window[i]], half_power[peaks_idx_P05_rfft_window[i]], 'o')\n",
    "    plt.title('Point'+str(i+1))\n",
    "    plt.grid()"
   ]
  },
  {
   "cell_type": "code",
   "execution_count": null,
   "metadata": {},
   "outputs": [],
   "source": [
    "freq_half_power"
   ]
  },
  {
   "cell_type": "code",
   "execution_count": null,
   "metadata": {},
   "outputs": [],
   "source": [
    "frequencies[peaks_idx_P05_rfft_window]"
   ]
  },
  {
   "cell_type": "markdown",
   "metadata": {},
   "source": [
    "* what damping factors do you obtain?"
   ]
  },
  {
   "cell_type": "code",
   "execution_count": null,
   "metadata": {},
   "outputs": [],
   "source": [
    "# Damping factor\n",
    "Damping_factor = (freq_half_power[:,1]-freq_half_power[:,0])/(2*frequencies[peaks_idx_P05_rfft_window[:]])"
   ]
  },
  {
   "cell_type": "code",
   "execution_count": null,
   "metadata": {},
   "outputs": [],
   "source": [
    "Damping_factor"
   ]
  },
  {
   "cell_type": "markdown",
   "metadata": {},
   "source": [
    "## Circle Fitting\n",
    "Employ the circle fitting algorithm to determine natural frequencies and damping factors."
   ]
  },
  {
   "cell_type": "markdown",
   "metadata": {},
   "source": [
    "* Develop a function that fits a circle in the nyquist plane to given data points (receptance values and corresponding frequencies). It should return the natural frequency, damping factor and complex valued modal constant."
   ]
  },
  {
   "cell_type": "code",
   "execution_count": null,
   "metadata": {},
   "outputs": [],
   "source": []
  },
  {
   "cell_type": "code",
   "execution_count": null,
   "metadata": {},
   "outputs": [],
   "source": []
  },
  {
   "cell_type": "markdown",
   "metadata": {},
   "source": [
    "* First test your function on a nice, prominant peak of the drive point receptance (e.g. around 73Hz): Select suitable data points (frequency range) for the fit. Plot your fit in the Nyquist plane. Also plot the transfer function estimation by the cicle fit, i.e. $$ H(\\omega) = \\frac{C_k}{\\omega_k^2 - \\omega^2 + 2j \\omega_k\\zeta_k\\omega}+D_k$$ in a wider frequency range, and compare it to the data to see how the fit performs.\n",
    "\n",
    "* Use your function and determine suitable frequency ranges to fit all natural frequencies. For some it might be useful to switch to a different transfer function, where the peak under consideration is more prominant."
   ]
  },
  {
   "cell_type": "code",
   "execution_count": null,
   "metadata": {},
   "outputs": [],
   "source": []
  },
  {
   "cell_type": "markdown",
   "metadata": {},
   "source": [
    "* Use the circle fit algorithm to determine the modal constants for all measured locations (=recpetance functions). Use the frequency ranges (around the peaks) determined above."
   ]
  },
  {
   "cell_type": "code",
   "execution_count": null,
   "metadata": {},
   "outputs": [],
   "source": []
  },
  {
   "cell_type": "code",
   "execution_count": null,
   "metadata": {},
   "outputs": [],
   "source": []
  },
  {
   "cell_type": "markdown",
   "metadata": {},
   "source": [
    "* Do the natural frequecies and damping factors obtained from different transfer functions differ?"
   ]
  },
  {
   "cell_type": "code",
   "execution_count": null,
   "metadata": {},
   "outputs": [],
   "source": []
  },
  {
   "cell_type": "markdown",
   "metadata": {},
   "source": [
    "* Use the moda parameters obtained via the circle fit to estimate the drive point recepance. Plot the measured repeptance, the single dregree of freedom estimates from the circle fit, as well as their sum (all in one plot to compare)."
   ]
  },
  {
   "cell_type": "code",
   "execution_count": null,
   "metadata": {},
   "outputs": [],
   "source": []
  },
  {
   "cell_type": "markdown",
   "metadata": {},
   "source": [
    "## Task 2: Compute the Mode Shapes\n",
    "\n",
    "Having obtained natural frequencies and damping factors, from peak-picking (maximum maplitude, quadrature component, ...) use the recepance curves to determine the modal constants and mode shapes.\n",
    "The mode shapes will be complex valued in ganeral (due to the damping present in the system). As the are complex-valued you can display them as real/imaginary part, or absolute value and phase. Try both!"
   ]
  },
  {
   "cell_type": "code",
   "execution_count": null,
   "metadata": {},
   "outputs": [],
   "source": [
    "def plotmode2d(v,x,y,lim=None,ax=None) :\n",
    "    \"\"\"plots a mode v defined at the points (x,y)\"\"\"\n",
    "    if lim==None:\n",
    "        lim = np.max(np.abs(v))\n",
    "    if ax==None:\n",
    "        fig,ax = plt.subplots(figsize=[3.5,2])\n",
    "        returns = (fig,ax)\n",
    "    else :\n",
    "        returns = ax\n",
    "    ax.tricontourf(x,y,v,cmap=plt.get_cmap('RdBu_r'),vmin=-lim,vmax=lim)\n",
    "    ax.set_aspect('equal')\n",
    "    ax.set_xticks([])\n",
    "    ax.set_yticks([])\n",
    "    #fig.tight_layout()\n",
    "    return returns\n",
    "\n",
    "coordinates = loadtxt('measurement-coordinates.txt')"
   ]
  },
  {
   "cell_type": "markdown",
   "metadata": {},
   "source": [
    "* Compute and plot the mode shapes from the peak-picking procedure"
   ]
  },
  {
   "cell_type": "code",
   "execution_count": null,
   "metadata": {},
   "outputs": [],
   "source": [
    "#Compute rffts for every point\n",
    "P_rfft_window = np.zeros((3043,24),dtype= complex)\n",
    "H_aa = np.zeros((3043,24),dtype= complex)\n",
    "for i,j in enumerate(range(2,26),0):\n",
    "    P_rfft_window[:,i] = rfft(data[:,j]*W)\n",
    "    H_aa[:,i] = rfft(data[:,j]*W)/rfft(data[:,j]*W)"
   ]
  },
  {
   "cell_type": "code",
   "execution_count": null,
   "metadata": {},
   "outputs": [],
   "source": [
    "#Compute modal constants\n",
    "Modal_constants = np.zeros((5,24),dtype= complex)\n",
    "for i in range(P_rfft_window.shape[1]):\n",
    "    Modal_constants[:,i]= P_rfft_window[:,i][peaks_idx_P05_rfft_window]*2j*frequencies[peaks_idx_P05_rfft_window]**2*Damping_factor"
   ]
  },
  {
   "cell_type": "code",
   "execution_count": null,
   "metadata": {},
   "outputs": [],
   "source": [
    "#Compute modes\n",
    "Input_modes = np.zeros((5,24), dtype =complex)\n",
    "Output_modes = np.zeros((5,24), dtype =complex)\n",
    "for i in range(H_aa.shape[1]):\n",
    "    Input_modes[:,i] = (2j*frequencies[peaks_idx_P05_rfft_window]**2*Damping_factor*H_aa[:,i][peaks_idx_P05_rfft_window])**0.5\n",
    "    Output_modes[:,i] = Modal_constants[:,i]/Input_modes[:,i]"
   ]
  },
  {
   "cell_type": "markdown",
   "metadata": {},
   "source": [
    "* Compute and plot the modes from circle fitting"
   ]
  },
  {
   "cell_type": "code",
   "execution_count": null,
   "metadata": {},
   "outputs": [],
   "source": []
  },
  {
   "cell_type": "code",
   "execution_count": null,
   "metadata": {},
   "outputs": [],
   "source": []
  },
  {
   "cell_type": "markdown",
   "metadata": {},
   "source": [
    "* animate selected mode shapes. What do you observe?"
   ]
  },
  {
   "cell_type": "code",
   "execution_count": null,
   "metadata": {},
   "outputs": [],
   "source": []
  },
  {
   "cell_type": "code",
   "execution_count": null,
   "metadata": {},
   "outputs": [],
   "source": []
  },
  {
   "cell_type": "code",
   "execution_count": null,
   "metadata": {},
   "outputs": [],
   "source": []
  },
  {
   "cell_type": "code",
   "execution_count": null,
   "metadata": {},
   "outputs": [],
   "source": []
  },
  {
   "cell_type": "code",
   "execution_count": null,
   "metadata": {},
   "outputs": [],
   "source": []
  },
  {
   "cell_type": "code",
   "execution_count": null,
   "metadata": {},
   "outputs": [],
   "source": []
  },
  {
   "cell_type": "code",
   "execution_count": null,
   "metadata": {},
   "outputs": [],
   "source": []
  },
  {
   "cell_type": "markdown",
   "metadata": {},
   "source": [
    "## Ibrahim Time Domain Method\n",
    "\n",
    "Implement the Ibrahim Time Domain method to use it on the data from the impact hammer experiemnt.\n",
    "Since the ITD operates on the free oscillation response in terms of the degrees of freedom (displacements in our case) you need to either compute the impulse respone from the accelerance using an inverse FFT or use the provided displacement data in `measurement-ITD.txt`."
   ]
  },
  {
   "cell_type": "markdown",
   "metadata": {},
   "source": [
    "* implement the ITD alogithm. Use the following skeleton\n",
    "\n",
    "```python\n",
    "def ITD(D,dt=1.0,n1=1,n3=17,tol=1.0):\n",
    "    \"\"\"Ibrahim time domain identification alogithm\n",
    "    \n",
    "    Parameters\n",
    "    ----------\n",
    "    D : array(N,M)\n",
    "        matrix containing data at N measurement positions\n",
    "        time sampled at M times\n",
    "    dt : float\n",
    "        sampling interval\n",
    "    n1 : int\n",
    "        number samples to shift between measurement matrix X1 and\n",
    "        its time shifted companion X2\n",
    "    n3 : int\n",
    "        number samples to shift between upper and lower part of\n",
    "        X1 and X2, respectively\n",
    "    tol : float\n",
    "        tolerance for the MSCCF used to sort out computational modes.\n",
    "        only modes abs(MSCCF-1)<tol are returned. \n",
    "        \n",
    "    Returns\n",
    "    -------\n",
    "    lam : array(K)\n",
    "        identified eigenvalues, only positive frequencies are returned\n",
    "    V : array(N,K)\n",
    "        corresponding eigenvectors\n",
    "    MSCCF : array(K)\n",
    "        the mode shape correlation and confidence factor\n",
    "    \"\"\"\n",
    "    \n",
    "    # 1) determine which samples should be selected in X1 and X2\n",
    "    Nt = D.shape[1]\n",
    "    It1 = arange(0,Nt-n3-n1,1)\n",
    "    # 2) select samples from data matrix\n",
    "    X1u = D[:,It1] # upper part\n",
    "    X1l = D[:,It1+n3] # lower part (shifted by n3 samples)\n",
    "    X2u = D[:,It1+n1] # time shifted companion (shifted by n1 samples)\n",
    "    X2l = D[:,It1+n1+n3]\n",
    "    # 3) assmble X1 and X2\n",
    "    # 4) compute A: use a robust inverse like numpy's linalg.pinv, or solve linear systems\n",
    "    # 5) solve eigenvalue problem\n",
    "    # 6) convert eigenvalues\n",
    "    # 7) compute MSCCF and choose what to return\n",
    "    \n",
    "    return lam, V\n",
    "```"
   ]
  },
  {
   "cell_type": "code",
   "execution_count": null,
   "metadata": {},
   "outputs": [],
   "source": []
  },
  {
   "cell_type": "markdown",
   "metadata": {},
   "source": [
    "* use the ITD to identify modes from the impulse response. Choose what data to take (which time range is useful?), and what sampling parameters are suitable. Plot the input data over time (all signals in one plot)."
   ]
  },
  {
   "cell_type": "code",
   "execution_count": null,
   "metadata": {},
   "outputs": [],
   "source": []
  },
  {
   "cell_type": "markdown",
   "metadata": {},
   "source": [
    "* plot the obtained modes and give their natural frequencies, damping factors, and MSCCFs."
   ]
  },
  {
   "cell_type": "code",
   "execution_count": null,
   "metadata": {},
   "outputs": [],
   "source": []
  },
  {
   "cell_type": "code",
   "execution_count": null,
   "metadata": {},
   "outputs": [],
   "source": []
  },
  {
   "cell_type": "markdown",
   "metadata": {},
   "source": [
    "## Compare mode shapes\n",
    "\n",
    "Use the MAC / MSF to compare your identified modes with the deformation modes of the free-free plate."
   ]
  },
  {
   "cell_type": "code",
   "execution_count": null,
   "metadata": {},
   "outputs": [],
   "source": []
  },
  {
   "cell_type": "markdown",
   "metadata": {},
   "source": [
    "* Compute the free-free modes and interpolate/evaluate them at the measurement locations."
   ]
  },
  {
   "cell_type": "code",
   "execution_count": null,
   "metadata": {},
   "outputs": [],
   "source": []
  },
  {
   "cell_type": "markdown",
   "metadata": {},
   "source": [
    "* Compute the MAC-matrix between the \"experimental\" modes from peak-picking and the \"numeric\" free-free modes. Plot the matrix and ude it to identify the best-fitting \"experimental\" mode for each \"numeric\" deformation mode."
   ]
  },
  {
   "cell_type": "code",
   "execution_count": null,
   "metadata": {},
   "outputs": [],
   "source": []
  },
  {
   "cell_type": "markdown",
   "metadata": {},
   "source": [
    "* Plot the mode shapes of the correlated mode pair to check. Do the frequencies match? Which threshold value of the MAC is suitable to select \"correlated\" modes?"
   ]
  },
  {
   "cell_type": "code",
   "execution_count": null,
   "metadata": {},
   "outputs": [],
   "source": []
  },
  {
   "cell_type": "markdown",
   "metadata": {},
   "source": [
    "* Do the same for the modes from circle fitting. Mark the impact location in the plots. Give frequencies and damping ratios, as well as absolute value and phase of the MSF between \"numeric\" and \"experimental\" modes."
   ]
  },
  {
   "cell_type": "code",
   "execution_count": null,
   "metadata": {},
   "outputs": [],
   "source": []
  },
  {
   "cell_type": "markdown",
   "metadata": {},
   "source": [
    "* Do the same for the modes form the ITD"
   ]
  },
  {
   "cell_type": "code",
   "execution_count": null,
   "metadata": {},
   "outputs": [],
   "source": []
  }
 ],
 "metadata": {
  "kernelspec": {
   "display_name": "Python 3",
   "language": "python",
   "name": "python3"
  },
  "language_info": {
   "codemirror_mode": {
    "name": "ipython",
    "version": 3
   },
   "file_extension": ".py",
   "mimetype": "text/x-python",
   "name": "python",
   "nbconvert_exporter": "python",
   "pygments_lexer": "ipython3",
   "version": "3.7.4"
  }
 },
 "nbformat": 4,
 "nbformat_minor": 2
}
