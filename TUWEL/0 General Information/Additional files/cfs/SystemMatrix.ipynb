{
 "cells": [
  {
   "cell_type": "code",
   "execution_count": null,
   "metadata": {
    "collapsed": true
   },
   "outputs": [],
   "source": [
    "from scipy.io import mminfo,mmread,mmwrite\n",
    "import matplotlib.pyplot as plt\n",
    "%matplotlib inline\n",
    "\n",
    "import numpy as np"
   ]
  },
  {
   "cell_type": "code",
   "execution_count": null,
   "metadata": {
    "collapsed": false
   },
   "outputs": [],
   "source": [
    "M = mmread('test_mass.mtx').toarray()\n",
    "K = mmread('test_stiffness.mtx').toarray()\n",
    "\n",
    "N = M.shape[0] # number of dofs\n",
    "M.shape,K.shape"
   ]
  },
  {
   "cell_type": "code",
   "execution_count": null,
   "metadata": {
    "collapsed": false
   },
   "outputs": [],
   "source": [
    "from scipy.linalg import eigh\n",
    "\n",
    "k = 15\n",
    "W,V = eigh(K,M,eigvals=(0,k))\n",
    "np.sqrt(W)"
   ]
  },
  {
   "cell_type": "code",
   "execution_count": null,
   "metadata": {
    "collapsed": false
   },
   "outputs": [],
   "source": [
    "# plot the structure of the matrix\n",
    "def matplot(M,frac=0.2) :\n",
    "    from matplotlib.pyplot import subplots, cm\n",
    "    from numpy import max, abs\n",
    "    lim = max(abs(M))*frac\n",
    "    fig,ax = subplots()\n",
    "    cax = ax.matshow(M,cmap=cm.RdBu_r,vmin=-lim,vmax=lim)\n",
    "    fig.colorbar(cax,extend='both')\n",
    "    return fig,ax\n",
    "\n",
    "matplot(M)\n",
    "matplot(K)"
   ]
  },
  {
   "cell_type": "code",
   "execution_count": null,
   "metadata": {
    "collapsed": false
   },
   "outputs": [],
   "source": [
    "# Test the order of coorniates with respect to the ordering in the system matrix:\n",
    "# - compare system-result (test_mode_i.vec) with result from hdf5\n",
    "i = 6 # can only check this for distinct modes (non-zero frequency, i>=6)\n",
    "import h5py\n",
    "h5 = h5py.File('results_hdf5/JOB.cfs')\n",
    "coord = h5['Mesh/Nodes/Coordinates'].value\n",
    "\n",
    "# -> the coordinates are written in reverse order with respect to the system matrices\n",
    "# -> the system matrix result vector is 1_x,1_y,1_z,2_x, ..., N_z\n",
    "# -> coord order in h5 is N, N-1, \n",
    "X = coord[::-1,:]\n",
    "\n",
    "# load real value\n",
    "mode_h5 = h5['Results/Mesh/MultiStep_1/Step_%i/mechDisplacement/V_plate/Nodes/Real'%i].value\n",
    "h5.close()\n",
    "\n",
    "\n",
    "mode_vec = np.loadtxt('test_mode_%i.vec'%im) \n",
    "# contains real and imaginary part in columns\n",
    "# -> the system matrix result vector is 1_x,1_y,1_z,2_x, ..., N_z\n",
    "\n",
    "# check if solutions are equal\n",
    "np.allclose( mode_h5[::-1,:].ravel(), mode_vec[:,0] )"
   ]
  },
  {
   "cell_type": "code",
   "execution_count": null,
   "metadata": {
    "collapsed": false
   },
   "outputs": [],
   "source": [
    "# resort everything\n",
    "nprec = 6\n",
    "# get grid vectors (the unique vectors of the x,y,z coodinate-grid)\n",
    "x = np.unique(np.round(coord[:,0],decimals=nprec))\n",
    "y = np.unique(np.round(coord[:,1],decimals=nprec))\n",
    "z = np.unique(np.round(coord[:,2],decimals=nprec))\n",
    "print('Nx=',len(x))\n",
    "print('Ny=',len(y))\n",
    "print('Nz=',len(z))\n",
    "# find nodes in grid\n",
    "Xg,Yg,Zg  = np.meshgrid(x,y,z)\n",
    "coord_s = np.array([Xg.ravel(),Yg.ravel(),Zg.ravel()]).T\n",
    "Is = np.zeros([coord.shape[0]],dtype=int)\n",
    "for i,(xi,yi,zi) in enumerate(coord_s):\n",
    "    #print(np.array([coord[:,0]-x,coord[:,1]-y,coord[:,2]-z]).shape)\n",
    "    #print(np.argwhere(np.abs(coord[:,0]-x)<=np.power(10,-nprec)))\n",
    "    idx = np.argwhere(np.all(np.abs(np.array([X[:,0]-xi,X[:,1]-yi,X[:,2]-zi]))<=np.power(10.,-nprec),axis=0))\n",
    "    if len(idx)==0 :\n",
    "        print('error:',i,xi,yi,zi)\n",
    "    else :\n",
    "        Is[i] = idx[0][0]\n",
    "        \n",
    "# for the system matrix \n",
    "Im = np.array([Is*3,Is*3+1,Is*3+2]).T.ravel()\n",
    "\n",
    "# resosrt\n",
    "K = K[Im,:][:,Im]\n",
    "M = M[Im,:][:,Im]\n",
    "X = X[Is,:]"
   ]
  },
  {
   "cell_type": "code",
   "execution_count": null,
   "metadata": {
    "collapsed": true
   },
   "outputs": [],
   "source": [
    "# save\n",
    "mmwrite('../exercises/M.mtx',M,comment='NxN mass matrix with DoF order 1_x,1_y,1_z,2_x, ..., N_z')\n",
    "mmwrite('../exercises/K.mtx',K,comment='NxN stiffness matrix with DoF order: 1_x,1_y,1_z,2_x, ..., N_z')\n",
    "mmwrite('../exercises/X.mtx',X,comment='Nx3 coordinate matrix with columns containing the x,y,z coordinates for DoFs 1,...,N')"
   ]
  },
  {
   "cell_type": "code",
   "execution_count": null,
   "metadata": {
    "collapsed": false
   },
   "outputs": [],
   "source": [
    "from scipy import sparse\n",
    "Ks = sparse.csr_matrix(K)\n",
    "Ms = sparse.csr_matrix(M)\n",
    "mmwrite('../exercises/Ms.mtx',Ms,comment='NxN mass matrix with DoF order 1_x,1_y,1_z,2_x, ..., N_z')\n",
    "mmwrite('../exercises/Ks.mtx',Ks,comment='NxN stiffness matrix with DoF order 1_x,1_y,1_z,2_x, ..., N_z')"
   ]
  },
  {
   "cell_type": "code",
   "execution_count": null,
   "metadata": {
    "collapsed": false
   },
   "outputs": [],
   "source": [
    "matplot(M)\n",
    "matplot(K)"
   ]
  },
  {
   "cell_type": "markdown",
   "metadata": {},
   "source": [
    "## ToDo\n",
    "\n",
    "* animate modes\n",
    "* plot middle nodes in 3d\n",
    "* implement constraint equations\n",
    "* "
   ]
  }
 ],
 "metadata": {
  "kernelspec": {
   "display_name": "Python 3",
   "language": "python",
   "name": "python3"
  },
  "language_info": {
   "codemirror_mode": {
    "name": "ipython",
    "version": 3
   },
   "file_extension": ".py",
   "mimetype": "text/x-python",
   "name": "python",
   "nbconvert_exporter": "python",
   "pygments_lexer": "ipython3",
   "version": "3.6.0"
  }
 },
 "nbformat": 4,
 "nbformat_minor": 0
}
